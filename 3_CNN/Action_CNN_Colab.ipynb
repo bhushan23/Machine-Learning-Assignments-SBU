{
 "cells": [
  {
   "cell_type": "markdown",
   "metadata": {
    "colab_type": "text",
    "id": "np15PzKFLq2m"
   },
   "source": [
    "# Training a ConvNet PyTorch\n",
    "\n",
    "In this notebook, you'll learn how to use the powerful PyTorch framework to specify a conv net architecture and train it on the human action recognition dataset. \n"
   ]
  },
  {
   "cell_type": "code",
   "execution_count": null,
   "metadata": {
    "colab": {
     "autoexec": {
      "startup": false,
      "wait_interval": 0
     }
    },
    "colab_type": "code",
    "id": "Tej-HjR8Lq2o"
   },
   "outputs": [],
   "source": [
    "import torch\n",
    "import torch.nn as nn\n",
    "import torch.optim as optim\n",
    "from torch.autograd import Variable\n",
    "from torch.utils.data import DataLoader,sampler,Dataset\n",
    "import torchvision.datasets as dset\n",
    "import torchvision.transforms as T\n",
    "import timeit\n",
    "from PIL import Image\n",
    "import os\n",
    "import numpy as np\n",
    "import scipy.io\n"
   ]
  },
  {
   "cell_type": "code",
   "execution_count": 3,
   "metadata": {
    "colab": {
     "autoexec": {
      "startup": false,
      "wait_interval": 0
     },
     "base_uri": "https://localhost:8080/",
     "height": 51
    },
    "colab_type": "code",
    "executionInfo": {
     "elapsed": 16224,
     "status": "ok",
     "timestamp": 1523491798226,
     "user": {
      "displayName": "Bhushan Sonawane",
      "photoUrl": "https://lh3.googleusercontent.com/a/default-user=s128",
      "userId": "110462201665686822019"
     },
     "user_tz": 240
    },
    "id": "ArjrcfiSL23G",
    "outputId": "9d2ddc87-0c1b-46ef-f23a-6e35add4bba7"
   },
   "outputs": [
    {
     "name": "stdout",
     "output_type": "stream",
     "text": [
      "Requirement already satisfied: scipy in /usr/local/lib/python2.7/dist-packages\n",
      "Requirement already satisfied: numpy>=1.8.2 in /usr/local/lib/python2.7/dist-packages (from scipy)\n"
     ]
    }
   ],
   "source": [
    "# # http://pytorch.org/\n",
    "# from os import path\n",
    "# from wheel.pep425tags import get_abbr_impl, get_impl_ver, get_abi_tag\n",
    "# platform = '{}{}-{}'.format(get_abbr_impl(), get_impl_ver(), get_abi_tag())\n",
    "\n",
    "# accelerator = 'cu80' if path.exists('/opt/bin/nvidia-smi') else 'cpu'\n",
    "\n",
    "# # !pip install -q http://download.pytorch.org/whl/{accelerator}/torch-0.3.0.post4-{platform}-linux_x86_64.whl torchvision\n",
    "# # import torc\n",
    "# !pip install scipy"
   ]
  },
  {
   "cell_type": "code",
   "execution_count": null,
   "metadata": {
    "colab": {
     "autoexec": {
      "startup": false,
      "wait_interval": 0
     }
    },
    "colab_type": "code",
    "id": "jN5j_EhZL2Rh"
   },
   "outputs": [],
   "source": [
    "# !pip install -U -q PyDrive\n",
    "\n",
    "# from pydrive.auth import GoogleAuth\n",
    "# from pydrive.drive import GoogleDrive\n",
    "# from google.colab import auth\n",
    "# from oauth2client.client import GoogleCredentials\n",
    "\n",
    "# # 1. Authenticate and create the PyDrive client.\n",
    "# auth.authenticate_user()\n",
    "# gauth = GoogleAuth()\n",
    "# gauth.credentials = GoogleCredentials.get_application_default()\n",
    "# drive = GoogleDrive(gauth)\n",
    "\n",
    "# # PyDrive reference:\n",
    "# # https://googledrive.github.io/PyDrive/docs/build/html/index.html\n",
    "\n",
    "# # 2. Create & upload a file text file.\n",
    "# uploaded = drive.CreateFile({'title': 'Sample upload.txt'})\n"
   ]
  },
  {
   "cell_type": "code",
   "execution_count": 7,
   "metadata": {
    "colab": {
     "autoexec": {
      "startup": false,
      "wait_interval": 0
     },
     "base_uri": "https://localhost:8080/",
     "height": 34
    },
    "colab_type": "code",
    "executionInfo": {
     "elapsed": 1359,
     "status": "ok",
     "timestamp": 1523491845482,
     "user": {
      "displayName": "Bhushan Sonawane",
      "photoUrl": "https://lh3.googleusercontent.com/a/default-user=s128",
      "userId": "110462201665686822019"
     },
     "user_tz": 240
    },
    "id": "PZ1bxeIwL-m6",
    "outputId": "dd15419a-723d-4de1-979b-a0d9df783dd4"
   },
   "outputs": [
    {
     "name": "stdout",
     "output_type": "stream",
     "text": [
      "data.zip\n"
     ]
    }
   ],
   "source": [
    "#fileId = drive.CreateFile({'id': '1eGfovYSMsqTUlyXksU35FHOq1EB9LAQt'}) #DRIVE_FILE_ID is file id example: 1iytA1n2z4go3uVCwE_vIKouTKyIDjEq\n",
    "#print(fileId['title']) # folder_data.zip\n",
    "#fileId.GetContentFile('data.zip')\n"
   ]
  },
  {
   "cell_type": "code",
   "execution_count": 1,
   "metadata": {
    "colab": {
     "autoexec": {
      "startup": false,
      "wait_interval": 0
     },
     "base_uri": "https://localhost:8080/",
     "height": 902513
    },
    "colab_type": "code",
    "executionInfo": {
     "elapsed": 10976,
     "status": "ok",
     "timestamp": 1523491875121,
     "user": {
      "displayName": "Bhushan Sonawane",
      "photoUrl": "https://lh3.googleusercontent.com/a/default-user=s128",
      "userId": "110462201665686822019"
     },
     "user_tz": 240
    },
    "id": "26N3JzYKMPet",
    "outputId": "bff40db8-e07c-4d89-ef47-9b511f129348"
   },
   "outputs": [],
   "source": [
    "#!unzip data.zip -d ./"
   ]
  },
  {
   "cell_type": "code",
   "execution_count": null,
   "metadata": {
    "colab": {
     "autoexec": {
      "startup": false,
      "wait_interval": 0
     }
    },
    "colab_type": "code",
    "id": "2gFPJXrtLq2s"
   },
   "outputs": [],
   "source": [
    "# Helper functions\n",
    "\n",
    "IS_CUDA = False\n",
    "if torch.cuda.is_available():\n",
    "    IS_CUDA = True\n",
    "\n",
    "def var(x):\n",
    "    if IS_CUDA:\n",
    "        x = x.cuda()\n",
    "    return Variable(x)\n",
    "\n",
    "def makeCuda():\n",
    "    if IS_CUDA:\n",
    "        x = x.cuda()\n",
    "    return x"
   ]
  },
  {
   "cell_type": "code",
   "execution_count": 3,
   "metadata": {
    "colab": {
     "autoexec": {
      "startup": false,
      "wait_interval": 0
     },
     "base_uri": "https://localhost:8080/",
     "height": 34
    },
    "colab_type": "code",
    "executionInfo": {
     "elapsed": 371,
     "status": "ok",
     "timestamp": 1523492017930,
     "user": {
      "displayName": "Bhushan Sonawane",
      "photoUrl": "https://lh3.googleusercontent.com/a/default-user=s128",
      "userId": "110462201665686822019"
     },
     "user_tz": 240
    },
    "id": "BbKIQl6cMjdq",
    "outputId": "dd462956-9ec4-4d86-caca-1f12f65e53ed"
   },
   "outputs": [
    {
     "data": {
      "text/plain": [
       "True"
      ]
     },
     "execution_count": 3,
     "metadata": {
      "tags": []
     },
     "output_type": "execute_result"
    }
   ],
   "source": [
    "IS_CUDA"
   ]
  },
  {
   "cell_type": "markdown",
   "metadata": {
    "colab_type": "text",
    "id": "2pTPArccLq2w"
   },
   "source": [
    "## What's this PyTorch business?\n",
    "\n",
    "* When using a framework like PyTorch or TensorFlow you can harness the power of the GPU for your own custom neural network architectures without having to write CUDA code directly.\n",
    "* this notebook will walk you through much of what you need to do to train models using pytorch. if you want to learn more or need further clarification on topics that aren't fully explained here, here are 2 good Pytorch tutorials. 1): http://pytorch.org/tutorials/beginner/deep_learning_60min_blitz.html 2)http://pytorch.org/tutorials/beginner/pytorch_with_examples.html\n",
    "* It's not necessary to have a GPU for this homework, using a GPU can make your code run faster.\n"
   ]
  },
  {
   "cell_type": "markdown",
   "metadata": {
    "colab_type": "text",
    "id": "9cZ13IQWLq2x"
   },
   "source": [
    "## Load Datasets\n",
    "\n",
    "In this part, we will load the action recognition dataset for the neural network. In order to load data from our custom dataset, we need to write a custom Dataloader. If you put q3_2_data.mat, /valClips,/trainClips,/testClips under the folder of ./data/ , you do not need to change anything in this part."
   ]
  },
  {
   "cell_type": "markdown",
   "metadata": {
    "colab_type": "text",
    "id": "e3tvskYvLq2x"
   },
   "source": [
    "First, load the labels of the dataset, you should write your path of the q3_2_data.mat file."
   ]
  },
  {
   "cell_type": "code",
   "execution_count": 4,
   "metadata": {
    "colab": {
     "autoexec": {
      "startup": false,
      "wait_interval": 0
     },
     "base_uri": "https://localhost:8080/",
     "height": 51
    },
    "colab_type": "code",
    "collapsed": true,
    "executionInfo": {
     "elapsed": 432,
     "status": "ok",
     "timestamp": 1523492021528,
     "user": {
      "displayName": "Bhushan Sonawane",
      "photoUrl": "https://lh3.googleusercontent.com/a/default-user=s128",
      "userId": "110462201665686822019"
     },
     "user_tz": 240
    },
    "id": "UivTQvEiLq2y",
    "outputId": "54731e9a-5e5d-4789-c749-851ab5d562aa"
   },
   "outputs": [
    {
     "name": "stdout",
     "output_type": "stream",
     "text": [
      "7770\n",
      "2230\n"
     ]
    }
   ],
   "source": [
    "label_mat=scipy.io.loadmat('./data/q3_2_data.mat')\n",
    "label_train=label_mat['trLb']\n",
    "print(len(label_train))\n",
    "label_val=label_mat['valLb']\n",
    "print(len(label_val))"
   ]
  },
  {
   "cell_type": "markdown",
   "metadata": {
    "colab_type": "text",
    "id": "VGfMerlXLq24"
   },
   "source": [
    "### Dataset class\n",
    "\n",
    "torch.utils.data.Dataset is an abstract class representing a dataset. The custom dataset should inherit Dataset and override the following methods:\n",
    "\n",
    "    __len__ so that len(dataset) returns the size of the dataset.\n",
    "    __getitem__ to support the indexing such that dataset[i] can be used to get ith sample\n",
    "\n",
    "Let’s create a dataset class for our action recognition dataset. We will read images in __getitem__. This is memory efficient because all the images are not stored in the memory at once but read as required.\n",
    "\n",
    "Sample of our dataset will be a dict {'image':image,'img_path':img_path,'Label':Label}. Our datset will take an optional argument transform so that any required processing can be applied on the sample. "
   ]
  },
  {
   "cell_type": "code",
   "execution_count": null,
   "metadata": {
    "colab": {
     "autoexec": {
      "startup": false,
      "wait_interval": 0
     }
    },
    "colab_type": "code",
    "id": "9JG7Le5OLq25"
   },
   "outputs": [],
   "source": [
    "%matplotlib inline\n",
    "class ActionDataset(Dataset):\n",
    "    \"\"\"Action dataset.\"\"\"\n",
    "\n",
    "    def __init__(self,  root_dir,labels=[], transform=None):\n",
    "        \"\"\"\n",
    "        Args:\n",
    "            root_dir (string): Directory with all the images.\n",
    "            labels(list): labels if images.\n",
    "            transform (callable, optional): Optional transform to be applied on a sample.\n",
    "        \"\"\"\n",
    "        self.root_dir = root_dir\n",
    "        self.transform = transform\n",
    "        self.length=len(os.listdir(self.root_dir))\n",
    "        self.labels=labels\n",
    "    def __len__(self):\n",
    "        return self.length*3\n",
    "\n",
    "    def __getitem__(self, idx):\n",
    "        \n",
    "        folder= int(idx/3+1)\n",
    "        imidx=int(idx%3+1)\n",
    "        folder=format(folder,'05d')\n",
    "        imgname=str(imidx)+'.jpg'\n",
    "        img_path = os.path.join(self.root_dir,\n",
    "                                folder,imgname)\n",
    "        image = Image.open(img_path)\n",
    "        if len(self.labels)!=0:\n",
    "            Label=self.labels[int(idx/3)][0]-1\n",
    "        if self.transform:\n",
    "            image = self.transform(image)\n",
    "        if len(self.labels)!=0:\n",
    "            sample={'image':image,'img_path':img_path,'Label':Label}\n",
    "        else:\n",
    "            sample={'image':image,'img_path':img_path}\n",
    "        return sample\n",
    "  "
   ]
  },
  {
   "cell_type": "code",
   "execution_count": 2,
   "metadata": {
    "colab": {
     "autoexec": {
      "startup": false,
      "wait_interval": 0
     },
     "base_uri": "https://localhost:8080/",
     "height": 306
    },
    "colab_type": "code",
    "executionInfo": {
     "elapsed": 14043,
     "status": "ok",
     "timestamp": 1523492036632,
     "user": {
      "displayName": "Bhushan Sonawane",
      "photoUrl": "https://lh3.googleusercontent.com/a/default-user=s128",
      "userId": "110462201665686822019"
     },
     "user_tz": 240
    },
    "id": "Kk2pViSqMSOM",
    "outputId": "7982440e-4052-4164-9703-86098829a9d8"
   },
   "outputs": [],
   "source": [
    "# !pip install Pillow==4.0.0\n",
    "# !pip install PIL\n",
    "# !pip install image\n",
    "# from PIL import Image"
   ]
  },
  {
   "cell_type": "markdown",
   "metadata": {
    "colab_type": "text",
    "id": "_RwWkZidLq28"
   },
   "source": [
    "Iterating over the dataset by a for loop."
   ]
  },
  {
   "cell_type": "code",
   "execution_count": 12,
   "metadata": {
    "colab": {
     "autoexec": {
      "startup": false,
      "wait_interval": 0
     },
     "base_uri": "https://localhost:8080/",
     "height": 527
    },
    "colab_type": "code",
    "collapsed": true,
    "executionInfo": {
     "elapsed": 331,
     "status": "ok",
     "timestamp": 1523492066356,
     "user": {
      "displayName": "Bhushan Sonawane",
      "photoUrl": "https://lh3.googleusercontent.com/a/default-user=s128",
      "userId": "110462201665686822019"
     },
     "user_tz": 240
    },
    "id": "D_kpV26JLq29",
    "outputId": "b84f280f-75d2-4d65-a97f-adb413e9becb"
   },
   "outputs": [
    {
     "name": "stdout",
     "output_type": "stream",
     "text": [
      "torch.Size([3, 64, 64])\n",
      "0.0\n",
      "./data/trainClips/00001/1.jpg\n",
      "torch.Size([3, 64, 64])\n",
      "0.0\n",
      "./data/trainClips/00001/2.jpg\n",
      "torch.Size([3, 64, 64])\n",
      "0.0\n",
      "./data/trainClips/00001/3.jpg\n",
      "torch.Size([3, 64, 64])\n",
      "0.0\n",
      "./data/trainClips/00002/1.jpg\n",
      "torch.Size([3, 64, 64])\n",
      "0.0\n",
      "./data/trainClips/00002/2.jpg\n",
      "torch.Size([3, 64, 64])\n",
      "0.0\n",
      "./data/trainClips/00002/3.jpg\n",
      "torch.Size([3, 64, 64])\n",
      "0.0\n",
      "./data/trainClips/00003/1.jpg\n",
      "torch.Size([3, 64, 64])\n",
      "0.0\n",
      "./data/trainClips/00003/2.jpg\n",
      "torch.Size([3, 64, 64])\n",
      "0.0\n",
      "./data/trainClips/00003/3.jpg\n",
      "torch.Size([3, 64, 64])\n",
      "0.0\n",
      "./data/trainClips/00004/1.jpg\n"
     ]
    }
   ],
   "source": [
    "image_dataset=ActionDataset(root_dir='./data/trainClips/',\\\n",
    "                            labels=label_train,transform=T.ToTensor())\n",
    "\n",
    "#iterating though the dataset\n",
    "for i in range(10):\n",
    "    sample=image_dataset[i]\n",
    "    print(sample['image'].shape)\n",
    "    print(sample['Label'])\n",
    "    print(sample['img_path'])\n",
    "     \n",
    "   "
   ]
  },
  {
   "cell_type": "markdown",
   "metadata": {
    "colab_type": "text",
    "id": "NikjwEsaLq3C"
   },
   "source": [
    "We can iterate over the created dataset with a 'for' loop as before. However, we are losing a lot of features by using a simple for loop to iterate over the data. In particular, we are missing out on:\n",
    "\n",
    "* Batching the data\n",
    "* Shuffling the data\n",
    "* Load the data in parallel using multiprocessing workers.\n",
    "\n",
    "torch.utils.data.DataLoader is an iterator which provides all these features. "
   ]
  },
  {
   "cell_type": "code",
   "execution_count": 13,
   "metadata": {
    "colab": {
     "autoexec": {
      "startup": false,
      "wait_interval": 0
     },
     "base_uri": "https://localhost:8080/",
     "height": 2635
    },
    "colab_type": "code",
    "collapsed": true,
    "executionInfo": {
     "elapsed": 657,
     "status": "ok",
     "timestamp": 1523492067739,
     "user": {
      "displayName": "Bhushan Sonawane",
      "photoUrl": "https://lh3.googleusercontent.com/a/default-user=s128",
      "userId": "110462201665686822019"
     },
     "user_tz": 240
    },
    "id": "8r0FbDGGLq3D",
    "outputId": "e50cfc48-65af-4026-e6ee-2d32ffb8dfe0"
   },
   "outputs": [
    {
     "name": "stdout",
     "output_type": "stream",
     "text": [
      "(0, torch.Size([4, 3, 64, 64]), ['./data/trainClips/02322/2.jpg', './data/trainClips/04419/2.jpg', './data/trainClips/00249/1.jpg', './data/trainClips/06168/1.jpg'], \n",
      " 2\n",
      " 5\n",
      " 0\n",
      " 7\n",
      "[torch.DoubleTensor of size 4]\n",
      ")\n",
      "(1, torch.Size([4, 3, 64, 64]), ['./data/trainClips/00338/1.jpg', './data/trainClips/06637/3.jpg', './data/trainClips/04659/1.jpg', './data/trainClips/07360/2.jpg'], \n",
      " 0\n",
      " 8\n",
      " 5\n",
      " 9\n",
      "[torch.DoubleTensor of size 4]\n",
      ")\n",
      "(2, torch.Size([4, 3, 64, 64]), ['./data/trainClips/06421/2.jpg', './data/trainClips/05755/2.jpg', './data/trainClips/01909/2.jpg', './data/trainClips/02401/3.jpg'], \n",
      " 7\n",
      " 7\n",
      " 2\n",
      " 2\n",
      "[torch.DoubleTensor of size 4]\n",
      ")\n",
      "(3, torch.Size([4, 3, 64, 64]), ['./data/trainClips/01768/2.jpg', './data/trainClips/07269/3.jpg', './data/trainClips/02130/1.jpg', './data/trainClips/04248/3.jpg'], \n",
      " 1\n",
      " 9\n",
      " 2\n",
      " 5\n",
      "[torch.DoubleTensor of size 4]\n",
      ")\n",
      "(4, torch.Size([4, 3, 64, 64]), ['./data/trainClips/00947/2.jpg', './data/trainClips/05398/1.jpg', './data/trainClips/07739/3.jpg', './data/trainClips/05522/2.jpg'], \n",
      " 1\n",
      " 6\n",
      " 9\n",
      " 6\n",
      "[torch.DoubleTensor of size 4]\n",
      ")\n",
      "(5, torch.Size([4, 3, 64, 64]), ['./data/trainClips/00583/3.jpg', './data/trainClips/07147/2.jpg', './data/trainClips/04071/2.jpg', './data/trainClips/00894/1.jpg'], \n",
      " 0\n",
      " 9\n",
      " 4\n",
      " 0\n",
      "[torch.DoubleTensor of size 4]\n",
      ")\n",
      "(6, torch.Size([4, 3, 64, 64]), ['./data/trainClips/00925/1.jpg', './data/trainClips/00669/1.jpg', './data/trainClips/05707/1.jpg', './data/trainClips/02319/2.jpg'], \n",
      " 1\n",
      " 0\n",
      " 7\n",
      " 2\n",
      "[torch.DoubleTensor of size 4]\n",
      ")\n",
      "(7, torch.Size([4, 3, 64, 64]), ['./data/trainClips/04230/3.jpg', './data/trainClips/02214/2.jpg', './data/trainClips/00527/2.jpg', './data/trainClips/05471/2.jpg'], \n",
      " 5\n",
      " 2\n",
      " 0\n",
      " 6\n",
      "[torch.DoubleTensor of size 4]\n",
      ")\n",
      "(8, torch.Size([4, 3, 64, 64]), ['./data/trainClips/04694/1.jpg', './data/trainClips/04400/1.jpg', './data/trainClips/04528/2.jpg', './data/trainClips/03887/1.jpg'], \n",
      " 5\n",
      " 5\n",
      " 5\n",
      " 4\n",
      "[torch.DoubleTensor of size 4]\n",
      ")\n",
      "(9, torch.Size([4, 3, 64, 64]), ['./data/trainClips/01033/2.jpg', './data/trainClips/02795/1.jpg', './data/trainClips/04367/3.jpg', './data/trainClips/05518/1.jpg'], \n",
      " 1\n",
      " 3\n",
      " 5\n",
      " 6\n",
      "[torch.DoubleTensor of size 4]\n",
      ")\n",
      "(10, torch.Size([4, 3, 64, 64]), ['./data/trainClips/00378/2.jpg', './data/trainClips/07767/2.jpg', './data/trainClips/06818/1.jpg', './data/trainClips/03449/2.jpg'], \n",
      " 0\n",
      " 9\n",
      " 8\n",
      " 3\n",
      "[torch.DoubleTensor of size 4]\n",
      ")\n",
      "(11, torch.Size([4, 3, 64, 64]), ['./data/trainClips/01911/1.jpg', './data/trainClips/01747/2.jpg', './data/trainClips/00283/2.jpg', './data/trainClips/06164/1.jpg'], \n",
      " 2\n",
      " 1\n",
      " 0\n",
      " 7\n",
      "[torch.DoubleTensor of size 4]\n",
      ")\n",
      "(12, torch.Size([4, 3, 64, 64]), ['./data/trainClips/01835/2.jpg', './data/trainClips/01014/1.jpg', './data/trainClips/03524/3.jpg', './data/trainClips/06948/2.jpg'], \n",
      " 2\n",
      " 1\n",
      " 4\n",
      " 8\n",
      "[torch.DoubleTensor of size 4]\n",
      ")\n",
      "(13, torch.Size([4, 3, 64, 64]), ['./data/trainClips/01268/2.jpg', './data/trainClips/00584/2.jpg', './data/trainClips/03070/1.jpg', './data/trainClips/04668/2.jpg'], \n",
      " 1\n",
      " 0\n",
      " 3\n",
      " 5\n",
      "[torch.DoubleTensor of size 4]\n",
      ")\n",
      "(14, torch.Size([4, 3, 64, 64]), ['./data/trainClips/03222/3.jpg', './data/trainClips/02432/2.jpg', './data/trainClips/07163/2.jpg', './data/trainClips/06001/3.jpg'], \n",
      " 3\n",
      " 2\n",
      " 9\n",
      " 7\n",
      "[torch.DoubleTensor of size 4]\n",
      ")\n",
      "(15, torch.Size([4, 3, 64, 64]), ['./data/trainClips/05475/2.jpg', './data/trainClips/04711/2.jpg', './data/trainClips/02347/1.jpg', './data/trainClips/06234/2.jpg'], \n",
      " 6\n",
      " 5\n",
      " 2\n",
      " 7\n",
      "[torch.DoubleTensor of size 4]\n",
      ")\n",
      "(16, torch.Size([4, 3, 64, 64]), ['./data/trainClips/06587/2.jpg', './data/trainClips/07334/2.jpg', './data/trainClips/04045/3.jpg', './data/trainClips/03891/2.jpg'], \n",
      " 8\n",
      " 9\n",
      " 4\n",
      " 4\n",
      "[torch.DoubleTensor of size 4]\n",
      ")\n",
      "(17, torch.Size([4, 3, 64, 64]), ['./data/trainClips/01554/1.jpg', './data/trainClips/02021/2.jpg', './data/trainClips/06496/3.jpg', './data/trainClips/00142/3.jpg'], \n",
      " 1\n",
      " 2\n",
      " 8\n",
      " 0\n",
      "[torch.DoubleTensor of size 4]\n",
      ")\n",
      "(18, torch.Size([4, 3, 64, 64]), ['./data/trainClips/07297/3.jpg', './data/trainClips/03117/3.jpg', './data/trainClips/07196/1.jpg', './data/trainClips/02085/2.jpg'], \n",
      " 9\n",
      " 3\n",
      " 9\n",
      " 2\n",
      "[torch.DoubleTensor of size 4]\n",
      ")\n",
      "(19, torch.Size([4, 3, 64, 64]), ['./data/trainClips/05054/2.jpg', './data/trainClips/07352/3.jpg', './data/trainClips/03167/3.jpg', './data/trainClips/02262/2.jpg'], \n",
      " 6\n",
      " 9\n",
      " 3\n",
      " 2\n",
      "[torch.DoubleTensor of size 4]\n",
      ")\n",
      "(20, torch.Size([4, 3, 64, 64]), ['./data/trainClips/07237/1.jpg', './data/trainClips/00686/3.jpg', './data/trainClips/04547/2.jpg', './data/trainClips/01007/3.jpg'], \n",
      " 9\n",
      " 0\n",
      " 5\n",
      " 1\n",
      "[torch.DoubleTensor of size 4]\n",
      ")\n",
      "(21, torch.Size([4, 3, 64, 64]), ['./data/trainClips/02968/2.jpg', './data/trainClips/03412/2.jpg', './data/trainClips/02738/1.jpg', './data/trainClips/03660/2.jpg'], \n",
      " 3\n",
      " 3\n",
      " 3\n",
      " 4\n",
      "[torch.DoubleTensor of size 4]\n",
      ")\n"
     ]
    }
   ],
   "source": [
    "image_dataloader = DataLoader(image_dataset, batch_size=4,\n",
    "                        shuffle=True, num_workers=4)\n",
    "\n",
    "\n",
    "for i,sample in enumerate(image_dataloader):\n",
    "    sample['image'] = var(sample['image'])\n",
    "    print(i,sample['image'].shape,sample['img_path'],sample['Label'])\n",
    "    if i>20: \n",
    "        break"
   ]
  },
  {
   "cell_type": "code",
   "execution_count": null,
   "metadata": {
    "colab": {
     "autoexec": {
      "startup": false,
      "wait_interval": 0
     }
    },
    "colab_type": "code",
    "id": "gWmU7QX7Lq3G"
   },
   "outputs": [],
   "source": [
    "from torchvision import transforms\n",
    "transform = transforms.Compose([\n",
    "                   transforms.ToTensor(),\n",
    "                   transforms.Normalize(mean=(0.5, 0.5, 0.5), \n",
    "                                        std=(0.5, 0.5, 0.5))])\n"
   ]
  },
  {
   "cell_type": "markdown",
   "metadata": {
    "colab_type": "text",
    "id": "4eGeljezLq3J"
   },
   "source": [
    "Dataloaders for the training, validationg and testing set. "
   ]
  },
  {
   "cell_type": "code",
   "execution_count": null,
   "metadata": {
    "colab": {
     "autoexec": {
      "startup": false,
      "wait_interval": 0
     }
    },
    "colab_type": "code",
    "id": "RgVnsJZALq3K"
   },
   "outputs": [],
   "source": [
    "image_dataset_train = ActionDataset(root_dir='./data/trainClips/',labels=label_train,transform=transform)  #T.ToTensor())\n",
    "\n",
    "image_dataloader_train = DataLoader(image_dataset_train, batch_size=64,\n",
    "                        shuffle=True, num_workers=4)\n",
    "image_dataset_val=ActionDataset(root_dir='./data/valClips/',labels=label_val,transform=transform) #T.ToTensor())\n",
    "\n",
    "image_dataloader_val = DataLoader(image_dataset_val, batch_size=16,\n",
    "                        shuffle=True, num_workers=4)\n",
    "image_dataset_test=ActionDataset(root_dir='./data/testClips/',labels=[],transform= transform) #T.ToTensor())\n",
    "\n",
    "image_dataloader_test = DataLoader(image_dataset_test, batch_size=32,\n",
    "                        shuffle=False, num_workers=4)"
   ]
  },
  {
   "cell_type": "code",
   "execution_count": null,
   "metadata": {
    "colab": {
     "autoexec": {
      "startup": false,
      "wait_interval": 0
     }
    },
    "colab_type": "code",
    "id": "2IdghNQuLq3O"
   },
   "outputs": [],
   "source": [
    "dtype = torch.FloatTensor # the CPU datatype\n",
    "# Constant to control how frequently we print train loss\n",
    "print_every = 100\n",
    "# This is a little utility that we'll use to reset the model\n",
    "# if we want to re-initialize all our parameters\n",
    "def reset(m):\n",
    "    if hasattr(m, 'reset_parameters'):\n",
    "        m.reset_parameters()"
   ]
  },
  {
   "cell_type": "markdown",
   "metadata": {
    "colab_type": "text",
    "id": "t7l1oBpVLq3R"
   },
   "source": [
    "## Example Model\n",
    "\n",
    "### Some assorted tidbits\n",
    "\n",
    "Let's start by looking at a simple model. First, note that PyTorch operates on Tensors, which are n-dimensional arrays functionally analogous to numpy's ndarrays, with the additional feature that they can be used for computations on GPUs.\n",
    "\n",
    "We'll provide you with a Flatten function, which we explain here. Remember that our image data (and more relevantly, our intermediate feature maps) are initially N x C x H x W, where:\n",
    "* N is the number of datapoints\n",
    "* C is the number of image channels. \n",
    "* H is the height of the intermediate feature map in pixels\n",
    "* W is the height of the intermediate feature map in pixels\n",
    "\n",
    "This is the right way to represent the data when we are doing something like a 2D convolution, that needs spatial understanding of where the intermediate features are relative to each other. When we input  data into fully connected affine layers, however, we want each datapoint to be represented by a single vector -- it's no longer useful to segregate the different channels, rows, and columns of the data. So, we use a \"Flatten\" operation to collapse the C x H x W values per representation into a single long vector. The Flatten function below first reads in the N, C, H, and W values from a given batch of data, and then returns a \"view\" of that data. \"View\" is analogous to numpy's \"reshape\" method: it reshapes x's dimensions to be N x ??, where ?? is allowed to be anything (in this case, it will be C x H x W, but we don't need to specify that explicitly). "
   ]
  },
  {
   "cell_type": "code",
   "execution_count": null,
   "metadata": {
    "colab": {
     "autoexec": {
      "startup": false,
      "wait_interval": 0
     }
    },
    "colab_type": "code",
    "id": "3o5SrkQ_Lq3S"
   },
   "outputs": [],
   "source": [
    "class Flatten(nn.Module):\n",
    "    def forward(self, x):\n",
    "        N, C, H, W = x.size() # read in N, C, H, W\n",
    "        return x.view(N, -1)  # \"flatten\" the C * H * W values into a single vector per image"
   ]
  },
  {
   "cell_type": "markdown",
   "metadata": {
    "colab_type": "text",
    "id": "o_EGQ8VILq3U"
   },
   "source": [
    "### The example model itself\n",
    "\n",
    "The first step to training your own model is defining its architecture.\n",
    "\n",
    "Here's an example of a convolutional neural network defined in PyTorch -- try to understand what each line is doing, remembering that each layer is composed upon the previous layer. We haven't trained anything yet - that'll come next - for now, we want you to understand how everything gets set up.  nn.Sequential is a container which applies each layer\n",
    "one after the other.\n",
    "\n",
    "In this example, you see 2D convolutional layers (Conv2d), ReLU activations, and fully-connected layers (Linear). You also see the Cross-Entropy loss function, and the Adam optimizer being used. \n",
    "\n",
    "Make sure you understand why the parameters of the Linear layer are 10092 and 10.\n"
   ]
  },
  {
   "cell_type": "code",
   "execution_count": null,
   "metadata": {
    "colab": {
     "autoexec": {
      "startup": false,
      "wait_interval": 0
     }
    },
    "colab_type": "code",
    "id": "8BaPFhm7Lq3W"
   },
   "outputs": [],
   "source": [
    "# Here's where we define the architecture of the model... \n",
    "simple_model = nn.Sequential(\n",
    "                nn.Conv2d(3, 32, kernel_size=7, stride=2),\n",
    "                nn.ReLU(inplace=True),\n",
    "                Flatten(), # see above for explanation\n",
    "                nn.Linear(26912, 10), # affine layer\n",
    "              )\n",
    "\n",
    "# Set the type of all data in this model to be FloatTensor \n",
    "simple_model.type(dtype)\n",
    "\n",
    "loss_fn = nn.CrossEntropyLoss().type(dtype)\n",
    "optimizer = optim.Adam(simple_model.parameters(), lr=1e-2) # lr sets the learning rate of the optimizer"
   ]
  },
  {
   "cell_type": "markdown",
   "metadata": {
    "colab_type": "text",
    "id": "RGmGDJNeLq3Z"
   },
   "source": [
    "PyTorch supports many other layer types, loss functions, and optimizers - you will experiment with these next. Here's the official API documentation for these (if any of the parameters used above were unclear, this resource will also be helpful). \n",
    "\n",
    "* Layers: http://pytorch.org/docs/nn.html\n",
    "* Activations: http://pytorch.org/docs/nn.html#non-linear-activations\n",
    "* Loss functions: http://pytorch.org/docs/nn.html#loss-functions\n",
    "* Optimizers: http://pytorch.org/docs/optim.html#algorithms"
   ]
  },
  {
   "cell_type": "markdown",
   "metadata": {
    "colab_type": "text",
    "id": "b_1hw1b4Lq3b"
   },
   "source": [
    "## Training a specific model\n",
    "\n",
    "In this section, we're going to specify a model for you to construct. The goal here isn't to get good performance (that'll be next), but instead to get comfortable with understanding the PyTorch documentation and configuring your own model. \n",
    "\n",
    "Using the code provided above as guidance, and using the following PyTorch documentation, specify a model with the following architecture:\n",
    "\n",
    "* 7x7 Convolutional Layer with 8 filters and stride of 1\n",
    "* ReLU Activation Layer\n",
    "* 2x2 Max Pooling layer with a stride of 2\n",
    "* 7x7 Convolutional Layer with 16 filters and stride of 1\n",
    "* ReLU Activation Layer\n",
    "* 2x2 Max Pooling layer with a stride of 2\n",
    "* Flatten the feature map\n",
    "* ReLU Activation Layer\n",
    "* Affine layer to map input units to 10 outputs, you need to figure out the input size here.\n"
   ]
  },
  {
   "cell_type": "code",
   "execution_count": 29,
   "metadata": {
    "colab": {
     "autoexec": {
      "startup": false,
      "wait_interval": 0
     },
     "base_uri": "https://localhost:8080/",
     "height": 221
    },
    "colab_type": "code",
    "executionInfo": {
     "elapsed": 295,
     "status": "ok",
     "timestamp": 1523492330943,
     "user": {
      "displayName": "Bhushan Sonawane",
      "photoUrl": "https://lh3.googleusercontent.com/a/default-user=s128",
      "userId": "110462201665686822019"
     },
     "user_tz": 240
    },
    "id": "D--HOxwDLq3d",
    "outputId": "b4ef45ea-8d4c-4bf7-f786-1b2445b074b3"
   },
   "outputs": [
    {
     "data": {
      "text/plain": [
       "Sequential(\n",
       "  (0): Conv2d (3, 8, kernel_size=(7, 7), stride=(1, 1))\n",
       "  (1): ReLU(inplace)\n",
       "  (2): MaxPool2d(kernel_size=(2, 2), stride=(2, 2), dilation=(1, 1))\n",
       "  (3): Conv2d (8, 16, kernel_size=(7, 7), stride=(1, 1))\n",
       "  (4): ReLU(inplace)\n",
       "  (5): MaxPool2d(kernel_size=(2, 2), stride=(2, 2), dilation=(1, 1))\n",
       "  (6): Flatten(\n",
       "  )\n",
       "  (7): ReLU(inplace)\n",
       "  (8): Linear(in_features=1936, out_features=10)\n",
       ")"
      ]
     },
     "execution_count": 29,
     "metadata": {
      "tags": []
     },
     "output_type": "execute_result"
    }
   ],
   "source": [
    "fixed_model_base = nn.Sequential( \n",
    "    #########1st To Do  (10 points)###################\n",
    "            nn.Conv2d(3, 8, kernel_size = 7, stride = 1),\n",
    "            nn.ReLU(inplace = True),\n",
    "            nn.MaxPool2d(2, stride = 2),\n",
    "            nn.Conv2d(8, 16, kernel_size = 7, stride = 1),\n",
    "            nn.ReLU(inplace = True),\n",
    "            nn.MaxPool2d(2, stride = 2),\n",
    "            Flatten(),\n",
    "            nn.ReLU(inplace = True),\n",
    "            nn.Linear(1936, 10)\n",
    "    ####################################\n",
    "            )\n",
    "fixed_model = fixed_model_base.type(dtype)\n",
    "fixed_model.cuda()"
   ]
  },
  {
   "cell_type": "code",
   "execution_count": null,
   "metadata": {
    "colab": {
     "autoexec": {
      "startup": false,
      "wait_interval": 0
     }
    },
    "colab_type": "code",
    "id": "R4XOIfy6Lq3g"
   },
   "outputs": [],
   "source": [
    "fix_model_normed = nn.Sequential( \n",
    "            nn.Conv2d(3, 8, kernel_size = 6, stride = 1),\n",
    "            nn.BatchNorm2d(8),\n",
    "            nn.ReLU(inplace = True),\n",
    "            nn.MaxPool2d(2, stride = 2),\n",
    "            nn.Conv2d(8, 16, kernel_size = 4, stride = 1),\n",
    "            nn.BatchNorm2d(16),\n",
    "            nn.ReLU(inplace = True),\n",
    "            nn.MaxPool2d(2, stride = 2),\n",
    "            nn.Conv2d(16, 32, kernel_size = 3, stride = 1),\n",
    "            nn.BatchNorm2d(32),\n",
    "            nn.ReLU(inplace = True),\n",
    "            nn.MaxPool2d(2, stride = 2),\n",
    "            Flatten(),\n",
    "            nn.ReLU(inplace = True),\n",
    "            nn.Linear(800, 10)\n",
    "            )\n",
    "model_normed = fix_model_normed.type(dtype)\n",
    "\n"
   ]
  },
  {
   "cell_type": "code",
   "execution_count": 30,
   "metadata": {
    "colab": {
     "autoexec": {
      "startup": false,
      "wait_interval": 0
     },
     "base_uri": "https://localhost:8080/",
     "height": 408
    },
    "colab_type": "code",
    "executionInfo": {
     "elapsed": 309,
     "status": "ok",
     "timestamp": 1523492353513,
     "user": {
      "displayName": "Bhushan Sonawane",
      "photoUrl": "https://lh3.googleusercontent.com/a/default-user=s128",
      "userId": "110462201665686822019"
     },
     "user_tz": 240
    },
    "id": "EMNpNoCFLq3i",
    "outputId": "c7d7389b-46b4-4e15-8c86-cba8f50f7bed"
   },
   "outputs": [
    {
     "data": {
      "text/plain": [
       "Sequential(\n",
       "  (0): Conv2d (3, 8, kernel_size=(4, 4), stride=(1, 1))\n",
       "  (1): BatchNorm2d(8, eps=1e-05, momentum=0.1, affine=True)\n",
       "  (2): ReLU(inplace)\n",
       "  (3): MaxPool2d(kernel_size=(2, 2), stride=(2, 2), dilation=(1, 1))\n",
       "  (4): Conv2d (8, 16, kernel_size=(4, 4), stride=(1, 1))\n",
       "  (5): BatchNorm2d(16, eps=1e-05, momentum=0.1, affine=True)\n",
       "  (6): Dropout2d(p=0.2)\n",
       "  (7): ReLU(inplace)\n",
       "  (8): MaxPool2d(kernel_size=(2, 2), stride=(2, 2), dilation=(1, 1))\n",
       "  (9): Conv2d (16, 32, kernel_size=(4, 4), stride=(1, 1))\n",
       "  (10): BatchNorm2d(32, eps=1e-05, momentum=0.1, affine=True)\n",
       "  (11): Dropout2d(p=0.2)\n",
       "  (12): ReLU(inplace)\n",
       "  (13): MaxPool2d(kernel_size=(2, 2), stride=(2, 2), dilation=(1, 1))\n",
       "  (14): Flatten(\n",
       "  )\n",
       "  (15): ReLU(inplace)\n",
       "  (16): Dropout2d(p=0.2)\n",
       "  (17): Linear(in_features=800, out_features=200)\n",
       "  (18): Dropout2d(p=0.2)\n",
       "  (19): Linear(in_features=200, out_features=10)\n",
       ")"
      ]
     },
     "execution_count": 30,
     "metadata": {
      "tags": []
     },
     "output_type": "execute_result"
    }
   ],
   "source": [
    "# Model 3 - BatchNorm + DropOut\n",
    "model3_bNorm_drop = nn.Sequential( \n",
    "            nn.Conv2d(3, 8, kernel_size = 4, stride = 1),\n",
    "            nn.BatchNorm2d(8),\n",
    "            nn.ReLU(inplace = True),\n",
    "            nn.MaxPool2d(2, stride = 2),\n",
    "            nn.Conv2d(8, 16, kernel_size = 4, stride = 1),\n",
    "            nn.BatchNorm2d(16),\n",
    "            nn.Dropout2d(p=0.2),\n",
    "            nn.ReLU(inplace = True),\n",
    "            nn.MaxPool2d(2, stride = 2),\n",
    "            nn.Conv2d(16, 32, kernel_size = 4, stride = 1),\n",
    "            nn.BatchNorm2d(32),\n",
    "            nn.Dropout2d(p=0.2),\n",
    "            nn.ReLU(inplace = True),\n",
    "            nn.MaxPool2d(2, stride = 2),\n",
    "            Flatten(),\n",
    "            nn.ReLU(inplace = True),\n",
    "            nn.Dropout2d(p=0.2),    \n",
    "            nn.Linear(800, 200),\n",
    "            nn.Dropout2d(p=0.2),\n",
    "            nn.Linear(200, 10)\n",
    "            )\n",
    "model3 = model3_bNorm_drop.type(dtype)\n",
    "model3.cuda()"
   ]
  },
  {
   "cell_type": "code",
   "execution_count": null,
   "metadata": {
    "colab": {
     "autoexec": {
      "startup": false,
      "wait_interval": 0
     }
    },
    "colab_type": "code",
    "id": "DtWe3BTOLq3l"
   },
   "outputs": [],
   "source": [
    "# Model 4\n",
    "model4_base = nn.Sequential( \n",
    "            nn.Conv2d(3, 8, kernel_size = 2, stride = 1),\n",
    "            nn.ReLU(inplace = True),\n",
    "            nn.MaxPool2d(2, stride = 2),\n",
    "            nn.Conv2d(8, 16, kernel_size = 2, stride = 1),\n",
    "            nn.ReLU(inplace = True),\n",
    "            nn.MaxPool2d(2, stride = 2),\n",
    "            nn.Conv2d(16, 32, kernel_size = 2, stride = 1),\n",
    "            nn.ReLU(inplace = True),\n",
    "            nn.MaxPool2d(2, stride = 2),\n",
    "            nn.Conv2d(32, 64, kernel_size = 2, stride = 1),\n",
    "            nn.ReLU(inplace = True),\n",
    "            nn.MaxPool2d(2, stride = 2),\n",
    "            Flatten(),\n",
    "            nn.ReLU(inplace = True),\n",
    "            nn.Linear(576, 10)\n",
    "            )\n",
    "model4 = model4_base.type(dtype)"
   ]
  },
  {
   "cell_type": "code",
   "execution_count": null,
   "metadata": {
    "colab": {
     "autoexec": {
      "startup": false,
      "wait_interval": 0
     }
    },
    "colab_type": "code",
    "id": "5Pd3qwWTLq3p"
   },
   "outputs": [],
   "source": [
    "# Model 5\n",
    "model5_base = nn.Sequential( \n",
    "             nn.Conv2d(3, 8, kernel_size = 7, stride = 1),\n",
    "            nn.ReLU(inplace = True),\n",
    "            nn.MaxPool2d(2, stride = 2),\n",
    "            nn.Conv2d(8, 16, kernel_size = 7, stride = 1),\n",
    "            nn.ReLU(inplace = True),\n",
    "            nn.MaxPool2d(2, stride = 2),\n",
    "            Flatten(),\n",
    "            nn.ReLU(inplace = True),\n",
    "            nn.Linear(1936, 4096),\n",
    "            nn.Linear(4096, 2048),\n",
    "            nn.Linear(2048, 1024),\n",
    "            nn.Linear(1024, 512),\n",
    "            nn.Linear(512, 10)\n",
    "            )\n",
    "model5 = model5_base.type(dtype)"
   ]
  },
  {
   "cell_type": "code",
   "execution_count": null,
   "metadata": {
    "colab": {
     "autoexec": {
      "startup": false,
      "wait_interval": 0
     }
    },
    "colab_type": "code",
    "id": "BFJBI0U7Lq3r"
   },
   "outputs": [],
   "source": [
    "# Model 6\n",
    "model6_base = nn.Sequential( \n",
    "            nn.Conv2d(3, 8, padding = 4, kernel_size = 3, stride = 1),\n",
    "            nn.ReLU(inplace = True),\n",
    "            nn.MaxPool2d(2, stride = 2),\n",
    "            nn.Conv2d(8, 16, padding = 2, kernel_size = 3, stride = 1),\n",
    "            nn.ReLU(inplace = True),\n",
    "            nn.MaxPool2d(2, stride = 2),\n",
    "            nn.Conv2d(16, 32, kernel_size = 3, stride = 1),\n",
    "            nn.ReLU(inplace = True),\n",
    "            nn.MaxPool2d(2, stride = 2),\n",
    "            Flatten(),\n",
    "            nn.ReLU(inplace = True),\n",
    "            nn.Linear(2048, 1024),\n",
    "            nn.ReLU(inplace = True),\n",
    "            nn.Linear(1024, 512),\n",
    "            nn.ReLU(inplace = True),\n",
    "            nn.Linear(512, 10)\n",
    "            )\n",
    "model6 = model6_base.type(dtype)"
   ]
  },
  {
   "cell_type": "code",
   "execution_count": null,
   "metadata": {
    "colab": {
     "autoexec": {
      "startup": false,
      "wait_interval": 0
     }
    },
    "colab_type": "code",
    "id": "cwmtP9dILq3u"
   },
   "outputs": [],
   "source": [
    "# Model 6\n",
    "model61_base = nn.Sequential( \n",
    "            nn.Conv2d(3, 8, padding = 4, kernel_size = 3, stride = 1),\n",
    "            nn.LeakyReLU(0.1),\n",
    "            nn.MaxPool2d(2, stride = 2),\n",
    "            nn.Conv2d(8, 16, padding = 2, kernel_size = 3, stride = 1),\n",
    "            nn.LeakyReLU(0.1),\n",
    "            nn.MaxPool2d(2, stride = 2),\n",
    "            nn.Conv2d(16, 32, kernel_size = 3, stride = 1),\n",
    "            nn.LeakyReLU(0.1),\n",
    "            nn.MaxPool2d(2, stride = 2),\n",
    "            Flatten(),\n",
    "            nn.LeakyReLU(0.1),\n",
    "            nn.Dropout2d(p=0.2),\n",
    "            nn.Linear(2048, 1024),\n",
    "            nn.LeakyReLU(0.1),\n",
    "            nn.Dropout2d(p=0.2),\n",
    "            nn.Linear(1024, 512),\n",
    "            nn.LeakyReLU(0.1),\n",
    "            nn.Dropout2d(p=0.2),\n",
    "            nn.Linear(512, 10)\n",
    "            )\n",
    "model61 = model61_base.type(dtype)"
   ]
  },
  {
   "cell_type": "code",
   "execution_count": null,
   "metadata": {
    "colab": {
     "autoexec": {
      "startup": false,
      "wait_interval": 0
     }
    },
    "colab_type": "code",
    "id": "2wmXcoLmLq3x"
   },
   "outputs": [],
   "source": [
    "# Model 7\n",
    "model7_base = nn.Sequential( \n",
    "            nn.Conv2d(3, 8, padding = 4, kernel_size = 3, stride = 1),\n",
    "            nn.ReLU(inplace = True),\n",
    "            nn.MaxPool2d(2, stride = 2),\n",
    "            nn.Conv2d(8, 16, padding = 4, kernel_size = 3, stride = 1),\n",
    "            nn.ReLU(inplace = True),\n",
    "            nn.MaxPool2d(2, stride = 2),\n",
    "            nn.Conv2d(16, 32, padding = 4, kernel_size = 3, stride = 1),\n",
    "            nn.ReLU(inplace = True),\n",
    "            nn.MaxPool2d(2, stride = 2),\n",
    "            nn.Conv2d(32, 64, padding = 4, kernel_size = 3, stride = 1),\n",
    "            nn.ReLU(inplace = True),\n",
    "            nn.MaxPool2d(2, stride = 2),\n",
    "            nn.Conv2d(64, 128, kernel_size = 3, stride = 1),\n",
    "            nn.ReLU(inplace = True),\n",
    "            nn.MaxPool2d(2, stride = 2),\n",
    "            Flatten(),\n",
    "            nn.ReLU(inplace = True),\n",
    "            nn.Linear(1152, 512),\n",
    "            nn.ReLU(inplace = True),\n",
    "            nn.Linear(512, 10)\n",
    "            )\n",
    "model7 = model7_base.type(dtype)"
   ]
  },
  {
   "cell_type": "code",
   "execution_count": 90,
   "metadata": {
    "colab": {
     "autoexec": {
      "startup": false,
      "wait_interval": 0
     },
     "base_uri": "https://localhost:8080/",
     "height": 935
    },
    "colab_type": "code",
    "executionInfo": {
     "elapsed": 601,
     "status": "ok",
     "timestamp": 1523498929612,
     "user": {
      "displayName": "Bhushan Sonawane",
      "photoUrl": "https://lh3.googleusercontent.com/a/default-user=s128",
      "userId": "110462201665686822019"
     },
     "user_tz": 240
    },
    "id": "46J277WKQ8OJ",
    "outputId": "ee1fd0c1-04ea-4640-d80b-46b76f69c14c"
   },
   "outputs": [
    {
     "data": {
      "text/plain": [
       "Sequential(\n",
       "  (0): Conv2d (3, 8, kernel_size=(3, 3), stride=(1, 1), padding=(4, 4))\n",
       "  (1): ReLU(inplace)\n",
       "  (2): MaxPool2d(kernel_size=(2, 2), stride=(2, 2), dilation=(1, 1))\n",
       "  (3): Dropout2d(p=0.2)\n",
       "  (4): BatchNorm2d(8, eps=1e-05, momentum=0.1, affine=True)\n",
       "  (5): Conv2d (8, 16, kernel_size=(3, 3), stride=(1, 1), padding=(4, 4))\n",
       "  (6): ReLU(inplace)\n",
       "  (7): MaxPool2d(kernel_size=(2, 2), stride=(2, 2), dilation=(1, 1))\n",
       "  (8): Dropout2d(p=0.2)\n",
       "  (9): BatchNorm2d(16, eps=1e-05, momentum=0.1, affine=True)\n",
       "  (10): Conv2d (16, 32, kernel_size=(3, 3), stride=(1, 1), padding=(4, 4))\n",
       "  (11): ReLU(inplace)\n",
       "  (12): MaxPool2d(kernel_size=(2, 2), stride=(2, 2), dilation=(1, 1))\n",
       "  (13): Dropout2d(p=0.2)\n",
       "  (14): BatchNorm2d(32, eps=1e-05, momentum=0.1, affine=True)\n",
       "  (15): Conv2d (32, 64, kernel_size=(3, 3), stride=(1, 1), padding=(4, 4))\n",
       "  (16): ReLU(inplace)\n",
       "  (17): MaxPool2d(kernel_size=(2, 2), stride=(2, 2), dilation=(1, 1))\n",
       "  (18): Dropout2d(p=0.2)\n",
       "  (19): BatchNorm2d(64, eps=1e-05, momentum=0.1, affine=True)\n",
       "  (20): Conv2d (64, 128, kernel_size=(3, 3), stride=(1, 1), padding=(4, 4))\n",
       "  (21): ReLU(inplace)\n",
       "  (22): MaxPool2d(kernel_size=(2, 2), stride=(2, 2), dilation=(1, 1))\n",
       "  (23): Dropout2d(p=0.2)\n",
       "  (24): BatchNorm2d(128, eps=1e-05, momentum=0.1, affine=True)\n",
       "  (25): Conv2d (128, 256, kernel_size=(3, 3), stride=(1, 1), padding=(2, 2))\n",
       "  (26): ReLU(inplace)\n",
       "  (27): MaxPool2d(kernel_size=(2, 2), stride=(2, 2), dilation=(1, 1))\n",
       "  (28): Dropout2d(p=0.2)\n",
       "  (29): BatchNorm2d(256, eps=1e-05, momentum=0.1, affine=True)\n",
       "  (30): Conv2d (256, 512, kernel_size=(3, 3), stride=(1, 1), padding=(2, 2))\n",
       "  (31): ReLU(inplace)\n",
       "  (32): MaxPool2d(kernel_size=(2, 2), stride=(2, 2), dilation=(1, 1))\n",
       "  (33): Dropout2d(p=0.2)\n",
       "  (34): BatchNorm2d(512, eps=1e-05, momentum=0.1, affine=True)\n",
       "  (35): Conv2d (512, 1024, kernel_size=(3, 3), stride=(1, 1), padding=(2, 2))\n",
       "  (36): ReLU(inplace)\n",
       "  (37): MaxPool2d(kernel_size=(2, 2), stride=(2, 2), dilation=(1, 1))\n",
       "  (38): Flatten(\n",
       "  )\n",
       "  (39): ReLU(inplace)\n",
       "  (40): Dropout(p=0.2)\n",
       "  (41): Linear(in_features=4096, out_features=2048)\n",
       "  (42): ReLU(inplace)\n",
       "  (43): Dropout(p=0.2)\n",
       "  (44): Linear(in_features=2048, out_features=1024)\n",
       "  (45): ReLU(inplace)\n",
       "  (46): Dropout(p=0.2)\n",
       "  (47): Linear(in_features=1024, out_features=512)\n",
       "  (48): ReLU(inplace)\n",
       "  (49): Dropout(p=0.2)\n",
       "  (50): Linear(in_features=512, out_features=10)\n",
       ")"
      ]
     },
     "execution_count": 90,
     "metadata": {
      "tags": []
     },
     "output_type": "execute_result"
    }
   ],
   "source": [
    "# Model 8\n",
    "\n",
    "model8_base = nn.Sequential( \n",
    "            nn.Conv2d(3, 8, padding = 4, kernel_size = 3, stride = 1),\n",
    "            nn.ReLU(inplace = True),\n",
    "            nn.MaxPool2d(2, stride = 2),\n",
    "            nn.Dropout2d(p=0.2),\n",
    "            nn.BatchNorm2d(8),\n",
    "            nn.Conv2d(8, 16, padding = 4, kernel_size = 3, stride = 1),\n",
    "            nn.ReLU(inplace = True),\n",
    "            nn.MaxPool2d(2, stride = 2),\n",
    "            nn.Dropout2d(p=0.2), \n",
    "            nn.BatchNorm2d(16),\n",
    "            nn.Conv2d(16, 32, padding = 4, kernel_size = 3, stride = 1),\n",
    "            nn.ReLU(inplace = True),\n",
    "            nn.MaxPool2d(2, stride = 2),\n",
    "            nn.Dropout2d(p=0.2), \n",
    "            nn.BatchNorm2d(32),\n",
    "            nn.Conv2d(32, 64, padding = 4, kernel_size = 3, stride = 1),\n",
    "            nn.ReLU(inplace = True),\n",
    "            nn.MaxPool2d(2, stride = 2),\n",
    "            nn.Dropout2d(p=0.2),\n",
    "            nn.BatchNorm2d(64),\n",
    "            nn.Conv2d(64, 128, padding = 4, kernel_size = 3, stride = 1),\n",
    "            nn.ReLU(inplace = True),\n",
    "            nn.MaxPool2d(2, stride = 2),\n",
    "            nn.Dropout2d(p=0.2), \n",
    "            nn.BatchNorm2d(128),\n",
    "            nn.Conv2d(128, 256,padding = 2, kernel_size = 3, stride = 1),\n",
    "            nn.ReLU(inplace = True),\n",
    "            nn.MaxPool2d(2, stride = 2),\n",
    "            nn.Dropout2d(p=0.2), \n",
    "            nn.BatchNorm2d(256),\n",
    "            nn.Conv2d(256, 512, padding = 2, kernel_size = 3, stride = 1),\n",
    "            nn.ReLU(inplace = True),\n",
    "            nn.MaxPool2d(2, stride = 2),\n",
    "            nn.Dropout2d(p=0.2), \n",
    "            nn.BatchNorm2d(512),\n",
    "            nn.Conv2d(512, 1024, padding = 2, kernel_size = 3, stride = 1),\n",
    "            nn.ReLU(inplace = True),\n",
    "            nn.MaxPool2d(2, stride = 2),\n",
    "            Flatten(),\n",
    "            nn.ReLU(inplace = True),\n",
    "            nn.Dropout(p=0.2), \n",
    "            nn.Linear(4096, 2048),\n",
    "            nn.ReLU(inplace = True),\n",
    "            nn.Dropout(p=0.2), \n",
    "            nn.Linear(2048, 1024),\n",
    "            nn.ReLU(inplace = True),\n",
    "            nn.Dropout(p=0.2), \n",
    "            nn.Linear(1024, 512),\n",
    "            nn.ReLU(inplace = True),\n",
    "            nn.Dropout(p=0.2), \n",
    "            nn.Linear(512, 10)\n",
    "            )\n",
    "model8 = model8_base.type(dtype)\n",
    "model8.cuda()"
   ]
  },
  {
   "cell_type": "markdown",
   "metadata": {
    "colab_type": "text",
    "id": "12XAZaulLq3y"
   },
   "source": [
    "To make sure you're doing the right thing, use the following tool to check the dimensionality of your output (it should be 32 x 10, since our batches have size 32 and the output of the final affine layer should be 10, corresponding to our 10 classes):"
   ]
  },
  {
   "cell_type": "code",
   "execution_count": 91,
   "metadata": {
    "colab": {
     "autoexec": {
      "startup": false,
      "wait_interval": 0
     },
     "base_uri": "https://localhost:8080/",
     "height": 68
    },
    "colab_type": "code",
    "collapsed": true,
    "executionInfo": {
     "elapsed": 292,
     "status": "ok",
     "timestamp": 1523498933428,
     "user": {
      "displayName": "Bhushan Sonawane",
      "photoUrl": "https://lh3.googleusercontent.com/a/default-user=s128",
      "userId": "110462201665686822019"
     },
     "user_tz": 240
    },
    "id": "jBCg3D-3Lq3z",
    "outputId": "dc1fdce3-fb18-4b62-8355-686a80533b6a"
   },
   "outputs": [
    {
     "name": "stdout",
     "output_type": "stream",
     "text": [
      "torch.Size([32, 3, 64, 64])\n",
      "[32 10]\n"
     ]
    },
    {
     "data": {
      "text/plain": [
       "True"
      ]
     },
     "execution_count": 91,
     "metadata": {
      "tags": []
     },
     "output_type": "execute_result"
    }
   ],
   "source": [
    "## Now we're going to feed a random batch into the model you defined and make sure the output is the right size\n",
    "x = torch.randn(32, 3, 64, 64)\n",
    "x_var = var(x) # Construct a PyTorch Variable out of your input data\n",
    "print(x_var.shape)\n",
    "ans = model8(x_var)        # Feed it through the model! \n",
    "\n",
    "# Check to make sure what comes out of your model\n",
    "# is the right dimensionality... this should be True\n",
    "# if you've done everything correctly\n",
    "print(np.array(ans.size()))\n",
    "np.array_equal(np.array(ans.size()), np.array([32, 10]))   \n"
   ]
  },
  {
   "cell_type": "markdown",
   "metadata": {
    "colab_type": "text",
    "id": "Hd6oM9k7Lq32"
   },
   "source": [
    "### Train the model.\n",
    "\n",
    "Now that you've seen how to define a model and do a single forward pass of some data through it, let's  walk through how you'd actually train one whole epoch over your training data (using the fixed_model_base we provided above).\n",
    "\n",
    "Make sure you understand how each PyTorch function used below corresponds to what you implemented in your custom neural network implementation.\n",
    "\n",
    "Note that because we are not resetting the weights anywhere below, if you run the cell multiple times, you are effectively training multiple epochs (so your performance should improve).\n",
    "\n",
    "First, set up an RMSprop optimizer (using a 1e-4 learning rate) and a cross-entropy loss function:"
   ]
  },
  {
   "cell_type": "code",
   "execution_count": null,
   "metadata": {
    "colab": {
     "autoexec": {
      "startup": false,
      "wait_interval": 0
     }
    },
    "colab_type": "code",
    "id": "RHrqcpkCLq34"
   },
   "outputs": [],
   "source": [
    "################ 2nd To Do  (5 points)##################\n",
    "optimizer = optim.RMSprop(fixed_model.parameters(), lr=1e-4)\n",
    "loss_fn = nn.CrossEntropyLoss().type(dtype)"
   ]
  },
  {
   "cell_type": "code",
   "execution_count": 34,
   "metadata": {
    "colab": {
     "autoexec": {
      "startup": false,
      "wait_interval": 0
     },
     "base_uri": "https://localhost:8080/",
     "height": 68
    },
    "colab_type": "code",
    "collapsed": true,
    "executionInfo": {
     "elapsed": 16181,
     "status": "ok",
     "timestamp": 1523492391956,
     "user": {
      "displayName": "Bhushan Sonawane",
      "photoUrl": "https://lh3.googleusercontent.com/a/default-user=s128",
      "userId": "110462201665686822019"
     },
     "user_tz": 240
    },
    "id": "5pR1slzGLq35",
    "outputId": "3c50fd44-d8e7-424d-d6f9-1e205a71e85e"
   },
   "outputs": [
    {
     "name": "stdout",
     "output_type": "stream",
     "text": [
      "t = 100, loss = 1.3862\n",
      "t = 200, loss = 1.2220\n",
      "t = 300, loss = 1.2237\n"
     ]
    }
   ],
   "source": [
    "# This sets the model in \"training\" mode. \n",
    "# This is relevant for some layers that may have different behavior\n",
    "# in training mode vs testing mode, such as Dropout and BatchNorm. \n",
    "fixed_model.train()\n",
    "\n",
    "# Load one batch at a time.\n",
    "for t, sample in enumerate(image_dataloader_train):\n",
    "    x_var = var(sample['image'])\n",
    "    #print(type(x_var.data))\n",
    "    #print(x_var.shape)\n",
    "    y_var = var(sample['Label']).long()\n",
    "\n",
    "    # This is the forward pass: predict the scores for each class, for each x in the batch.\n",
    "    scores = fixed_model(x_var)\n",
    "    \n",
    "    # Use the correct y values and the predicted y values to compute the loss.\n",
    "    loss = loss_fn(scores, y_var)\n",
    "    \n",
    "    if (t + 1) % print_every == 0:\n",
    "        print('t = %d, loss = %.4f' % (t + 1, loss.data[0]))\n",
    "\n",
    "    # Zero out all of the gradients for the variables which the optimizer will update.\n",
    "    optimizer.zero_grad()\n",
    "    \n",
    "    # This is the backwards pass: compute the gradient of the loss with respect to each \n",
    "    # parameter of the model.\n",
    "    loss.backward()\n",
    "    \n",
    "    # Actually update the parameters of the model using the gradients computed by the backwards pass.\n",
    "    optimizer.step()\n",
    "   "
   ]
  },
  {
   "cell_type": "markdown",
   "metadata": {
    "colab_type": "text",
    "id": "cLam7DPJLq39"
   },
   "source": [
    "Now you've seen how the training process works in PyTorch. To save you writing boilerplate code, we're providing the following helper functions to help you train for multiple epochs and check the accuracy of your model:"
   ]
  },
  {
   "cell_type": "code",
   "execution_count": null,
   "metadata": {
    "colab": {
     "autoexec": {
      "startup": false,
      "wait_interval": 0
     }
    },
    "colab_type": "code",
    "id": "U0fKPBkxLq3-"
   },
   "outputs": [],
   "source": [
    "def train(model, loss_fn, optimizer, dataloader, num_epochs = 1):\n",
    "    trainAcc = []\n",
    "    valAcc = []\n",
    "    for epoch in range(num_epochs):\n",
    "        print('Starting epoch %d / %d' % (epoch + 1, num_epochs))\n",
    "        model.train()\n",
    "        for t, sample in enumerate(dataloader):\n",
    "            x_var = var(sample['image'])\n",
    "            y_var = var(sample['Label'].long())\n",
    "\n",
    "            scores = model(x_var)\n",
    "            \n",
    "            loss = loss_fn(scores, y_var)\n",
    "            if (t + 1) % print_every == 0:\n",
    "                print('t = %d, loss = %.4f' % (t + 1, loss.data[0]))\n",
    "\n",
    "            optimizer.zero_grad()\n",
    "            loss.backward()\n",
    "            optimizer.step()\n",
    "        trainAcc.append(check_accuracy(model, image_dataloader_train)) # check accuracy on the training set\n",
    "        valAcc.append(check_accuracy(model, image_dataloader_val))\n",
    "        #torch.save(model.state_dict(), './2dmodels/2dModel_{}.pkl'.format(epoch))\n",
    "    return trainAcc, valAcc\n",
    "\n",
    "def check_accuracy(model, loader):\n",
    "    '''\n",
    "    if loader.dataset.train:\n",
    "        print('Checking accuracy on validation set')\n",
    "    else:\n",
    "        print('Checking accuracy on test set')  \n",
    "    '''\n",
    "    num_correct = 0\n",
    "    num_samples = 0\n",
    "    model.eval() # Put the model in test mode (the opposite of model.train(), essentially)\n",
    "    for t, sample in enumerate(loader):\n",
    "        x_var = var(sample['image'])\n",
    "        y_var = sample['Label']\n",
    "        #y_var=y_var.cpu()\n",
    "        scores = model(x_var)\n",
    "        _, preds = scores.data.max(1)#scores.data.cpu().max(1)\n",
    "        #print(preds)\n",
    "        #print(y_var)\n",
    "        num_correct += (preds.cpu().numpy() == y_var.cpu().numpy()).sum()\n",
    "        num_samples += preds.size(0)\n",
    "    acc = float(num_correct) / num_samples\n",
    "    print('Got %d / %d correct (%.2f)' % (num_correct, num_samples, 100 * acc))\n",
    "    return acc"
   ]
  },
  {
   "cell_type": "markdown",
   "metadata": {
    "colab_type": "text",
    "id": "mIaXvFDELq4D"
   },
   "source": [
    "### Check the accuracy of the model.\n",
    "\n",
    "Let's see the train and check_accuracy code in action -- feel free to use these methods when evaluating the models you develop below.\n",
    "\n",
    "You should get a training loss of around 1.0-1.2, and a validation accuracy of around 50-60%. As mentioned above, if you re-run the cells, you'll be training more epochs, so your performance will improve past these numbers.\n",
    "\n",
    "But don't worry about getting these numbers better -- this was just practice before you tackle designing your own model."
   ]
  },
  {
   "cell_type": "code",
   "execution_count": 38,
   "metadata": {
    "colab": {
     "autoexec": {
      "startup": false,
      "wait_interval": 0
     },
     "base_uri": "https://localhost:8080/",
     "height": 1275
    },
    "colab_type": "code",
    "collapsed": true,
    "executionInfo": {
     "elapsed": 457432,
     "status": "ok",
     "timestamp": 1523493002941,
     "user": {
      "displayName": "Bhushan Sonawane",
      "photoUrl": "https://lh3.googleusercontent.com/a/default-user=s128",
      "userId": "110462201665686822019"
     },
     "user_tz": 240
    },
    "id": "jgALoVf6Lq4E",
    "outputId": "65e0939b-f5cb-4bdd-914b-09a5e1568190"
   },
   "outputs": [
    {
     "name": "stdout",
     "output_type": "stream",
     "text": [
      "Starting epoch 1 / 12\n",
      "t = 100, loss = 2.1805\n",
      "t = 200, loss = 1.9213\n",
      "t = 300, loss = 1.4828\n",
      "Got 13053 / 23310 correct (56.00)\n",
      "Got 2769 / 6690 correct (41.39)\n",
      "Starting epoch 2 / 12\n",
      "t = 100, loss = 1.1792\n",
      "t = 200, loss = 1.0875\n",
      "t = 300, loss = 0.7133\n",
      "Got 16525 / 23310 correct (70.89)\n",
      "Got 2850 / 6690 correct (42.60)\n",
      "Starting epoch 3 / 12\n",
      "t = 100, loss = 0.9593\n",
      "t = 200, loss = 0.6940\n",
      "t = 300, loss = 0.6628\n",
      "Got 17735 / 23310 correct (76.08)\n",
      "Got 2974 / 6690 correct (44.45)\n",
      "Starting epoch 4 / 12\n",
      "t = 100, loss = 0.8036\n",
      "t = 200, loss = 0.6311\n",
      "t = 300, loss = 0.8468\n",
      "Got 18761 / 23310 correct (80.48)\n",
      "Got 3060 / 6690 correct (45.74)\n",
      "Starting epoch 5 / 12\n",
      "t = 100, loss = 0.5164\n",
      "t = 200, loss = 0.6654\n",
      "t = 300, loss = 0.4815\n",
      "Got 18976 / 23310 correct (81.41)\n",
      "Got 2868 / 6690 correct (42.87)\n",
      "Starting epoch 6 / 12\n",
      "t = 100, loss = 0.3827\n",
      "t = 200, loss = 0.2855\n",
      "t = 300, loss = 0.3850\n",
      "Got 20156 / 23310 correct (86.47)\n",
      "Got 3048 / 6690 correct (45.56)\n",
      "Starting epoch 7 / 12\n",
      "t = 100, loss = 0.3573\n",
      "t = 200, loss = 0.3890\n",
      "t = 300, loss = 0.2769\n",
      "Got 20977 / 23310 correct (89.99)\n",
      "Got 3167 / 6690 correct (47.34)\n",
      "Starting epoch 8 / 12\n",
      "t = 100, loss = 0.3988\n",
      "t = 200, loss = 0.2485\n",
      "t = 300, loss = 0.3278\n",
      "Got 20602 / 23310 correct (88.38)\n",
      "Got 3006 / 6690 correct (44.93)\n",
      "Starting epoch 9 / 12\n",
      "t = 100, loss = 0.2142\n",
      "t = 200, loss = 0.1815\n",
      "t = 300, loss = 0.2794\n",
      "Got 21186 / 23310 correct (90.89)\n",
      "Got 3100 / 6690 correct (46.34)\n",
      "Starting epoch 10 / 12\n",
      "t = 100, loss = 0.2707\n",
      "t = 200, loss = 0.2152\n",
      "t = 300, loss = 0.3037\n",
      "Got 21475 / 23310 correct (92.13)\n",
      "Got 3198 / 6690 correct (47.80)\n",
      "Starting epoch 11 / 12\n",
      "t = 100, loss = 0.2327\n",
      "t = 200, loss = 0.2038\n",
      "t = 300, loss = 0.2278\n",
      "Got 21623 / 23310 correct (92.76)\n",
      "Got 3186 / 6690 correct (47.62)\n",
      "Starting epoch 12 / 12\n",
      "t = 100, loss = 0.0838\n",
      "t = 200, loss = 0.1467\n",
      "t = 300, loss = 0.2083\n",
      "Got 22011 / 23310 correct (94.43)\n",
      "Got 3313 / 6690 correct (49.52)\n",
      "Got 22011 / 23310 correct (94.43)\n"
     ]
    },
    {
     "data": {
      "text/plain": [
       "0.9442728442728443"
      ]
     },
     "execution_count": 38,
     "metadata": {
      "tags": []
     },
     "output_type": "execute_result"
    }
   ],
   "source": [
    "torch.random.manual_seed(12345)\n",
    "#fixed_model.cpu()\n",
    "fixed_model.apply(reset) \n",
    "fixed_model.train() \n",
    "trainAcc = train(fixed_model, loss_fn, optimizer,image_dataloader_train, num_epochs=12) \n",
    "check_accuracy(fixed_model, image_dataloader_train)# check accuracy on the training set\n"
   ]
  },
  {
   "cell_type": "code",
   "execution_count": null,
   "metadata": {
    "colab": {
     "autoexec": {
      "startup": false,
      "wait_interval": 0
     }
    },
    "colab_type": "code",
    "id": "H4Q96tJxLq4H"
   },
   "outputs": [],
   "source": [
    "def verifyModel(model, data, num_epochs_to_run = 10):\n",
    "    #model.cpu()\n",
    "    optimizer = optim.RMSprop(model.parameters(), lr=1e-4)\n",
    "    #optimizer = optim.Adam(model.parameters(), lr = 1e-4) \n",
    "    loss_fn = nn.CrossEntropyLoss().type(dtype)\n",
    "    train_Acc = train(model, loss_fn, optimizer,data, num_epochs=num_epochs_to_run) \n",
    "    return train_Acc"
   ]
  },
  {
   "cell_type": "code",
   "execution_count": null,
   "metadata": {
    "colab": {
     "autoexec": {
      "startup": false,
      "wait_interval": 0
     }
    },
    "colab_type": "code",
    "id": "uB9zi5rpLq4K"
   },
   "outputs": [],
   "source": [
    "import matplotlib.pyplot as plt\n",
    "def plotGraphAcc(acc, label):\n",
    "    plt.xlabel('Iterations')\n",
    "    plt.ylabel('Acc')\n",
    "    plt.title(label)\n",
    "    plt.plot(acc, label='Training Accuracy')\n",
    "    plt.show()"
   ]
  },
  {
   "cell_type": "code",
   "execution_count": 74,
   "metadata": {
    "colab": {
     "autoexec": {
      "startup": false,
      "wait_interval": 0
     },
     "base_uri": "https://localhost:8080/",
     "height": 2611
    },
    "colab_type": "code",
    "executionInfo": {
     "elapsed": 1368736,
     "status": "ok",
     "timestamp": 1523496955746,
     "user": {
      "displayName": "Bhushan Sonawane",
      "photoUrl": "https://lh3.googleusercontent.com/a/default-user=s128",
      "userId": "110462201665686822019"
     },
     "user_tz": 240
    },
    "id": "NX0jjbw_YIVM",
    "outputId": "4add17fe-e131-4917-ad6b-83d8f9b4ab70"
   },
   "outputs": [
    {
     "name": "stdout",
     "output_type": "stream",
     "text": [
      "Starting epoch 1 / 20\n",
      "t = 100, loss = 2.2796\n",
      "t = 200, loss = 2.1691\n",
      "t = 300, loss = 2.0821\n",
      "Got 5114 / 23310 correct (21.94)\n",
      "Got 1034 / 6690 correct (15.46)\n",
      "Starting epoch 2 / 20\n",
      "t = 100, loss = 1.5662\n",
      "t = 200, loss = 1.6103\n",
      "t = 300, loss = 1.4909\n",
      "Got 9666 / 23310 correct (41.47)\n",
      "Got 2202 / 6690 correct (32.91)\n",
      "Starting epoch 3 / 20\n",
      "t = 100, loss = 1.3108\n",
      "t = 200, loss = 1.3287\n",
      "t = 300, loss = 1.1260\n",
      "Got 13034 / 23310 correct (55.92)\n",
      "Got 2387 / 6690 correct (35.68)\n",
      "Starting epoch 4 / 20\n",
      "t = 100, loss = 1.1682\n",
      "t = 200, loss = 0.9175\n",
      "t = 300, loss = 0.8738\n",
      "Got 10533 / 23310 correct (45.19)\n",
      "Got 1563 / 6690 correct (23.36)\n",
      "Starting epoch 5 / 20\n",
      "t = 100, loss = 0.7376\n",
      "t = 200, loss = 0.7974\n",
      "t = 300, loss = 0.7361\n",
      "Got 17863 / 23310 correct (76.63)\n",
      "Got 2876 / 6690 correct (42.99)\n",
      "Starting epoch 6 / 20\n",
      "t = 100, loss = 0.5822\n",
      "t = 200, loss = 0.4942\n",
      "t = 300, loss = 0.3545\n",
      "Got 17926 / 23310 correct (76.90)\n",
      "Got 2622 / 6690 correct (39.19)\n",
      "Starting epoch 7 / 20\n",
      "t = 100, loss = 0.4105\n",
      "t = 200, loss = 0.4122\n",
      "t = 300, loss = 0.1983\n",
      "Got 19183 / 23310 correct (82.30)\n",
      "Got 3110 / 6690 correct (46.49)\n",
      "Starting epoch 8 / 20\n",
      "t = 100, loss = 0.3474\n",
      "t = 200, loss = 0.7966\n",
      "t = 300, loss = 0.2683\n",
      "Got 20762 / 23310 correct (89.07)\n",
      "Got 3163 / 6690 correct (47.28)\n",
      "Starting epoch 9 / 20\n",
      "t = 100, loss = 0.1071\n",
      "t = 200, loss = 0.2924\n",
      "t = 300, loss = 0.1161\n",
      "Got 20890 / 23310 correct (89.62)\n",
      "Got 3349 / 6690 correct (50.06)\n",
      "Starting epoch 10 / 20\n",
      "t = 100, loss = 0.3923\n",
      "t = 200, loss = 0.2174\n",
      "t = 300, loss = 0.1164\n",
      "Got 21988 / 23310 correct (94.33)\n",
      "Got 3234 / 6690 correct (48.34)\n",
      "Starting epoch 11 / 20\n",
      "t = 100, loss = 0.2435\n",
      "t = 200, loss = 0.0818\n",
      "t = 300, loss = 0.1601\n",
      "Got 22846 / 23310 correct (98.01)\n",
      "Got 3387 / 6690 correct (50.63)\n",
      "Starting epoch 12 / 20\n",
      "t = 100, loss = 0.1149\n",
      "t = 200, loss = 0.0347\n",
      "t = 300, loss = 0.0530\n",
      "Got 22808 / 23310 correct (97.85)\n",
      "Got 3433 / 6690 correct (51.32)\n",
      "Starting epoch 13 / 20\n",
      "t = 100, loss = 0.0363\n",
      "t = 200, loss = 0.0631\n",
      "t = 300, loss = 0.1834\n",
      "Got 21585 / 23310 correct (92.60)\n",
      "Got 3275 / 6690 correct (48.95)\n",
      "Starting epoch 14 / 20\n",
      "t = 100, loss = 0.0666\n",
      "t = 200, loss = 0.0245\n",
      "t = 300, loss = 0.0183\n",
      "Got 22801 / 23310 correct (97.82)\n",
      "Got 3451 / 6690 correct (51.58)\n",
      "Starting epoch 15 / 20\n",
      "t = 100, loss = 0.0376\n",
      "t = 200, loss = 0.0086\n",
      "t = 300, loss = 0.0983\n",
      "Got 20695 / 23310 correct (88.78)\n",
      "Got 3389 / 6690 correct (50.66)\n",
      "Starting epoch 16 / 20\n",
      "t = 100, loss = 0.0283\n",
      "t = 200, loss = 0.0667\n",
      "t = 300, loss = 0.0034\n",
      "Got 23102 / 23310 correct (99.11)\n",
      "Got 3562 / 6690 correct (53.24)\n",
      "Starting epoch 17 / 20\n",
      "t = 100, loss = 0.0245\n",
      "t = 200, loss = 0.0312\n",
      "t = 300, loss = 0.0043\n",
      "Got 22885 / 23310 correct (98.18)\n",
      "Got 3342 / 6690 correct (49.96)\n",
      "Starting epoch 18 / 20\n",
      "t = 100, loss = 0.0126\n",
      "t = 200, loss = 0.0118\n",
      "t = 300, loss = 0.0109\n",
      "Got 23260 / 23310 correct (99.79)\n",
      "Got 3615 / 6690 correct (54.04)\n",
      "Starting epoch 19 / 20\n",
      "t = 100, loss = 0.3201\n",
      "t = 200, loss = 0.0050\n",
      "t = 300, loss = 0.0466\n",
      "Got 23248 / 23310 correct (99.73)\n",
      "Got 3569 / 6690 correct (53.35)\n",
      "Starting epoch 20 / 20\n",
      "t = 100, loss = 0.0028\n",
      "t = 200, loss = 0.0081\n",
      "t = 300, loss = 0.0017\n",
      "Got 20703 / 23310 correct (88.82)\n",
      "Got 2987 / 6690 correct (44.65)\n"
     ]
    },
    {
     "data": {
      "image/png": "[encoded data removed]",
      "text/plain": [
       "<matplotlib.figure.Figure at 0x7fc8f09149d0>"
      ]
     },
     "metadata": {
      "tags": []
     },
     "output_type": "display_data"
    },
    {
     "data": {
      "image/png": "[encoded data removed]",
      "text/plain": [
       "<matplotlib.figure.Figure at 0x7fc8f0bf0210>"
      ]
     },
     "metadata": {
      "tags": []
     },
     "output_type": "display_data"
    }
   ],
   "source": [
    "model8.cuda()\n",
    "trainAcc, valAcc = verifyModel(model8, image_dataloader_train, 20)\n",
    "plotGraphAcc(trainAcc, 'Model 8')\n",
    "plotGraphAcc(valAcc, 'Model 8')"
   ]
  },
  {
   "cell_type": "code",
   "execution_count": null,
   "metadata": {
    "colab": {
     "autoexec": {
      "startup": false,
      "wait_interval": 0
     }
    },
    "colab_type": "code",
    "id": "anI_NTEMLq4N",
    "outputId": "87a9b4a6-8f7d-4c5b-acab-ebb0b5f54baf"
   },
   "outputs": [
    {
     "name": "stdout",
     "output_type": "stream",
     "text": [
      "Starting epoch 1 / 8\n",
      "t = 100, loss = 1.8968\n",
      "t = 200, loss = 1.5294\n",
      "t = 300, loss = 1.4787\n",
      "Got 15947 / 23310 correct (68.41)\n",
      "Got 3558 / 6690 correct (53.18)\n",
      "Starting epoch 2 / 8\n",
      "t = 100, loss = 1.2478\n",
      "t = 200, loss = 1.1161\n",
      "t = 300, loss = 0.9204\n",
      "Got 18368 / 23310 correct (78.80)\n",
      "Got 3996 / 6690 correct (59.73)\n",
      "Starting epoch 3 / 8\n",
      "t = 100, loss = 0.9697\n",
      "t = 200, loss = 0.6547\n",
      "t = 300, loss = 0.8181\n",
      "Got 19649 / 23310 correct (84.29)\n",
      "Got 4052 / 6690 correct (60.57)\n",
      "Starting epoch 4 / 8\n",
      "t = 100, loss = 0.9839\n",
      "t = 200, loss = 0.6293\n",
      "t = 300, loss = 0.5364\n",
      "Got 20443 / 23310 correct (87.70)\n",
      "Got 3962 / 6690 correct (59.22)\n",
      "Starting epoch 5 / 8\n",
      "t = 100, loss = 0.7341\n",
      "t = 200, loss = 0.5850\n",
      "t = 300, loss = 0.6384\n",
      "Got 21045 / 23310 correct (90.28)\n",
      "Got 4006 / 6690 correct (59.88)\n",
      "Starting epoch 6 / 8\n",
      "t = 100, loss = 0.5777\n",
      "t = 200, loss = 0.6354\n",
      "t = 300, loss = 0.7672\n",
      "Got 21275 / 23310 correct (91.27)\n",
      "Got 3986 / 6690 correct (59.58)\n",
      "Starting epoch 7 / 8\n",
      "t = 100, loss = 0.5841\n",
      "t = 200, loss = 0.5009\n",
      "t = 300, loss = 0.4101\n",
      "Got 21575 / 23310 correct (92.56)\n",
      "Got 4009 / 6690 correct (59.93)\n",
      "Starting epoch 8 / 8\n",
      "t = 100, loss = 0.6973\n",
      "t = 200, loss = 0.4432\n",
      "t = 300, loss = 0.4638\n",
      "Got 21831 / 23310 correct (93.66)\n",
      "Got 4068 / 6690 correct (60.81)\n"
     ]
    },
    {
     "data": {
      "image/png": "[encoded data removed]",
      "text/plain": [
       "<Figure size 432x288 with 1 Axes>"
      ]
     },
     "metadata": {
      "tags": []
     },
     "output_type": "display_data"
    },
    {
     "data": {
      "image/png": "[encoded data removed]",
      "text/plain": [
       "<Figure size 432x288 with 1 Axes>"
      ]
     },
     "metadata": {
      "tags": []
     },
     "output_type": "display_data"
    }
   ],
   "source": [
    "trainAcc, valAcc = verifyModel(model3, image_dataloader_train, 8)\n",
    "plotGraphAcc(trainAcc, 'Model 3')\n",
    "plotGraphAcc(valAcc, 'Model 3')"
   ]
  },
  {
   "cell_type": "code",
   "execution_count": null,
   "metadata": {
    "colab": {
     "autoexec": {
      "startup": false,
      "wait_interval": 0
     }
    },
    "colab_type": "code",
    "id": "wHlb_R5zLq4S",
    "outputId": "14067a2b-d999-42a2-845c-d51339c2a7aa"
   },
   "outputs": [
    {
     "name": "stdout",
     "output_type": "stream",
     "text": [
      "Starting epoch 1 / 1\n",
      "t = 100, loss = 0.4374\n",
      "t = 200, loss = 0.7991\n",
      "t = 300, loss = 1.3636\n",
      "t = 400, loss = 0.7097\n",
      "Got 19621 / 23310 correct (84.17)\n",
      "Got 6136 / 6690 correct (91.72)\n"
     ]
    }
   ],
   "source": [
    "trainAcc, valAcc = verifyModel(model3, image_dataloader_val, 1)"
   ]
  },
  {
   "cell_type": "code",
   "execution_count": null,
   "metadata": {
    "colab": {
     "autoexec": {
      "startup": false,
      "wait_interval": 0
     }
    },
    "colab_type": "code",
    "id": "Y8HxjufQLq4W",
    "outputId": "dd2a1d14-ddb2-4fad-cf57-b2968c29974c"
   },
   "outputs": [
    {
     "name": "stdout",
     "output_type": "stream",
     "text": [
      "Starting epoch 1 / 8\n",
      "t = 100, loss = 1.7317\n",
      "t = 200, loss = 0.6700\n",
      "t = 300, loss = 0.3594\n",
      "t = 400, loss = 0.8623\n",
      "t = 500, loss = 0.2376\n",
      "t = 600, loss = 0.9365\n",
      "t = 700, loss = 0.2187\n",
      "Got 21596 / 23310 correct (92.65)\n",
      "Got 3681 / 6690 correct (55.02)\n",
      "Starting epoch 2 / 8\n",
      "t = 100, loss = 0.1888\n",
      "t = 200, loss = 0.0702\n",
      "t = 300, loss = 0.1957\n",
      "t = 400, loss = 0.0659\n",
      "t = 500, loss = 0.1539\n",
      "t = 600, loss = 0.0640\n",
      "t = 700, loss = 0.1374\n",
      "Got 20720 / 23310 correct (88.89)\n",
      "Got 3376 / 6690 correct (50.46)\n",
      "Starting epoch 3 / 8\n",
      "t = 100, loss = 0.0206\n",
      "t = 200, loss = 0.0056\n",
      "t = 300, loss = 0.0804\n",
      "t = 400, loss = 0.3428\n",
      "t = 500, loss = 0.0369\n",
      "t = 600, loss = 0.1317\n",
      "t = 700, loss = 0.0818\n",
      "Got 21725 / 23310 correct (93.20)\n",
      "Got 3301 / 6690 correct (49.34)\n",
      "Starting epoch 4 / 8\n",
      "t = 100, loss = 0.0791\n",
      "t = 200, loss = 0.0440\n",
      "t = 300, loss = 0.1118\n",
      "t = 400, loss = 0.2318\n",
      "t = 500, loss = 0.0075\n",
      "t = 600, loss = 0.1203\n",
      "t = 700, loss = 0.2552\n",
      "Got 21683 / 23310 correct (93.02)\n",
      "Got 3528 / 6690 correct (52.74)\n",
      "Starting epoch 5 / 8\n",
      "t = 100, loss = 0.1624\n",
      "t = 200, loss = 0.0121\n",
      "t = 300, loss = 0.0893\n",
      "t = 400, loss = 0.0302\n",
      "t = 500, loss = 0.0296\n",
      "t = 600, loss = 0.0115\n",
      "t = 700, loss = 0.0428\n",
      "Got 22340 / 23310 correct (95.84)\n",
      "Got 3414 / 6690 correct (51.03)\n",
      "Starting epoch 6 / 8\n",
      "t = 100, loss = 0.0059\n",
      "t = 200, loss = 0.0179\n",
      "t = 300, loss = 0.0063\n",
      "t = 400, loss = 0.0669\n",
      "t = 500, loss = 0.2299\n",
      "t = 600, loss = 0.0096\n",
      "t = 700, loss = 0.0186\n",
      "Got 23017 / 23310 correct (98.74)\n",
      "Got 3545 / 6690 correct (52.99)\n",
      "Starting epoch 7 / 8\n",
      "t = 100, loss = 0.0069\n",
      "t = 200, loss = 0.0083\n",
      "t = 300, loss = 0.1055\n",
      "t = 400, loss = 0.0185\n",
      "t = 500, loss = 0.0542\n",
      "t = 600, loss = 0.0296\n",
      "t = 700, loss = 0.0332\n",
      "Got 23133 / 23310 correct (99.24)\n",
      "Got 3577 / 6690 correct (53.47)\n",
      "Starting epoch 8 / 8\n",
      "t = 100, loss = 0.0025\n",
      "t = 200, loss = 0.0017\n",
      "t = 300, loss = 0.0031\n",
      "t = 400, loss = 0.0027\n",
      "t = 500, loss = 0.2364\n",
      "t = 600, loss = 0.2177\n",
      "t = 700, loss = 0.0023\n",
      "Got 23190 / 23310 correct (99.49)\n",
      "Got 3628 / 6690 correct (54.23)\n",
      "Got 23190 / 23310 correct (99.49)\n"
     ]
    },
    {
     "data": {
      "image/png": "[encoded data removed]",
      "text/plain": [
       "<Figure size 432x288 with 1 Axes>"
      ]
     },
     "metadata": {
      "tags": []
     },
     "output_type": "display_data"
    },
    {
     "data": {
      "image/png": "[encoded data removed]",
      "text/plain": [
       "<Figure size 432x288 with 1 Axes>"
      ]
     },
     "metadata": {
      "tags": []
     },
     "output_type": "display_data"
    }
   ],
   "source": [
    "trainAcc, valAcc = verifyModel(model5, image_dataloader_train, 8)\n",
    "plotGraphAcc(trainAcc, 'Model 5')\n",
    "plotGraphAcc(valAcc, 'Model 5')"
   ]
  },
  {
   "cell_type": "code",
   "execution_count": null,
   "metadata": {
    "colab": {
     "autoexec": {
      "startup": false,
      "wait_interval": 0
     }
    },
    "colab_type": "code",
    "id": "CtzgCpZSLq4a",
    "outputId": "b2b03c12-7ac5-4bbb-f0d6-d6442530288a"
   },
   "outputs": [
    {
     "name": "stdout",
     "output_type": "stream",
     "text": [
      "Starting epoch 1 / 8\n",
      "t = 100, loss = 1.7030\n",
      "t = 200, loss = 1.2910\n",
      "t = 300, loss = 1.0458\n",
      "t = 400, loss = 0.7921\n",
      "t = 500, loss = 0.8174\n",
      "t = 600, loss = 0.7407\n",
      "t = 700, loss = 0.4247\n",
      "Got 17391 / 23310 correct (74.61)\n",
      "Got 3436 / 6690 correct (51.36)\n",
      "Starting epoch 2 / 8\n",
      "t = 100, loss = 0.3315\n",
      "t = 200, loss = 0.6120\n",
      "t = 300, loss = 0.2292\n",
      "t = 400, loss = 0.4764\n",
      "t = 500, loss = 0.2294\n",
      "t = 600, loss = 0.3710\n",
      "t = 700, loss = 0.2627\n",
      "Got 20409 / 23310 correct (87.55)\n",
      "Got 3685 / 6690 correct (55.08)\n",
      "Starting epoch 3 / 8\n",
      "t = 100, loss = 0.2595\n",
      "t = 200, loss = 0.6726\n",
      "t = 300, loss = 0.1358\n",
      "t = 400, loss = 0.4160\n",
      "t = 500, loss = 0.2121\n",
      "t = 600, loss = 0.1969\n",
      "t = 700, loss = 0.1388\n",
      "Got 21932 / 23310 correct (94.09)\n",
      "Got 4122 / 6690 correct (61.61)\n",
      "Starting epoch 4 / 8\n",
      "t = 100, loss = 0.3356\n",
      "t = 200, loss = 0.1573\n",
      "t = 300, loss = 0.2613\n",
      "t = 400, loss = 0.0612\n",
      "t = 500, loss = 0.0872\n",
      "t = 600, loss = 0.2891\n",
      "t = 700, loss = 0.0402\n",
      "Got 22218 / 23310 correct (95.32)\n",
      "Got 4123 / 6690 correct (61.63)\n",
      "Starting epoch 5 / 8\n",
      "t = 100, loss = 0.1147\n",
      "t = 200, loss = 0.2383\n",
      "t = 300, loss = 0.0271\n",
      "t = 400, loss = 0.1627\n",
      "t = 500, loss = 0.0964\n",
      "t = 600, loss = 0.0498\n",
      "t = 700, loss = 0.0337\n",
      "Got 21420 / 23310 correct (91.89)\n",
      "Got 3646 / 6690 correct (54.50)\n",
      "Starting epoch 6 / 8\n",
      "t = 100, loss = 0.1128\n",
      "t = 200, loss = 0.1760\n",
      "t = 300, loss = 0.1552\n",
      "t = 400, loss = 0.1311\n",
      "t = 500, loss = 0.1647\n",
      "t = 600, loss = 0.1155\n",
      "t = 700, loss = 0.1751\n",
      "Got 22993 / 23310 correct (98.64)\n",
      "Got 4254 / 6690 correct (63.59)\n",
      "Starting epoch 7 / 8\n",
      "t = 100, loss = 0.0434\n",
      "t = 200, loss = 0.1278\n",
      "t = 300, loss = 0.0205\n",
      "t = 400, loss = 0.1425\n",
      "t = 500, loss = 0.0234\n",
      "t = 600, loss = 0.1632\n",
      "t = 700, loss = 0.0723\n",
      "Got 22678 / 23310 correct (97.29)\n",
      "Got 4068 / 6690 correct (60.81)\n",
      "Starting epoch 8 / 8\n",
      "t = 100, loss = 0.0416\n",
      "t = 200, loss = 0.0850\n",
      "t = 300, loss = 0.0203\n",
      "t = 400, loss = 0.0211\n",
      "t = 500, loss = 0.0125\n",
      "t = 600, loss = 0.0622\n",
      "t = 700, loss = 0.0169\n",
      "Got 23167 / 23310 correct (99.39)\n",
      "Got 4261 / 6690 correct (63.69)\n",
      "Got 23167 / 23310 correct (99.39)\n"
     ]
    },
    {
     "data": {
      "image/png": "[encoded data removed]",
      "text/plain": [
       "<Figure size 432x288 with 1 Axes>"
      ]
     },
     "metadata": {
      "tags": []
     },
     "output_type": "display_data"
    },
    {
     "data": {
      "image/png": "[encoded data removed]",
      "text/plain": [
       "<Figure size 432x288 with 1 Axes>"
      ]
     },
     "metadata": {
      "tags": []
     },
     "output_type": "display_data"
    }
   ],
   "source": [
    "trainAcc, valAcc = verifyModel(model6, image_dataloader_train, 8)\n",
    "plotGraphAcc(trainAcc, 'Model 6')\n",
    "plotGraphAcc(valAcc, 'Model 6')"
   ]
  },
  {
   "cell_type": "code",
   "execution_count": null,
   "metadata": {
    "colab": {
     "autoexec": {
      "startup": false,
      "wait_interval": 0
     }
    },
    "colab_type": "code",
    "id": "gSdDXZaPLq4c",
    "outputId": "bff98167-e6b9-4669-f155-5e0b7a90bd42"
   },
   "outputs": [
    {
     "name": "stdout",
     "output_type": "stream",
     "text": [
      "Starting epoch 1 / 8\n",
      "t = 100, loss = 1.7965\n",
      "t = 200, loss = 1.6944\n",
      "t = 300, loss = 1.4508\n",
      "t = 400, loss = 1.0805\n",
      "t = 500, loss = 0.9303\n",
      "t = 600, loss = 1.0090\n",
      "t = 700, loss = 0.9403\n",
      "Got 14420 / 23310 correct (61.86)\n",
      "Got 2720 / 6690 correct (40.66)\n",
      "Starting epoch 2 / 8\n",
      "t = 100, loss = 0.9003\n",
      "t = 200, loss = 0.9024\n",
      "t = 300, loss = 0.6498\n",
      "t = 400, loss = 0.6528\n",
      "t = 500, loss = 0.8079\n",
      "t = 600, loss = 0.5840\n",
      "t = 700, loss = 0.2919\n",
      "Got 18711 / 23310 correct (80.27)\n",
      "Got 3517 / 6690 correct (52.57)\n",
      "Starting epoch 3 / 8\n",
      "t = 100, loss = 0.3250\n",
      "t = 200, loss = 0.5426\n",
      "t = 300, loss = 0.5502\n",
      "t = 400, loss = 0.2904\n",
      "t = 500, loss = 0.3022\n",
      "t = 600, loss = 0.3123\n",
      "t = 700, loss = 0.2524\n",
      "Got 21236 / 23310 correct (91.10)\n",
      "Got 3528 / 6690 correct (52.74)\n",
      "Starting epoch 4 / 8\n",
      "t = 100, loss = 0.3209\n",
      "t = 200, loss = 0.1784\n",
      "t = 300, loss = 0.1983\n",
      "t = 400, loss = 0.2606\n",
      "t = 500, loss = 0.1965\n",
      "t = 600, loss = 0.1178\n",
      "t = 700, loss = 0.1907\n",
      "Got 20395 / 23310 correct (87.49)\n",
      "Got 3511 / 6690 correct (52.48)\n",
      "Starting epoch 5 / 8\n",
      "t = 100, loss = 0.4167\n",
      "t = 200, loss = 0.2019\n",
      "t = 300, loss = 0.0813\n",
      "t = 400, loss = 0.1384\n",
      "t = 500, loss = 0.3688\n",
      "t = 600, loss = 0.0243\n",
      "t = 700, loss = 0.0511\n",
      "Got 22458 / 23310 correct (96.34)\n",
      "Got 3809 / 6690 correct (56.94)\n",
      "Starting epoch 6 / 8\n",
      "t = 100, loss = 0.0431\n",
      "t = 200, loss = 0.1434\n",
      "t = 300, loss = 0.0609\n",
      "t = 400, loss = 0.1697\n",
      "t = 500, loss = 0.0832\n",
      "t = 600, loss = 0.0404\n",
      "t = 700, loss = 0.1043\n",
      "Got 22826 / 23310 correct (97.92)\n",
      "Got 3913 / 6690 correct (58.49)\n",
      "Starting epoch 7 / 8\n",
      "t = 100, loss = 0.0259\n",
      "t = 200, loss = 0.0318\n",
      "t = 300, loss = 0.1016\n",
      "t = 400, loss = 0.0163\n",
      "t = 500, loss = 0.0617\n",
      "t = 600, loss = 0.1746\n",
      "t = 700, loss = 0.0118\n",
      "Got 23096 / 23310 correct (99.08)\n",
      "Got 4063 / 6690 correct (60.73)\n",
      "Starting epoch 8 / 8\n",
      "t = 100, loss = 0.0716\n",
      "t = 200, loss = 0.0870\n",
      "t = 300, loss = 0.0363\n",
      "t = 400, loss = 0.0453\n",
      "t = 500, loss = 0.0410\n",
      "t = 600, loss = 0.0357\n",
      "t = 700, loss = 0.0082\n",
      "Got 22788 / 23310 correct (97.76)\n",
      "Got 3896 / 6690 correct (58.24)\n"
     ]
    },
    {
     "data": {
      "image/png": "[encoded data removed]",
      "text/plain": [
       "<Figure size 432x288 with 1 Axes>"
      ]
     },
     "metadata": {
      "tags": []
     },
     "output_type": "display_data"
    },
    {
     "data": {
      "image/png": "[encoded data removed]",
      "text/plain": [
       "<Figure size 432x288 with 1 Axes>"
      ]
     },
     "metadata": {
      "tags": []
     },
     "output_type": "display_data"
    }
   ],
   "source": [
    "# Model 6 with ReLU for FCL\n",
    "trainAcc, valAcc = verifyModel(model6, image_dataloader_train, 8)\n",
    "plotGraphAcc(trainAcc, 'Model 6')\n",
    "plotGraphAcc(valAcc, 'Model 6')"
   ]
  },
  {
   "cell_type": "code",
   "execution_count": null,
   "metadata": {
    "colab": {
     "autoexec": {
      "startup": false,
      "wait_interval": 0
     }
    },
    "colab_type": "code",
    "id": "mEZ8S09ILq4j",
    "outputId": "c4edc948-f85a-4e83-e12c-390f211f5202"
   },
   "outputs": [
    {
     "name": "stdout",
     "output_type": "stream",
     "text": [
      "Starting epoch 1 / 8\n",
      "t = 100, loss = 1.7227\n",
      "t = 200, loss = 1.2205\n",
      "t = 300, loss = 1.1440\n",
      "t = 400, loss = 1.2147\n",
      "t = 500, loss = 1.0303\n",
      "t = 600, loss = 0.7685\n",
      "t = 700, loss = 0.6610\n",
      "Got 16725 / 23310 correct (71.75)\n",
      "Got 3001 / 6690 correct (44.86)\n",
      "Starting epoch 2 / 8\n",
      "t = 100, loss = 0.4642\n",
      "t = 200, loss = 0.4615\n",
      "t = 300, loss = 0.4227\n",
      "t = 400, loss = 0.3402\n",
      "t = 500, loss = 0.2545\n",
      "t = 600, loss = 0.3099\n",
      "t = 700, loss = 0.3258\n",
      "Got 18419 / 23310 correct (79.02)\n",
      "Got 2761 / 6690 correct (41.27)\n",
      "Starting epoch 3 / 8\n",
      "t = 100, loss = 0.2053\n",
      "t = 200, loss = 0.2684\n",
      "t = 300, loss = 0.3288\n",
      "t = 400, loss = 0.3242\n",
      "t = 500, loss = 0.2140\n",
      "t = 600, loss = 0.2115\n",
      "t = 700, loss = 1.3035\n",
      "Got 22028 / 23310 correct (94.50)\n",
      "Got 3820 / 6690 correct (57.10)\n",
      "Starting epoch 4 / 8\n",
      "t = 100, loss = 0.0789\n",
      "t = 200, loss = 0.1333\n",
      "t = 300, loss = 0.0400\n",
      "t = 400, loss = 0.1659\n",
      "t = 500, loss = 0.1562\n",
      "t = 600, loss = 0.0533\n",
      "t = 700, loss = 0.1240\n",
      "Got 22346 / 23310 correct (95.86)\n",
      "Got 3743 / 6690 correct (55.95)\n",
      "Starting epoch 5 / 8\n",
      "t = 100, loss = 0.0678\n",
      "t = 200, loss = 0.0793\n",
      "t = 300, loss = 0.1012\n",
      "t = 400, loss = 0.1394\n",
      "t = 500, loss = 0.2905\n",
      "t = 600, loss = 0.0664\n",
      "t = 700, loss = 0.2097\n",
      "Got 22926 / 23310 correct (98.35)\n",
      "Got 3682 / 6690 correct (55.04)\n",
      "Starting epoch 6 / 8\n",
      "t = 100, loss = 0.1803\n",
      "t = 200, loss = 0.1532\n",
      "t = 300, loss = 0.0629\n",
      "t = 400, loss = 0.0458\n",
      "t = 500, loss = 0.0497\n",
      "t = 600, loss = 0.1038\n",
      "t = 700, loss = 0.1372\n",
      "Got 23055 / 23310 correct (98.91)\n",
      "Got 3889 / 6690 correct (58.13)\n",
      "Starting epoch 7 / 8\n",
      "t = 100, loss = 0.1050\n",
      "t = 200, loss = 0.0562\n",
      "t = 300, loss = 0.0359\n",
      "t = 400, loss = 0.0373\n",
      "t = 500, loss = 0.0969\n",
      "t = 600, loss = 0.0240\n",
      "t = 700, loss = 0.0709\n",
      "Got 22824 / 23310 correct (97.92)\n",
      "Got 3643 / 6690 correct (54.45)\n",
      "Starting epoch 8 / 8\n",
      "t = 100, loss = 0.0306\n",
      "t = 200, loss = 0.0953\n",
      "t = 300, loss = 0.0092\n",
      "t = 400, loss = 0.0154\n",
      "t = 500, loss = 0.0072\n",
      "t = 600, loss = 0.0043\n",
      "t = 700, loss = 0.1094\n",
      "Got 21826 / 23310 correct (93.63)\n",
      "Got 3368 / 6690 correct (50.34)\n"
     ]
    },
    {
     "data": {
      "image/png": "[encoded data removed]",
      "text/plain": [
       "<Figure size 432x288 with 1 Axes>"
      ]
     },
     "metadata": {
      "tags": []
     },
     "output_type": "display_data"
    },
    {
     "data": {
      "image/png": "[encoded data removed]",
      "text/plain": [
       "<Figure size 432x288 with 1 Axes>"
      ]
     },
     "metadata": {
      "tags": []
     },
     "output_type": "display_data"
    }
   ],
   "source": [
    "trainAcc, valAcc = verifyModel(model61, image_dataloader_train, 8)\n",
    "plotGraphAcc(trainAcc, 'Model 6.1')\n",
    "plotGraphAcc(valAcc, 'Model 6.1')"
   ]
  },
  {
   "cell_type": "code",
   "execution_count": null,
   "metadata": {
    "colab": {
     "autoexec": {
      "startup": false,
      "wait_interval": 0
     }
    },
    "colab_type": "code",
    "id": "IX9CO3JNLq4o",
    "outputId": "61c4117d-f72f-49fa-c328-2039756c1c38"
   },
   "outputs": [
    {
     "name": "stdout",
     "output_type": "stream",
     "text": [
      "Starting epoch 1 / 8\n",
      "t = 100, loss = 1.5476\n",
      "t = 200, loss = 1.3872\n",
      "t = 300, loss = 1.0782\n",
      "t = 400, loss = 0.8776\n",
      "t = 500, loss = 0.6531\n",
      "t = 600, loss = 0.6375\n",
      "t = 700, loss = 0.4797\n",
      "Got 18258 / 23310 correct (78.33)\n",
      "Got 3373 / 6690 correct (50.42)\n",
      "Starting epoch 2 / 8\n",
      "t = 100, loss = 0.5402\n",
      "t = 200, loss = 0.3380\n",
      "t = 300, loss = 0.3842\n",
      "t = 400, loss = 0.4307\n",
      "t = 500, loss = 0.3989\n",
      "t = 600, loss = 0.3109\n",
      "t = 700, loss = 0.3133\n",
      "Got 20567 / 23310 correct (88.23)\n",
      "Got 3330 / 6690 correct (49.78)\n",
      "Starting epoch 3 / 8\n",
      "t = 100, loss = 0.3247\n",
      "t = 200, loss = 0.1363\n",
      "t = 300, loss = 0.1903\n",
      "t = 400, loss = 0.0842\n",
      "t = 500, loss = 0.0765\n",
      "t = 600, loss = 0.1088\n",
      "t = 700, loss = 0.1997\n",
      "Got 21924 / 23310 correct (94.05)\n",
      "Got 3783 / 6690 correct (56.55)\n",
      "Starting epoch 4 / 8\n",
      "t = 100, loss = 0.1123\n",
      "t = 200, loss = 0.0802\n",
      "t = 300, loss = 0.0382\n",
      "t = 400, loss = 0.0814\n",
      "t = 500, loss = 0.0188\n",
      "t = 600, loss = 0.0611\n",
      "t = 700, loss = 0.1128\n",
      "Got 21186 / 23310 correct (90.89)\n",
      "Got 3555 / 6690 correct (53.14)\n",
      "Starting epoch 5 / 8\n",
      "t = 100, loss = 0.1220\n",
      "t = 200, loss = 0.0339\n",
      "t = 300, loss = 0.0080\n",
      "t = 400, loss = 0.1042\n",
      "t = 500, loss = 0.0457\n",
      "t = 600, loss = 0.0201\n",
      "t = 700, loss = 0.0909\n",
      "Got 22878 / 23310 correct (98.15)\n",
      "Got 3830 / 6690 correct (57.25)\n",
      "Starting epoch 6 / 8\n",
      "t = 100, loss = 0.0218\n",
      "t = 200, loss = 0.0192\n",
      "t = 300, loss = 0.0270\n",
      "t = 400, loss = 0.0345\n",
      "t = 500, loss = 0.0296\n",
      "t = 600, loss = 0.0613\n",
      "t = 700, loss = 0.0772\n",
      "Got 23135 / 23310 correct (99.25)\n",
      "Got 4084 / 6690 correct (61.05)\n",
      "Starting epoch 7 / 8\n",
      "t = 100, loss = 0.0276\n",
      "t = 200, loss = 0.1260\n",
      "t = 300, loss = 0.0144\n",
      "t = 400, loss = 0.0293\n",
      "t = 500, loss = 0.0406\n",
      "t = 600, loss = 0.2092\n",
      "t = 700, loss = 0.0324\n",
      "Got 22992 / 23310 correct (98.64)\n",
      "Got 3938 / 6690 correct (58.86)\n",
      "Starting epoch 8 / 8\n",
      "t = 100, loss = 0.0038\n",
      "t = 200, loss = 0.0282\n",
      "t = 300, loss = 0.0460\n",
      "t = 400, loss = 0.0107\n",
      "t = 500, loss = 0.0017\n",
      "t = 600, loss = 0.0011\n",
      "t = 700, loss = 0.0006\n",
      "Got 22854 / 23310 correct (98.04)\n",
      "Got 3952 / 6690 correct (59.07)\n"
     ]
    },
    {
     "data": {
      "image/png": "[encoded data removed]",
      "text/plain": [
       "<Figure size 432x288 with 1 Axes>"
      ]
     },
     "metadata": {
      "tags": []
     },
     "output_type": "display_data"
    },
    {
     "data": {
      "image/png": "[encoded data removed]",
      "text/plain": [
       "<Figure size 432x288 with 1 Axes>"
      ]
     },
     "metadata": {
      "tags": []
     },
     "output_type": "display_data"
    }
   ],
   "source": [
    "trainAcc, valAcc = verifyModel(model61, image_dataloader_train, 8)\n",
    "plotGraphAcc(trainAcc, 'Model 6.1')\n",
    "plotGraphAcc(valAcc, 'Model 6.1')"
   ]
  },
  {
   "cell_type": "code",
   "execution_count": null,
   "metadata": {
    "colab": {
     "autoexec": {
      "startup": false,
      "wait_interval": 0
     }
    },
    "colab_type": "code",
    "id": "g8M7iYjQLq4r",
    "outputId": "8ca2b203-ff6f-46fa-ae98-023abf5ff351"
   },
   "outputs": [
    {
     "name": "stdout",
     "output_type": "stream",
     "text": [
      "Starting epoch 1 / 8\n",
      "t = 100, loss = 1.9120\n",
      "t = 200, loss = 1.1386\n",
      "t = 300, loss = 0.9944\n",
      "t = 400, loss = 0.7693\n",
      "t = 500, loss = 0.6885\n",
      "t = 600, loss = 0.6081\n",
      "t = 700, loss = 0.5873\n",
      "Got 19429 / 23310 correct (83.35)\n",
      "Got 3702 / 6690 correct (55.34)\n",
      "Starting epoch 2 / 8\n",
      "t = 100, loss = 0.6705\n",
      "t = 200, loss = 0.3562\n",
      "t = 300, loss = 0.5470\n",
      "t = 400, loss = 0.2781\n",
      "t = 500, loss = 0.3409\n",
      "t = 600, loss = 0.3216\n",
      "t = 700, loss = 0.3153\n",
      "Got 21815 / 23310 correct (93.59)\n",
      "Got 3863 / 6690 correct (57.74)\n",
      "Starting epoch 3 / 8\n",
      "t = 100, loss = 0.2851\n",
      "t = 200, loss = 0.2381\n",
      "t = 300, loss = 0.2096\n",
      "t = 400, loss = 0.1256\n",
      "t = 500, loss = 0.1306\n",
      "t = 600, loss = 0.3011\n",
      "t = 700, loss = 0.1492\n",
      "Got 22503 / 23310 correct (96.54)\n",
      "Got 4130 / 6690 correct (61.73)\n",
      "Starting epoch 4 / 8\n",
      "t = 100, loss = 0.0784\n",
      "t = 200, loss = 0.1821\n",
      "t = 300, loss = 0.1180\n",
      "t = 400, loss = 0.3493\n",
      "t = 500, loss = 0.0675\n",
      "t = 600, loss = 0.1586\n",
      "t = 700, loss = 0.0277\n",
      "Got 22668 / 23310 correct (97.25)\n",
      "Got 3853 / 6690 correct (57.59)\n",
      "Starting epoch 5 / 8\n",
      "t = 100, loss = 0.0714\n",
      "t = 200, loss = 0.0720\n",
      "t = 300, loss = 0.1664\n",
      "t = 400, loss = 0.1240\n",
      "t = 500, loss = 0.0884\n",
      "t = 600, loss = 0.0378\n",
      "t = 700, loss = 0.0247\n",
      "Got 22978 / 23310 correct (98.58)\n",
      "Got 4124 / 6690 correct (61.64)\n",
      "Starting epoch 6 / 8\n",
      "t = 100, loss = 0.1093\n",
      "t = 200, loss = 0.1945\n",
      "t = 300, loss = 0.1687\n",
      "t = 400, loss = 0.0863\n",
      "t = 500, loss = 0.1416\n",
      "t = 600, loss = 0.0833\n",
      "t = 700, loss = 0.0425\n",
      "Got 22578 / 23310 correct (96.86)\n",
      "Got 3773 / 6690 correct (56.40)\n",
      "Starting epoch 7 / 8\n",
      "t = 100, loss = 0.1669\n",
      "t = 200, loss = 0.0302\n",
      "t = 300, loss = 0.0124\n",
      "t = 400, loss = 0.0645\n",
      "t = 500, loss = 0.1060\n",
      "t = 600, loss = 0.1822\n",
      "t = 700, loss = 0.0208\n",
      "Got 23059 / 23310 correct (98.92)\n",
      "Got 3793 / 6690 correct (56.70)\n",
      "Starting epoch 8 / 8\n",
      "t = 100, loss = 0.0277\n",
      "t = 200, loss = 0.0471\n",
      "t = 300, loss = 0.1039\n",
      "t = 400, loss = 0.0123\n",
      "t = 500, loss = 0.0586\n",
      "t = 600, loss = 0.0562\n",
      "t = 700, loss = 0.0928\n",
      "Got 23185 / 23310 correct (99.46)\n",
      "Got 4267 / 6690 correct (63.78)\n"
     ]
    },
    {
     "data": {
      "image/png": "[encoded data removed]",
      "text/plain": [
       "<Figure size 432x288 with 1 Axes>"
      ]
     },
     "metadata": {
      "tags": []
     },
     "output_type": "display_data"
    },
    {
     "data": {
      "image/png": "[encoded data removed]",
      "text/plain": [
       "<Figure size 432x288 with 1 Axes>"
      ]
     },
     "metadata": {
      "tags": []
     },
     "output_type": "display_data"
    }
   ],
   "source": [
    "# With Dropout and Adam\n",
    "trainAcc, valAcc = verifyModel(model61, image_dataloader_train, 8)\n",
    "plotGraphAcc(trainAcc, 'Model 6.1')\n",
    "plotGraphAcc(valAcc, 'Model 6.1')"
   ]
  },
  {
   "cell_type": "code",
   "execution_count": null,
   "metadata": {
    "colab": {
     "autoexec": {
      "startup": false,
      "wait_interval": 0
     }
    },
    "colab_type": "code",
    "id": "QTfFlacmLq4z",
    "outputId": "6da6a717-7f51-4986-d63b-58120f85d3eb"
   },
   "outputs": [
    {
     "name": "stdout",
     "output_type": "stream",
     "text": [
      "Starting epoch 1 / 8\n",
      "t = 100, loss = 2.1010\n",
      "t = 200, loss = 2.2125\n",
      "t = 300, loss = 1.6066\n",
      "t = 400, loss = 1.4107\n",
      "t = 500, loss = 1.3005\n",
      "t = 600, loss = 1.4959\n",
      "t = 700, loss = 1.5079\n",
      "Got 11951 / 23310 correct (51.27)\n",
      "Got 1940 / 6690 correct (29.00)\n",
      "Starting epoch 2 / 8\n",
      "t = 100, loss = 1.1320\n",
      "t = 200, loss = 1.0920\n",
      "t = 300, loss = 1.3414\n",
      "t = 400, loss = 0.7298\n",
      "t = 500, loss = 0.7747\n",
      "t = 600, loss = 0.9305\n",
      "t = 700, loss = 0.9315\n",
      "Got 14987 / 23310 correct (64.29)\n",
      "Got 2677 / 6690 correct (40.01)\n",
      "Starting epoch 3 / 8\n",
      "t = 100, loss = 0.8075\n",
      "t = 200, loss = 0.7142\n",
      "t = 300, loss = 0.7489\n",
      "t = 400, loss = 0.8170\n",
      "t = 500, loss = 0.6388\n",
      "t = 600, loss = 0.8911\n",
      "t = 700, loss = 0.4399\n",
      "Got 17842 / 23310 correct (76.54)\n",
      "Got 2838 / 6690 correct (42.42)\n",
      "Starting epoch 4 / 8\n",
      "t = 100, loss = 0.5785\n",
      "t = 200, loss = 0.6014\n",
      "t = 300, loss = 0.8176\n",
      "t = 400, loss = 0.5516\n",
      "t = 500, loss = 0.3390\n",
      "t = 600, loss = 0.5591\n",
      "t = 700, loss = 0.3432\n",
      "Got 16801 / 23310 correct (72.08)\n",
      "Got 2683 / 6690 correct (40.10)\n",
      "Starting epoch 5 / 8\n",
      "t = 100, loss = 0.2565\n",
      "t = 200, loss = 0.6183\n",
      "t = 300, loss = 0.3958\n",
      "t = 400, loss = 0.3223\n",
      "t = 500, loss = 0.5550\n",
      "t = 600, loss = 0.3753\n",
      "t = 700, loss = 0.3200\n",
      "Got 19561 / 23310 correct (83.92)\n",
      "Got 2797 / 6690 correct (41.81)\n",
      "Starting epoch 6 / 8\n",
      "t = 100, loss = 0.2439\n",
      "t = 200, loss = 0.4370\n",
      "t = 300, loss = 0.3294\n",
      "t = 400, loss = 0.3237\n",
      "t = 500, loss = 0.2495\n",
      "t = 600, loss = 0.4495\n",
      "t = 700, loss = 0.5443\n",
      "Got 20451 / 23310 correct (87.73)\n",
      "Got 2617 / 6690 correct (39.12)\n",
      "Starting epoch 7 / 8\n",
      "t = 100, loss = 0.2965\n",
      "t = 200, loss = 0.1721\n",
      "t = 300, loss = 0.2056\n",
      "t = 400, loss = 0.2211\n",
      "t = 500, loss = 0.1457\n",
      "t = 600, loss = 0.1162\n",
      "t = 700, loss = 0.1575\n",
      "Got 21915 / 23310 correct (94.02)\n",
      "Got 2838 / 6690 correct (42.42)\n",
      "Starting epoch 8 / 8\n",
      "t = 100, loss = 0.0786\n",
      "t = 200, loss = 0.2429\n",
      "t = 300, loss = 0.1125\n",
      "t = 400, loss = 0.1330\n",
      "t = 500, loss = 0.0944\n",
      "t = 600, loss = 0.2258\n",
      "t = 700, loss = 0.0431\n",
      "Got 22107 / 23310 correct (94.84)\n",
      "Got 3189 / 6690 correct (47.67)\n",
      "Got 22107 / 23310 correct (94.84)\n"
     ]
    },
    {
     "data": {
      "image/png": "[encoded data removed]",
      "text/plain": [
       "<Figure size 432x288 with 1 Axes>"
      ]
     },
     "metadata": {
      "tags": []
     },
     "output_type": "display_data"
    },
    {
     "data": {
      "image/png": "[encoded data removed]",
      "text/plain": [
       "<Figure size 432x288 with 1 Axes>"
      ]
     },
     "metadata": {
      "tags": []
     },
     "output_type": "display_data"
    }
   ],
   "source": [
    "trainAcc, valAcc = verifyModel(model7, image_dataloader_train, 8)\n",
    "plotGraphAcc(trainAcc, 'Model 7')\n",
    "plotGraphAcc(valAcc, 'Model 7')"
   ]
  },
  {
   "cell_type": "code",
   "execution_count": null,
   "metadata": {
    "colab": {
     "autoexec": {
      "startup": false,
      "wait_interval": 0
     }
    },
    "colab_type": "code",
    "id": "Gv3tYlbPLq43",
    "outputId": "e8bb7445-cdff-4f2b-d9b3-250bcf8b3fb9"
   },
   "outputs": [
    {
     "name": "stdout",
     "output_type": "stream",
     "text": [
      "Starting epoch 1 / 3\n",
      "t = 100, loss = 0.1042\n",
      "t = 200, loss = 0.2947\n",
      "t = 300, loss = 0.2017\n",
      "t = 400, loss = 0.1192\n",
      "t = 500, loss = 0.0902\n",
      "t = 600, loss = 0.1401\n",
      "t = 700, loss = 0.0590\n",
      "Got 19618 / 23310 correct (84.16)\n",
      "Got 2475 / 6690 correct (37.00)\n",
      "Starting epoch 2 / 3\n",
      "t = 100, loss = 0.1437\n",
      "t = 200, loss = 0.0541\n",
      "t = 300, loss = 0.2155\n",
      "t = 400, loss = 0.0779\n",
      "t = 500, loss = 0.2729\n",
      "t = 600, loss = 0.0797\n",
      "t = 700, loss = 0.3194\n",
      "Got 22645 / 23310 correct (97.15)\n",
      "Got 3003 / 6690 correct (44.89)\n",
      "Starting epoch 3 / 3\n",
      "t = 100, loss = 0.1570\n",
      "t = 200, loss = 0.1555\n",
      "t = 300, loss = 0.0563\n",
      "t = 400, loss = 0.0836\n",
      "t = 500, loss = 0.0447\n",
      "t = 600, loss = 0.1775\n",
      "t = 700, loss = 0.0706\n",
      "Got 22703 / 23310 correct (97.40)\n",
      "Got 3201 / 6690 correct (47.85)\n"
     ]
    },
    {
     "data": {
      "image/png": "[encoded data removed]",
      "text/plain": [
       "<Figure size 432x288 with 1 Axes>"
      ]
     },
     "metadata": {
      "tags": []
     },
     "output_type": "display_data"
    },
    {
     "data": {
      "image/png": "[encoded data removed]",
      "text/plain": [
       "<Figure size 432x288 with 1 Axes>"
      ]
     },
     "metadata": {
      "tags": []
     },
     "output_type": "display_data"
    }
   ],
   "source": [
    "trainAcc, valAcc = verifyModel(model7, image_dataloader_train, 3)\n",
    "plotGraphAcc(trainAcc, 'Model 7')\n",
    "plotGraphAcc(valAcc, 'Model 7')"
   ]
  },
  {
   "cell_type": "code",
   "execution_count": 92,
   "metadata": {
    "colab": {
     "autoexec": {
      "startup": false,
      "wait_interval": 0
     },
     "base_uri": "https://localhost:8080/",
     "height": 1591
    },
    "colab_type": "code",
    "executionInfo": {
     "elapsed": 707212,
     "status": "ok",
     "timestamp": 1523499680267,
     "user": {
      "displayName": "Bhushan Sonawane",
      "photoUrl": "https://lh3.googleusercontent.com/a/default-user=s128",
      "userId": "110462201665686822019"
     },
     "user_tz": 240
    },
    "id": "2VbvnqRZnTH2",
    "outputId": "7dfb1ba7-249a-415f-c4f0-010cea06d497"
   },
   "outputs": [
    {
     "name": "stdout",
     "output_type": "stream",
     "text": [
      "Starting epoch 1 / 10\n",
      "t = 100, loss = 2.0585\n",
      "t = 200, loss = 1.9812\n",
      "t = 300, loss = 1.9412\n",
      "Got 7692 / 23310 correct (33.00)\n",
      "Got 1434 / 6690 correct (21.43)\n",
      "Starting epoch 2 / 10\n",
      "t = 100, loss = 1.9870\n",
      "t = 200, loss = 1.6708\n",
      "t = 300, loss = 1.4870\n",
      "Got 10966 / 23310 correct (47.04)\n",
      "Got 1963 / 6690 correct (29.34)\n",
      "Starting epoch 3 / 10\n",
      "t = 100, loss = 1.7133\n",
      "t = 200, loss = 1.5080\n",
      "t = 300, loss = 1.3763\n",
      "Got 15505 / 23310 correct (66.52)\n",
      "Got 2380 / 6690 correct (35.58)\n",
      "Starting epoch 4 / 10\n",
      "t = 100, loss = 1.3079\n",
      "t = 200, loss = 1.1970\n",
      "t = 300, loss = 1.2106\n",
      "Got 16200 / 23310 correct (69.50)\n",
      "Got 2470 / 6690 correct (36.92)\n",
      "Starting epoch 5 / 10\n",
      "t = 100, loss = 0.9444\n",
      "t = 200, loss = 1.1092\n",
      "t = 300, loss = 0.8322\n",
      "Got 16901 / 23310 correct (72.51)\n",
      "Got 2560 / 6690 correct (38.27)\n",
      "Starting epoch 6 / 10\n",
      "t = 100, loss = 1.0440\n",
      "t = 200, loss = 0.5331\n",
      "t = 300, loss = 0.8137\n",
      "Got 17802 / 23310 correct (76.37)\n",
      "Got 2548 / 6690 correct (38.09)\n",
      "Starting epoch 7 / 10\n",
      "t = 100, loss = 0.8008\n",
      "t = 200, loss = 0.8780\n",
      "t = 300, loss = 0.8353\n",
      "Got 19466 / 23310 correct (83.51)\n",
      "Got 3111 / 6690 correct (46.50)\n",
      "Starting epoch 8 / 10\n",
      "t = 100, loss = 0.6299\n",
      "t = 200, loss = 0.5176\n",
      "t = 300, loss = 0.4821\n",
      "Got 18409 / 23310 correct (78.97)\n",
      "Got 2432 / 6690 correct (36.35)\n",
      "Starting epoch 9 / 10\n",
      "t = 100, loss = 0.6641\n",
      "t = 200, loss = 0.4546\n",
      "t = 300, loss = 0.3694\n",
      "Got 21156 / 23310 correct (90.76)\n",
      "Got 3354 / 6690 correct (50.13)\n",
      "Starting epoch 10 / 10\n",
      "t = 100, loss = 0.3240\n",
      "t = 200, loss = 0.3986\n",
      "t = 300, loss = 0.2574\n",
      "Got 20545 / 23310 correct (88.14)\n",
      "Got 2971 / 6690 correct (44.41)\n"
     ]
    },
    {
     "data": {
      "image/png": "[encoded data removed]",
      "text/plain": [
       "<matplotlib.figure.Figure at 0x7fc8f09657d0>"
      ]
     },
     "metadata": {
      "tags": []
     },
     "output_type": "display_data"
    },
    {
     "data": {
      "image/png": "[encoded data removed]",
      "text/plain": [
       "<matplotlib.figure.Figure at 0x7fc8f09a0b50>"
      ]
     },
     "metadata": {
      "tags": []
     },
     "output_type": "display_data"
    }
   ],
   "source": [
    "trainAcc, valAcc = verifyModel(model8, image_dataloader_train, 10)\n",
    "plotGraphAcc(trainAcc, 'Model 8 with BN')\n",
    "plotGraphAcc(valAcc, 'Model 8 with BN')"
   ]
  },
  {
   "cell_type": "code",
   "execution_count": null,
   "metadata": {
    "colab": {
     "autoexec": {
      "startup": false,
      "wait_interval": 0
     }
    },
    "colab_type": "code",
    "id": "vdnQerhMLq47"
   },
   "outputs": [],
   "source": [
    "model5.load_state_dict(torch.load('2dmodels/2dModel_8.pkl'))"
   ]
  },
  {
   "cell_type": "markdown",
   "metadata": {
    "colab_type": "text",
    "id": "ixIuL8SXLq4-"
   },
   "source": [
    "### Don't forget the validation set!\n",
    "\n",
    "And note that you can use the check_accuracy function to evaluate on the validation set, by passing **image_dataloader_val** as the second argument to check_accuracy. The accuracy on validation set is arround 40-50%."
   ]
  },
  {
   "cell_type": "code",
   "execution_count": null,
   "metadata": {
    "colab": {
     "autoexec": {
      "startup": false,
      "wait_interval": 0
     }
    },
    "colab_type": "code",
    "collapsed": true,
    "id": "5wXyfav_Lq4_",
    "outputId": "02295683-cee1-4021-a928-8b6cef9ff131"
   },
   "outputs": [
    {
     "name": "stdout",
     "output_type": "stream",
     "text": [
      "Got 3917 / 6690 correct (58.55)\n"
     ]
    },
    {
     "data": {
      "text/plain": [
       "0.5855007473841555"
      ]
     },
     "execution_count": 59,
     "metadata": {
      "tags": []
     },
     "output_type": "execute_result"
    }
   ],
   "source": [
    "check_accuracy(model5, image_dataloader_val)#check accuracy on the validation set"
   ]
  },
  {
   "cell_type": "markdown",
   "metadata": {
    "colab_type": "text",
    "id": "EQ7MV5UXLq5F"
   },
   "source": [
    "##### Train a better  model for action recognition!\n",
    "\n",
    "Now it's your job to experiment with architectures, hyperparameters, loss functions, and optimizers to train a model that achieves better accuracy on the action recognition **validation** set. You can use the check_accuracy and train functions from above."
   ]
  },
  {
   "cell_type": "markdown",
   "metadata": {
    "colab_type": "text",
    "id": "IX5kypdMLq5G"
   },
   "source": [
    "### Things you should try:\n",
    "- **Filter size**: Above we used 7x7; this makes pretty pictures but smaller filters may be more efficient\n",
    "- **Number of filters**: Do more or fewer do better?\n",
    "- **Pooling vs Strided Convolution**: Do you use max pooling or just stride convolutions?\n",
    "- **Batch normalization**: Try adding spatial batch normalization after convolution layers and vanilla batch normalization after affine layers. Do your networks train faster?\n",
    "- **Network architecture**: The network above has two layers of trainable parameters. Can you do better with a deep network? Good architectures to try include:\n",
    "    - [conv-relu-pool]xN -> [affine]xM -> [softmax or SVM]\n",
    "    - [conv-relu-conv-relu-pool]xN -> [affine]xM -> [softmax or SVM]\n",
    "    - [batchnorm-relu-conv]xN -> [affine]xM -> [softmax or SVM]\n",
    "- **Global Average Pooling**: Instead of flattening and then having multiple affine layers, perform convolutions until your image gets small (7x7 or so) and then perform an average pooling operation to get to a 1x1 image picture (1, 1 , Filter#), which is then reshaped into a (Filter#) vector. This is used in [Google's Inception Network](https://arxiv.org/abs/1512.00567) (See Table 1 for their architecture).\n",
    "- **Regularization**: Add l2 weight regularization, or perhaps use Dropout.\n",
    "\n",
    "### Tips for training\n",
    "For each network architecture that you try, you should tune the learning rate and regularization strength. When doing this there are a couple important things to keep in mind:\n",
    "\n",
    "- If the parameters are working well, you should see improvement within a few hundred iterations\n",
    "- Remember the coarse-to-fine approach for hyperparameter tuning: start by testing a large range of hyperparameters for just a few training iterations to find the combinations of parameters that are working at all.\n",
    "- Once you have found some sets of parameters that seem to work, search more finely around these parameters. You may need to train for more epochs.\n",
    "- You should use the validation set for hyperparameter search, and save your test set for evaluating your architecture on the best parameters as selected by the validation set.\n",
    "\n",
    "### Going above and beyond\n",
    "If you are feeling adventurous there are many other features you can implement to try and improve your performance. You are **not required** to implement any of these; however they would be good things to try.\n",
    "\n",
    "- Alternative update steps: For the assignment we implemented SGD+momentum, RMSprop, and Adam; you could try alternatives like AdaGrad or AdaDelta.\n",
    "- Alternative activation functions such as leaky ReLU, parametric ReLU, ELU, or MaxOut.\n",
    "- Model ensembles\n",
    "- Data augmentation\n",
    "- New Architectures\n",
    "  - [ResNets](https://arxiv.org/abs/1512.03385) where the input from the previous layer is added to the output.\n",
    "  - [DenseNets](https://arxiv.org/abs/1608.06993) where inputs into previous layers are concatenated together.\n",
    "  - [This blog has an in-depth overview](https://chatbotslife.com/resnets-highwaynets-and-densenets-oh-my-9bb15918ee32)\n",
    "\n",
    "If you do decide to implement something extra, clearly describe it in the \"Extra Credit Description\" cell below.\n",
    "\n",
    "### What we expect\n",
    "At the very least, you should be able to train a ConvNet that gets at least 55% accuracy on the validation set. This is just a lower bound - if you are careful it should be possible to get accuracies much higher than that! Extra credit points will be awarded for particularly high-scoring models or unique approaches.\n",
    "\n",
    "You should use the space below to experiment and train your network. \n",
    "\n"
   ]
  },
  {
   "cell_type": "code",
   "execution_count": null,
   "metadata": {
    "colab": {
     "autoexec": {
      "startup": false,
      "wait_interval": 0
     }
    },
    "colab_type": "code",
    "collapsed": true,
    "id": "vxQDWKEeLq5H",
    "outputId": "a197d1c8-e200-4ced-f8b8-246a2fa63951"
   },
   "outputs": [
    {
     "name": "stdout",
     "output_type": "stream",
     "text": [
      "Starting epoch 1 / 8\n",
      "t = 100, loss = 1.1881\n",
      "t = 200, loss = 1.2007\n",
      "t = 300, loss = 1.0545\n",
      "t = 400, loss = 1.3181\n",
      "t = 500, loss = 0.7433\n",
      "t = 600, loss = 0.6169\n",
      "t = 700, loss = 0.6584\n",
      "Starting epoch 2 / 8\n",
      "t = 100, loss = 0.6454\n",
      "t = 200, loss = 0.6708\n",
      "t = 300, loss = 0.5458\n",
      "t = 400, loss = 0.4704\n",
      "t = 500, loss = 0.4655\n",
      "t = 600, loss = 0.3875\n",
      "t = 700, loss = 0.3964\n",
      "Starting epoch 3 / 8\n",
      "t = 100, loss = 0.3589\n",
      "t = 200, loss = 0.4541\n",
      "t = 300, loss = 0.4856\n",
      "t = 400, loss = 0.3909\n",
      "t = 500, loss = 0.3532\n",
      "t = 600, loss = 0.2403\n",
      "t = 700, loss = 0.3718\n",
      "Starting epoch 4 / 8\n",
      "t = 100, loss = 0.2418\n",
      "t = 200, loss = 0.2650\n",
      "t = 300, loss = 0.1580\n",
      "t = 400, loss = 0.2937\n",
      "t = 500, loss = 0.2462\n",
      "t = 600, loss = 0.2673\n",
      "t = 700, loss = 0.2020\n",
      "Starting epoch 5 / 8\n",
      "t = 100, loss = 0.1625\n",
      "t = 200, loss = 0.2188\n",
      "t = 300, loss = 0.3638\n",
      "t = 400, loss = 0.4827\n",
      "t = 500, loss = 0.1180\n",
      "t = 600, loss = 0.3159\n",
      "t = 700, loss = 0.3869\n",
      "Starting epoch 6 / 8\n",
      "t = 100, loss = 0.2619\n",
      "t = 200, loss = 0.0672\n",
      "t = 300, loss = 0.1582\n",
      "t = 400, loss = 0.2565\n",
      "t = 500, loss = 0.2606\n",
      "t = 600, loss = 0.0803\n",
      "t = 700, loss = 0.1303\n",
      "Starting epoch 7 / 8\n",
      "t = 100, loss = 0.1162\n",
      "t = 200, loss = 0.0980\n",
      "t = 300, loss = 0.1117\n",
      "t = 400, loss = 0.0712\n",
      "t = 500, loss = 0.0627\n",
      "t = 600, loss = 0.2134\n",
      "t = 700, loss = 0.1757\n",
      "Starting epoch 8 / 8\n",
      "t = 100, loss = 0.1437\n",
      "t = 200, loss = 0.1221\n",
      "t = 300, loss = 0.0907\n",
      "t = 400, loss = 0.0855\n",
      "t = 500, loss = 0.2637\n",
      "t = 600, loss = 0.0642\n",
      "t = 700, loss = 0.1351\n",
      "Got 4475 / 6690 correct (66.89)\n"
     ]
    }
   ],
   "source": [
    "###########3rd To Do (16 points, must submit the results to Kaggle) ##############\n",
    "# Train your model here, and make sure the output of this cell is the accuracy of your best model on the \n",
    "# train, val, and test sets. Here's some code to get you started. The output of this cell should be the training\n",
    "# and validation accuracy on your best model (measured by validation accuracy).\n",
    "\n",
    "model = model_normed\n",
    "optimizer = optim.RMSprop(model.parameters(), lr=1e-4)\n",
    "loss_fn = nn.CrossEntropyLoss().type(dtype)\n",
    "\n",
    "train(model, loss_fn, optimizer,image_dataloader_train, num_epochs=8) \n",
    "check_accuracy(model, image_dataloader_val)"
   ]
  },
  {
   "cell_type": "code",
   "execution_count": null,
   "metadata": {
    "colab": {
     "autoexec": {
      "startup": false,
      "wait_interval": 0
     }
    },
    "colab_type": "code",
    "id": "aPbeqbEWLq5M",
    "outputId": "314021e3-d37f-4761-98b6-55fce2671ad0"
   },
   "outputs": [
    {
     "name": "stdout",
     "output_type": "stream",
     "text": [
      "Got 6504 / 23310 correct (27.90)\n"
     ]
    },
    {
     "data": {
      "text/plain": [
       "0.279021879021879"
      ]
     },
     "execution_count": 51,
     "metadata": {
      "tags": []
     },
     "output_type": "execute_result"
    }
   ],
   "source": [
    "check_accuracy(model5, image_dataloader_train)"
   ]
  },
  {
   "cell_type": "code",
   "execution_count": null,
   "metadata": {
    "colab": {
     "autoexec": {
      "startup": false,
      "wait_interval": 0
     }
    },
    "colab_type": "code",
    "id": "P2_YWFIALq5R",
    "outputId": "089ef48c-1b23-4081-d8f5-c70518c95b58"
   },
   "outputs": [
    {
     "name": "stdout",
     "output_type": "stream",
     "text": [
      "Starting epoch 1 / 1\n",
      "t = 100, loss = 0.0122\n",
      "t = 200, loss = 0.0031\n",
      "t = 300, loss = 0.0110\n",
      "t = 400, loss = 0.0031\n",
      "t = 500, loss = 0.0117\n",
      "t = 600, loss = 0.0353\n",
      "t = 700, loss = 0.0042\n",
      "Got 23229 / 23310 correct (99.65)\n",
      "Got 4752 / 6690 correct (71.03)\n",
      "Got 23229 / 23310 correct (99.65)\n"
     ]
    }
   ],
   "source": [
    "trainAcc, valAcc = verifyModel(model5, image_dataloader_train, 1)"
   ]
  },
  {
   "cell_type": "code",
   "execution_count": null,
   "metadata": {
    "colab": {
     "autoexec": {
      "startup": false,
      "wait_interval": 0
     }
    },
    "colab_type": "code",
    "id": "-iIO0HCYLq5U",
    "outputId": "f96b6cd1-1084-4d34-82d1-55292cd4088e"
   },
   "outputs": [
    {
     "name": "stdout",
     "output_type": "stream",
     "text": [
      "Starting epoch 1 / 1\n",
      "t = 100, loss = 0.5491\n",
      "t = 200, loss = 0.0401\n",
      "t = 300, loss = 0.0492\n",
      "t = 400, loss = 0.0209\n",
      "Got 20180 / 23310 correct (86.57)\n",
      "Got 6639 / 6690 correct (99.24)\n",
      "Got 20180 / 23310 correct (86.57)\n"
     ]
    }
   ],
   "source": [
    "trainAcc, valAcc = verifyModel(model5, image_dataloader_val, 1)"
   ]
  },
  {
   "cell_type": "code",
   "execution_count": null,
   "metadata": {
    "colab": {
     "autoexec": {
      "startup": false,
      "wait_interval": 0
     }
    },
    "colab_type": "code",
    "id": "kJ58AjdALq5a",
    "outputId": "9b4c5afd-160d-4d7e-ce07-29765976d842"
   },
   "outputs": [
    {
     "name": "stdout",
     "output_type": "stream",
     "text": [
      "Starting epoch 1 / 1\n",
      "t = 100, loss = 0.0311\n",
      "t = 200, loss = 0.1651\n",
      "t = 300, loss = 0.0743\n",
      "t = 400, loss = 0.0371\n",
      "Got 18909 / 23310 correct (81.12)\n",
      "Got 6322 / 6690 correct (94.50)\n",
      "Got 18909 / 23310 correct (81.12)\n"
     ]
    }
   ],
   "source": [
    "trainAcc, valAcc = verifyModel(model6, image_dataloader_val, 1)"
   ]
  },
  {
   "cell_type": "markdown",
   "metadata": {
    "colab_type": "text",
    "id": "D1kLUWy9Lq5d"
   },
   "source": [
    "### Describe what you did \n",
    "\n",
    "In the cell below you should write an explanation of what you did, any additional features that you implemented, and any visualizations or graphs that you make in the process of training and evaluating your network."
   ]
  },
  {
   "cell_type": "markdown",
   "metadata": {
    "colab_type": "text",
    "id": "tkpFypKbLq5e"
   },
   "source": [
    "Tell us here!\n",
    "###########4th To Do (4 points) ##############\n",
    "1. Implemented mentioned CNN\n",
    "2. Modified architecture by adding more CN layers, FC Layers\n",
    "2. Tried around 9-10 variations by adding Batch Normalization, DropOut, FC layers, Different Kernel Size\n",
    "3. Architecture with Batch Normalization tend to perform better\n",
    "4. Model 3 - Train\n",
    "\n",
    "<img src=\"Plots/Model3_Train.png\">\n",
    "\n",
    "Model 3 - Validation\n",
    "<img src=\"Plots/Model3_Val.png\">\n",
    "5. Model 6 - Batch Normalization\n",
    "\n",
    "Train\n",
    "\n",
    "<img src=\"Plots/Model6_Train.png\">\n",
    "\n",
    "Validation\n",
    "\n",
    "<img src=\"Plots/Model6_Val.png\">"
   ]
  },
  {
   "cell_type": "markdown",
   "metadata": {
    "colab_type": "text",
    "id": "WY3x_8ohLq5f"
   },
   "source": [
    "### Testing the model and submit on Kaggle\n",
    "Testing the model on the testing set and save the results as a .csv file. \n",
    "Please submitted the results.csv file generated by predict_on_test() to Kaggle(https://www.kaggle.com/c/cse512springhw3) to see how well your network performs on the test set. \n",
    "#######5th To Do (submit the result to Kaggle,the highest 3 entries get extra 10 points )###############\n",
    "\n",
    "Kaggle score: 61.25382"
   ]
  },
  {
   "cell_type": "code",
   "execution_count": null,
   "metadata": {
    "colab": {
     "autoexec": {
      "startup": false,
      "wait_interval": 0
     }
    },
    "colab_type": "code",
    "collapsed": true,
    "id": "73AN-a5-Lq5f",
    "outputId": "7611cc08-35af-4c48-e2dd-aaa646039a4e"
   },
   "outputs": [
    {
     "name": "stdout",
     "output_type": "stream",
     "text": [
      "9810\n"
     ]
    }
   ],
   "source": [
    "def predict_on_test(model, loader):\n",
    "    '''\n",
    "    if loader.dataset.train:\n",
    "        print('Checking accuracy on validation set')\n",
    "    else:\n",
    "        print('Checking accuracy on test set')  \n",
    "    '''\n",
    "    num_correct = 0\n",
    "    num_samples = 0\n",
    "    model.eval() # Put the model in test mode (the opposite of model.train(), essentially)\n",
    "    results=open('results.csv','w')\n",
    "    count=0\n",
    "    results.write('Id'+','+'Class'+'\\n')\n",
    "    for t, sample in enumerate(loader):\n",
    "        x_var = Variable(sample['image'])\n",
    "        scores = model(x_var)\n",
    "        _, preds = scores.data.max(1)\n",
    "        for i in range(len(preds)):\n",
    "            results.write(str(count)+','+str(preds[i])+'\\n')\n",
    "            count+=1\n",
    "    results.close()\n",
    "    return count\n",
    "    \n",
    "count=predict_on_test(model61, image_dataloader_test)\n",
    "print(count)"
   ]
  },
  {
   "cell_type": "markdown",
   "metadata": {
    "colab_type": "text",
    "id": "9-lQ0co0Lq5k"
   },
   "source": [
    "### GPU! (This part is optional, 0 points)\n",
    "\n",
    "If you have access to GPU, you can make the code run on GPU, it would be much faster. \n",
    "\n",
    "Now, we're going to switch the dtype of the model and our data to the GPU-friendly tensors, and see what happens... everything is the same, except we are casting our model and input tensors as this new dtype instead of the old one.\n",
    "\n",
    "If this returns false, or otherwise fails in a not-graceful way (i.e., with some error message), you may not have an NVIDIA GPU available on your machine. "
   ]
  },
  {
   "cell_type": "code",
   "execution_count": null,
   "metadata": {
    "colab": {
     "autoexec": {
      "startup": false,
      "wait_interval": 0
     }
    },
    "colab_type": "code",
    "collapsed": true,
    "id": "JOW67s-cLq5n"
   },
   "outputs": [],
   "source": [
    "# Verify that CUDA is properly configured and you have a GPU available\n",
    "\n",
    "torch.cuda.is_available()"
   ]
  },
  {
   "cell_type": "code",
   "execution_count": null,
   "metadata": {
    "colab": {
     "autoexec": {
      "startup": false,
      "wait_interval": 0
     }
    },
    "colab_type": "code",
    "collapsed": true,
    "id": "wHrSWWwyLq5q"
   },
   "outputs": [],
   "source": [
    "import copy\n",
    "gpu_dtype = torch.cuda.FloatTensor\n",
    "\n",
    "fixed_model_gpu = copy.deepcopy(fixed_model_base)#.type(gpu_dtype)\n",
    "fixed_model_gpu.cuda()\n",
    "x_gpu = torch.randn(4, 3, 64, 64).cuda()#.type(gpu_dtype)\n",
    "x_var_gpu = Variable(x_gpu)#type(gpu_dtype)) # Construct a PyTorch Variable out of your input data\n",
    "ans = fixed_model_gpu(x_var_gpu)        # Feed it through the model! \n",
    "\n",
    "# Check to make sure what comes out of your model\n",
    "# is the right dimensionality... this should be True\n",
    "# if you've done everything correctly\n",
    "np.array_equal(np.array(ans.size()), np.array([4, 10]))\n"
   ]
  },
  {
   "cell_type": "markdown",
   "metadata": {
    "colab_type": "text",
    "id": "wR3bSLvXLq5u"
   },
   "source": [
    "Run the following cell to evaluate the performance of the forward pass running on the CPU:"
   ]
  },
  {
   "cell_type": "code",
   "execution_count": null,
   "metadata": {
    "colab": {
     "autoexec": {
      "startup": false,
      "wait_interval": 0
     }
    },
    "colab_type": "code",
    "collapsed": true,
    "id": "2yA6rzonLq5v"
   },
   "outputs": [],
   "source": [
    "%%timeit \n",
    "ans = fixed_model(x_var)"
   ]
  },
  {
   "cell_type": "markdown",
   "metadata": {
    "colab_type": "text",
    "id": "zn2ioRw8Lq50"
   },
   "source": [
    "... and now the GPU:"
   ]
  },
  {
   "cell_type": "code",
   "execution_count": null,
   "metadata": {
    "colab": {
     "autoexec": {
      "startup": false,
      "wait_interval": 0
     }
    },
    "colab_type": "code",
    "collapsed": true,
    "id": "bwiXe94jLq50"
   },
   "outputs": [],
   "source": [
    "%%timeit \n",
    "torch.cuda.synchronize() # Make sure there are no pending GPU computations\n",
    "ans = fixed_model_gpu(x_var_gpu)        # Feed it through the model! \n",
    "torch.cuda.synchronize() # Make sure there are no pending GPU computations"
   ]
  },
  {
   "cell_type": "markdown",
   "metadata": {
    "colab_type": "text",
    "id": "jlmHSX2SLq57"
   },
   "source": [
    "You should observe that even a simple forward pass like this is significantly faster on the GPU. So for the rest of the assignment (and when you go train your models in assignment 3 and your project!), you should use the GPU datatype for your model and your tensors: as a reminder that is *torch.cuda.FloatTensor* (in our notebook here as *gpu_dtype*)"
   ]
  },
  {
   "cell_type": "markdown",
   "metadata": {
    "colab_type": "text",
    "id": "IzCu-ueyLq57"
   },
   "source": [
    "Let's make the loss function and training variables to GPU friendly format by '.cuda()'"
   ]
  },
  {
   "cell_type": "code",
   "execution_count": null,
   "metadata": {
    "colab": {
     "autoexec": {
      "startup": false,
      "wait_interval": 0
     }
    },
    "colab_type": "code",
    "collapsed": true,
    "id": "197m7zewLq58"
   },
   "outputs": [],
   "source": [
    "loss_fn = nn.CrossEntropyLoss().cuda()\n",
    "optimizer = optim.RMSprop(fixed_model_gpu.parameters(), lr=1e-4)"
   ]
  },
  {
   "cell_type": "code",
   "execution_count": null,
   "metadata": {
    "colab": {
     "autoexec": {
      "startup": false,
      "wait_interval": 0
     }
    },
    "colab_type": "code",
    "collapsed": true,
    "id": "poRjORCpLq5_"
   },
   "outputs": [],
   "source": [
    "def train(model, loss_fn, optimizer, dataloader, num_epochs = 1):\n",
    "    for epoch in range(num_epochs):\n",
    "        print('Starting epoch %d / %d' % (epoch + 1, num_epochs))\n",
    "        model.train()\n",
    "        for t, sample in enumerate(dataloader):\n",
    "            x_var = Variable(sample['image'].cuda())\n",
    "            y_var = Variable(sample['Label'].cuda().long())\n",
    "\n",
    "            scores = model(x_var)\n",
    "            \n",
    "            loss = loss_fn(scores, y_var)\n",
    "            if (t + 1) % print_every == 0:\n",
    "                print('t = %d, loss = %.4f' % (t + 1, loss.data[0]))\n",
    "\n",
    "            optimizer.zero_grad()\n",
    "            loss.backward()\n",
    "            optimizer.step()\n",
    "\n",
    "def check_accuracy(model, loader):\n",
    "    '''\n",
    "    if loader.dataset.train:\n",
    "        print('Checking accuracy on validation set')\n",
    "    else:\n",
    "        print('Checking accuracy on test set')  \n",
    "    '''\n",
    "    num_correct = 0\n",
    "    num_samples = 0\n",
    "    model.eval() # Put the model in test mode (the opposite of model.train(), essentially)\n",
    "    for t, sample in enumerate(loader):\n",
    "        x_var = Variable(sample['image'].cuda())\n",
    "        y_var = sample['Label'].cuda()\n",
    "        y_var=y_var.cpu()\n",
    "        scores = model(x_var)\n",
    "        _, preds = scores.data.cpu().max(1)\n",
    "        #print(preds)\n",
    "        #print(y_var)\n",
    "        num_correct += (preds.numpy() == y_var.numpy()).sum()\n",
    "        num_samples += preds.size(0)\n",
    "    acc = float(num_correct) / num_samples\n",
    "    print('Got %d / %d correct (%.2f)' % (num_correct, num_samples, 100 * acc))"
   ]
  },
  {
   "cell_type": "markdown",
   "metadata": {
    "colab_type": "text",
    "id": "9tiEgi-NLq6A"
   },
   "source": [
    "Run on GPU!"
   ]
  },
  {
   "cell_type": "code",
   "execution_count": null,
   "metadata": {
    "colab": {
     "autoexec": {
      "startup": false,
      "wait_interval": 0
     }
    },
    "colab_type": "code",
    "collapsed": true,
    "id": "rlm_SbhOLq6H"
   },
   "outputs": [],
   "source": [
    "torch.cuda.random.manual_seed(12345)\n",
    "\n",
    "fixed_model_gpu.apply(reset) \n",
    "fixed_model_gpu.train() \n",
    "train(fixed_model_gpu, loss_fn, optimizer,image_dataloader_train, num_epochs=1) \n",
    "check_accuracy(fixed_model_gpu, image_dataloader_train)# check accuracy on the training set\n"
   ]
  },
  {
   "cell_type": "markdown",
   "metadata": {
    "colab_type": "text",
    "id": "JDK7nl27Lq6J"
   },
   "source": [
    "### 3D Convolution on video clips (25 points+10 extra points)\n",
    "3D convolution is for videos, it has one more dimension than 2d convolution. You can find the document for 3D convolution here http://pytorch.org/docs/master/nn.html#torch.nn.Conv3dIn. In our dataset, each clip is a video of 3 frames. Lets classify the each clip rather than each image using 3D convolution.\n",
    "We offer the data loader, the train_3d and check_accuracy"
   ]
  },
  {
   "cell_type": "code",
   "execution_count": 75,
   "metadata": {
    "colab": {
     "autoexec": {
      "startup": false,
      "wait_interval": 0
     },
     "base_uri": "https://localhost:8080/",
     "height": 527
    },
    "colab_type": "code",
    "collapsed": true,
    "executionInfo": {
     "elapsed": 363,
     "status": "ok",
     "timestamp": 1523496956139,
     "user": {
      "displayName": "Bhushan Sonawane",
      "photoUrl": "https://lh3.googleusercontent.com/a/default-user=s128",
      "userId": "110462201665686822019"
     },
     "user_tz": 240
    },
    "id": "lPqQPWqbLq6K",
    "outputId": "81165d3c-ab29-480f-b657-b3ce2c19cda5"
   },
   "outputs": [
    {
     "name": "stdout",
     "output_type": "stream",
     "text": [
      "torch.Size([3, 3, 64, 64])\n",
      "0.0\n",
      "00001\n",
      "torch.Size([3, 3, 64, 64])\n",
      "0.0\n",
      "00002\n",
      "torch.Size([3, 3, 64, 64])\n",
      "0.0\n",
      "00003\n",
      "torch.Size([3, 3, 64, 64])\n",
      "0.0\n",
      "00004\n",
      "torch.Size([3, 3, 64, 64])\n",
      "0.0\n",
      "00005\n",
      "torch.Size([3, 3, 64, 64])\n",
      "0.0\n",
      "00006\n",
      "torch.Size([3, 3, 64, 64])\n",
      "0.0\n",
      "00007\n",
      "torch.Size([3, 3, 64, 64])\n",
      "0.0\n",
      "00008\n",
      "torch.Size([3, 3, 64, 64])\n",
      "0.0\n",
      "00009\n",
      "torch.Size([3, 3, 64, 64])\n",
      "0.0\n",
      "00010\n"
     ]
    }
   ],
   "source": [
    "class ActionClipDataset(Dataset):\n",
    "    \"\"\"Action Landmarks dataset.\"\"\"\n",
    "\n",
    "    def __init__(self,  root_dir,labels=[], transform=None):\n",
    "        \"\"\"\n",
    "        Args:\n",
    "            csv_file (string): Path to the csv file with annotations.\n",
    "            root_dir (string): Directory with all the images.\n",
    "            transform (callable, optional): Optional transform to be applied\n",
    "                on a sample.\n",
    "        \"\"\"\n",
    "        \n",
    "        self.root_dir = root_dir\n",
    "        self.transform = transform\n",
    "        self.length=len(os.listdir(self.root_dir))\n",
    "        self.labels=labels\n",
    "\n",
    "    def __len__(self):\n",
    "        return self.length\n",
    "\n",
    "    def __getitem__(self, idx):\n",
    "        \n",
    "        folder=idx+1\n",
    "        folder=format(folder,'05d')\n",
    "        clip=[]\n",
    "        if len(self.labels)!=0:\n",
    "            Label=self.labels[idx][0]-1\n",
    "        for i in range(3):\n",
    "            imidx=i+1\n",
    "            imgname=str(imidx)+'.jpg'\n",
    "            img_path = os.path.join(self.root_dir,\n",
    "                                    folder,imgname)\n",
    "            image = Image.open(img_path)\n",
    "            image=np.array(image)\n",
    "            clip.append(image)\n",
    "        if self.transform:\n",
    "            clip=np.asarray(clip)\n",
    "            clip=np.transpose(clip, (0,3,1,2))\n",
    "            clip = torch.from_numpy(np.asarray(clip))\n",
    "        if len(self.labels)!=0:\n",
    "            sample={'clip':clip,'Label':Label,'folder':folder}\n",
    "        else:\n",
    "            sample={'clip':clip,'folder':folder}\n",
    "        return sample\n",
    "\n",
    "clip_dataset=ActionClipDataset(root_dir='./data/trainClips/',\\\n",
    "                               labels=label_train,transform=T.ToTensor())#/home/tqvinh/Study/CSE512/cse512-s18/hw2data/trainClips/\n",
    "for i in range(10):\n",
    "    sample=clip_dataset[i]\n",
    "    print(sample['clip'].shape)\n",
    "    print(sample['Label'])\n",
    "    print(sample['folder'])"
   ]
  },
  {
   "cell_type": "code",
   "execution_count": 76,
   "metadata": {
    "colab": {
     "autoexec": {
      "startup": false,
      "wait_interval": 0
     },
     "base_uri": "https://localhost:8080/",
     "height": 2635
    },
    "colab_type": "code",
    "collapsed": true,
    "executionInfo": {
     "elapsed": 621,
     "status": "ok",
     "timestamp": 1523496956785,
     "user": {
      "displayName": "Bhushan Sonawane",
      "photoUrl": "https://lh3.googleusercontent.com/a/default-user=s128",
      "userId": "110462201665686822019"
     },
     "user_tz": 240
    },
    "id": "ofso2paaLq6M",
    "outputId": "2340b12b-9d14-41ea-9743-fa060d5cb035"
   },
   "outputs": [
    {
     "name": "stdout",
     "output_type": "stream",
     "text": [
      "(0, torch.Size([4, 3, 3, 64, 64]), ['03064', '01464', '05567', '02832'], \n",
      " 3\n",
      " 1\n",
      " 6\n",
      " 3\n",
      "[torch.DoubleTensor of size 4]\n",
      ")\n",
      "(1, torch.Size([4, 3, 3, 64, 64]), ['07649', '07661', '03043', '05800'], \n",
      " 9\n",
      " 9\n",
      " 3\n",
      " 7\n",
      "[torch.DoubleTensor of size 4]\n",
      ")\n",
      "(2, torch.Size([4, 3, 3, 64, 64]), ['06834', '00617', '06078', '03540'], \n",
      " 8\n",
      " 0\n",
      " 7\n",
      " 4\n",
      "[torch.DoubleTensor of size 4]\n",
      ")\n",
      "(3, torch.Size([4, 3, 3, 64, 64]), ['00137', '04585', '00714', '07564'], \n",
      " 0\n",
      " 5\n",
      " 0\n",
      " 9\n",
      "[torch.DoubleTensor of size 4]\n",
      ")\n",
      "(4, torch.Size([4, 3, 3, 64, 64]), ['02147', '07628', '07105', '00942'], \n",
      " 2\n",
      " 9\n",
      " 8\n",
      " 1\n",
      "[torch.DoubleTensor of size 4]\n",
      ")\n",
      "(5, torch.Size([4, 3, 3, 64, 64]), ['00040', '03168', '06547', '07465'], \n",
      " 0\n",
      " 3\n",
      " 8\n",
      " 9\n",
      "[torch.DoubleTensor of size 4]\n",
      ")\n",
      "(6, torch.Size([4, 3, 3, 64, 64]), ['02501', '03949', '00304', '00574'], \n",
      " 2\n",
      " 4\n",
      " 0\n",
      " 0\n",
      "[torch.DoubleTensor of size 4]\n",
      ")\n",
      "(7, torch.Size([4, 3, 3, 64, 64]), ['00998', '00925', '02881', '04820'], \n",
      " 1\n",
      " 1\n",
      " 3\n",
      " 5\n",
      "[torch.DoubleTensor of size 4]\n",
      ")\n",
      "(8, torch.Size([4, 3, 3, 64, 64]), ['00539', '02405', '04515', '01018'], \n",
      " 0\n",
      " 2\n",
      " 5\n",
      " 1\n",
      "[torch.DoubleTensor of size 4]\n",
      ")\n",
      "(9, torch.Size([4, 3, 3, 64, 64]), ['00421', '04277', '02028', '04264'], \n",
      " 0\n",
      " 5\n",
      " 2\n",
      " 5\n",
      "[torch.DoubleTensor of size 4]\n",
      ")\n",
      "(10, torch.Size([4, 3, 3, 64, 64]), ['05403', '05883', '05823', '03615'], \n",
      " 6\n",
      " 7\n",
      " 7\n",
      " 4\n",
      "[torch.DoubleTensor of size 4]\n",
      ")\n",
      "(11, torch.Size([4, 3, 3, 64, 64]), ['02984', '02354', '00713', '00976'], \n",
      " 3\n",
      " 2\n",
      " 0\n",
      " 1\n",
      "[torch.DoubleTensor of size 4]\n",
      ")\n",
      "(12, torch.Size([4, 3, 3, 64, 64]), ['02088', '00618', '04143', '00366'], \n",
      " 2\n",
      " 0\n",
      " 4\n",
      " 0\n",
      "[torch.DoubleTensor of size 4]\n",
      ")\n",
      "(13, torch.Size([4, 3, 3, 64, 64]), ['02352', '02910', '04155', '03845'], \n",
      " 2\n",
      " 3\n",
      " 4\n",
      " 4\n",
      "[torch.DoubleTensor of size 4]\n",
      ")\n",
      "(14, torch.Size([4, 3, 3, 64, 64]), ['02292', '01979', '02809', '04565'], \n",
      " 2\n",
      " 2\n",
      " 3\n",
      " 5\n",
      "[torch.DoubleTensor of size 4]\n",
      ")\n",
      "(15, torch.Size([4, 3, 3, 64, 64]), ['02225', '04922', '02432', '00339'], \n",
      " 2\n",
      " 5\n",
      " 2\n",
      " 0\n",
      "[torch.DoubleTensor of size 4]\n",
      ")\n",
      "(16, torch.Size([4, 3, 3, 64, 64]), ['06054', '03216', '01045', '06111'], \n",
      " 7\n",
      " 3\n",
      " 1\n",
      " 7\n",
      "[torch.DoubleTensor of size 4]\n",
      ")\n",
      "(17, torch.Size([4, 3, 3, 64, 64]), ['03024', '06463', '05051', '03741'], \n",
      " 3\n",
      " 7\n",
      " 6\n",
      " 4\n",
      "[torch.DoubleTensor of size 4]\n",
      ")\n",
      "(18, torch.Size([4, 3, 3, 64, 64]), ['00947', '02915', '07291', '01084'], \n",
      " 1\n",
      " 3\n",
      " 9\n",
      " 1\n",
      "[torch.DoubleTensor of size 4]\n",
      ")\n",
      "(19, torch.Size([4, 3, 3, 64, 64]), ['02696', '01620', '07304', '07631'], \n",
      " 3\n",
      " 1\n",
      " 9\n",
      " 9\n",
      "[torch.DoubleTensor of size 4]\n",
      ")\n",
      "(20, torch.Size([4, 3, 3, 64, 64]), ['06979', '05685', '04897', '04686'], \n",
      " 8\n",
      " 7\n",
      " 5\n",
      " 5\n",
      "[torch.DoubleTensor of size 4]\n",
      ")\n",
      "(21, torch.Size([4, 3, 3, 64, 64]), ['05453', '07458', '04940', '01436'], \n",
      " 6\n",
      " 9\n",
      " 5\n",
      " 1\n",
      "[torch.DoubleTensor of size 4]\n",
      ")\n"
     ]
    }
   ],
   "source": [
    "clip_dataloader = DataLoader(clip_dataset, batch_size=4,\n",
    "                        shuffle=True, num_workers=4)\n",
    "\n",
    "\n",
    "for i,sample in enumerate(clip_dataloader):\n",
    "    print(i,sample['clip'].shape,sample['folder'],sample['Label'])\n",
    "    if i>20: \n",
    "        break"
   ]
  },
  {
   "cell_type": "code",
   "execution_count": null,
   "metadata": {
    "colab": {
     "autoexec": {
      "startup": false,
      "wait_interval": 0
     }
    },
    "colab_type": "code",
    "id": "p07As9NfLq6N"
   },
   "outputs": [],
   "source": [
    "clip_dataset_train=ActionClipDataset(root_dir='./data/trainClips/',labels=label_train,transform=T.ToTensor())\n",
    "\n",
    "clip_dataloader_train = DataLoader(clip_dataset_train, batch_size=16,\n",
    "                        shuffle=True, num_workers=4)\n",
    "clip_dataset_val=ActionClipDataset(root_dir='./data/valClips/',labels=label_val,transform=T.ToTensor())\n",
    "\n",
    "clip_dataloader_val = DataLoader(clip_dataset_val, batch_size=16,\n",
    "                        shuffle=True, num_workers=4)\n",
    "clip_dataset_test=ActionClipDataset(root_dir='./data/testClips/',labels=[],transform=T.ToTensor())\n",
    "\n",
    "clip_dataloader_test = DataLoader(clip_dataset_test, batch_size=16,\n",
    "                        shuffle=False, num_workers=4)"
   ]
  },
  {
   "cell_type": "markdown",
   "metadata": {
    "colab_type": "text",
    "id": "93nsFvxoLq6P"
   },
   "source": [
    "Write the Flatten for 3d covolution feature maps."
   ]
  },
  {
   "cell_type": "code",
   "execution_count": null,
   "metadata": {
    "colab": {
     "autoexec": {
      "startup": false,
      "wait_interval": 0
     }
    },
    "colab_type": "code",
    "id": "gVu6Cf4DLq6R"
   },
   "outputs": [],
   "source": [
    "class Flatten3d(nn.Module):\n",
    "    def forward(self, x):\n",
    "        ###############6th To Do (5 points)###################\n",
    "        N, C, D, H, W = x.size() # read in N, C, D, H, W\n",
    "        return x.view(N, -1)  # \"flatten\" the C * H * W values into a single vector per image        "
   ]
  },
  {
   "cell_type": "markdown",
   "metadata": {
    "colab_type": "text",
    "id": "KMqHI_sJLq6T"
   },
   "source": [
    "Design a network using 3D convolution on videos for video classification."
   ]
  },
  {
   "cell_type": "code",
   "execution_count": null,
   "metadata": {
    "colab": {
     "autoexec": {
      "startup": false,
      "wait_interval": 0
     }
    },
    "colab_type": "code",
    "collapsed": true,
    "id": "oGPwZxhILq6U",
    "outputId": "ebec637c-b042-4fdf-8f80-29cee3f93a1a"
   },
   "outputs": [
    {
     "data": {
      "text/plain": [
       "True"
      ]
     },
     "execution_count": 17,
     "metadata": {
      "tags": []
     },
     "output_type": "execute_result"
    }
   ],
   "source": [
    "fixed_model_3d = nn.Sequential( # You fill this in!\n",
    "    ###############7th To Do (16 points)#########################\n",
    "        nn.Conv3d(3, 8, padding = 4, kernel_size = 3, stride = 1),\n",
    "        nn.ReLU(inplace = True),\n",
    "        nn.MaxPool3d(2, stride = 2),\n",
    "        nn.Conv3d(8, 16, kernel_size = 3, stride = 1),\n",
    "        nn.ReLU(inplace = True),\n",
    "        nn.MaxPool3d(2, stride = 2),\n",
    "        Flatten3d(),\n",
    "        nn.ReLU(inplace = True),\n",
    "        nn.Linear(4096, 10) \n",
    ")\n",
    "\n",
    "fixed_model_3d = fixed_model_3d.type(dtype)\n",
    "x = torch.randn(32, 3, 3, 64, 64).type(dtype)\n",
    "x_var = Variable(x).type(dtype) # Construct a PyTorch Variable out of your input data\n",
    "ans = fixed_model_3d(x_var) \n",
    "np.array_equal(np.array(ans.size()), np.array([32, 10]))\n"
   ]
  },
  {
   "cell_type": "code",
   "execution_count": 83,
   "metadata": {
    "colab": {
     "autoexec": {
      "startup": false,
      "wait_interval": 0
     },
     "base_uri": "https://localhost:8080/",
     "height": 816
    },
    "colab_type": "code",
    "executionInfo": {
     "elapsed": 773,
     "status": "ok",
     "timestamp": 1523497635950,
     "user": {
      "displayName": "Bhushan Sonawane",
      "photoUrl": "https://lh3.googleusercontent.com/a/default-user=s128",
      "userId": "110462201665686822019"
     },
     "user_tz": 240
    },
    "id": "aWhR6KB8fHhe",
    "outputId": "94fed328-fe88-4727-ded0-d619ffeed36e"
   },
   "outputs": [
    {
     "data": {
      "text/plain": [
       "Sequential(\n",
       "  (0): Conv3d (3, 8, kernel_size=(3, 3, 3), stride=(1, 1, 1), padding=(4, 4, 4))\n",
       "  (1): ReLU(inplace)\n",
       "  (2): MaxPool3d(kernel_size=2, stride=2, padding=0, dilation=1, ceil_mode=False)\n",
       "  (3): Dropout3d(p=0.2)\n",
       "  (4): Conv3d (8, 16, kernel_size=(3, 3, 3), stride=(1, 1, 1), padding=(4, 4, 4))\n",
       "  (5): ReLU(inplace)\n",
       "  (6): MaxPool3d(kernel_size=2, stride=2, padding=0, dilation=1, ceil_mode=False)\n",
       "  (7): Dropout3d(p=0.2)\n",
       "  (8): Conv3d (16, 32, kernel_size=(3, 3, 3), stride=(1, 1, 1), padding=(4, 4, 4))\n",
       "  (9): ReLU(inplace)\n",
       "  (10): MaxPool3d(kernel_size=2, stride=2, padding=0, dilation=1, ceil_mode=False)\n",
       "  (11): Dropout3d(p=0.2)\n",
       "  (12): Conv3d (32, 64, kernel_size=(3, 3, 3), stride=(1, 1, 1), padding=(4, 4, 4))\n",
       "  (13): ReLU(inplace)\n",
       "  (14): MaxPool3d(kernel_size=2, stride=2, padding=0, dilation=1, ceil_mode=False)\n",
       "  (15): Dropout3d(p=0.2)\n",
       "  (16): Conv3d (64, 128, kernel_size=(3, 3, 3), stride=(1, 1, 1), padding=(4, 4, 4))\n",
       "  (17): ReLU(inplace)\n",
       "  (18): MaxPool3d(kernel_size=2, stride=2, padding=0, dilation=1, ceil_mode=False)\n",
       "  (19): Dropout3d(p=0.2)\n",
       "  (20): Conv3d (128, 256, kernel_size=(3, 3, 3), stride=(1, 1, 1), padding=(2, 2, 2))\n",
       "  (21): ReLU(inplace)\n",
       "  (22): MaxPool3d(kernel_size=2, stride=2, padding=0, dilation=1, ceil_mode=False)\n",
       "  (23): Dropout3d(p=0.2)\n",
       "  (24): Conv3d (256, 512, kernel_size=(3, 3, 3), stride=(1, 1, 1), padding=(2, 2, 2))\n",
       "  (25): ReLU(inplace)\n",
       "  (26): MaxPool3d(kernel_size=2, stride=2, padding=0, dilation=1, ceil_mode=False)\n",
       "  (27): Dropout3d(p=0.2)\n",
       "  (28): Conv3d (512, 1024, kernel_size=(3, 3, 3), stride=(1, 1, 1), padding=(2, 2, 2))\n",
       "  (29): ReLU(inplace)\n",
       "  (30): MaxPool3d(kernel_size=2, stride=2, padding=0, dilation=1, ceil_mode=False)\n",
       "  (31): Flatten3d(\n",
       "  )\n",
       "  (32): ReLU(inplace)\n",
       "  (33): Dropout(p=0.2)\n",
       "  (34): Linear(in_features=8192, out_features=2048)\n",
       "  (35): ReLU(inplace)\n",
       "  (36): Dropout(p=0.2)\n",
       "  (37): Linear(in_features=2048, out_features=1024)\n",
       "  (38): ReLU(inplace)\n",
       "  (39): Dropout(p=0.2)\n",
       "  (40): Linear(in_features=1024, out_features=512)\n",
       "  (41): ReLU(inplace)\n",
       "  (42): Dropout(p=0.2)\n",
       "  (43): Linear(in_features=512, out_features=10)\n",
       ")"
      ]
     },
     "execution_count": 83,
     "metadata": {
      "tags": []
     },
     "output_type": "execute_result"
    }
   ],
   "source": [
    "# Deep Model Video\n",
    "modelv_base = nn.Sequential( \n",
    "            nn.Conv3d(3, 8, padding = 4, kernel_size = 3, stride = 1),\n",
    "            nn.ReLU(inplace = True),\n",
    "            nn.MaxPool3d(2, stride = 2),\n",
    "            nn.Dropout3d(p=0.2), \n",
    "            nn.Conv3d(8, 16, padding = 4, kernel_size = 3, stride = 1),\n",
    "            nn.ReLU(inplace = True),\n",
    "            nn.MaxPool3d(2, stride = 2),\n",
    "            nn.Dropout3d(p=0.2), \n",
    "            nn.Conv3d(16, 32, padding = 4, kernel_size = 3, stride = 1),\n",
    "            nn.ReLU(inplace = True),\n",
    "            nn.MaxPool3d(2, stride = 2),\n",
    "            nn.Dropout3d(p=0.2), \n",
    "            nn.Conv3d(32, 64, padding = 4, kernel_size = 3, stride = 1),\n",
    "            nn.ReLU(inplace = True),\n",
    "            nn.MaxPool3d(2, stride = 2),\n",
    "            nn.Dropout3d(p=0.2), \n",
    "            nn.Conv3d(64, 128, padding = 4, kernel_size = 3, stride = 1),\n",
    "            nn.ReLU(inplace = True),\n",
    "            nn.MaxPool3d(2, stride = 2),\n",
    "            nn.Dropout3d(p=0.2), \n",
    "            nn.Conv3d(128, 256,padding = 2, kernel_size = 3, stride = 1),\n",
    "            nn.ReLU(inplace = True),\n",
    "            nn.MaxPool3d(2, stride = 2),\n",
    "            nn.Dropout3d(p=0.2), \n",
    "            nn.Conv3d(256, 512, padding = 2, kernel_size = 3, stride = 1),\n",
    "            nn.ReLU(inplace = True),\n",
    "            nn.MaxPool3d(2, stride = 2),\n",
    "            nn.Dropout3d(p=0.2), \n",
    "            nn.Conv3d(512, 1024, padding = 2, kernel_size = 3, stride = 1),\n",
    "            nn.ReLU(inplace = True),\n",
    "            nn.MaxPool3d(2, stride = 2),\n",
    "            Flatten3d(),\n",
    "            nn.ReLU(inplace = True),\n",
    "            nn.Dropout(p=0.2), \n",
    "            nn.Linear(8192, 2048),\n",
    "            nn.ReLU(inplace = True),\n",
    "            nn.Dropout(p=0.2), \n",
    "            nn.Linear(2048, 1024),\n",
    "            nn.ReLU(inplace = True),\n",
    "            nn.Dropout(p=0.2), \n",
    "            nn.Linear(1024, 512),\n",
    "            nn.ReLU(inplace = True),\n",
    "            nn.Dropout(p=0.2), \n",
    "            nn.Linear(512, 10)\n",
    "            )\n",
    "modelv = modelv_base.type(dtype)\n",
    "modelv.cuda()"
   ]
  },
  {
   "cell_type": "markdown",
   "metadata": {
    "colab_type": "text",
    "id": "j2IwOlx9Lq6Z"
   },
   "source": [
    "### Describe what you did (4 points)\n",
    "\n",
    "In the cell below you should write an explanation of what you did, any additional features that you implemented, and any visualizations or graphs that you make in the process of training and evaluating your network."
   ]
  },
  {
   "cell_type": "markdown",
   "metadata": {
    "colab_type": "text",
    "id": "KN2uh6f4Lq6b"
   },
   "source": [
    "8th To Do\n",
    "Tell us here:\n",
    "1. Implemented basic 3D CNN version of fixed_model from 2D CNN used in first part\n",
    "2. Extended Model 8 with Deep CNN going to 1024 channels\n",
    "3. Using DropOuts, MaxPool and BatchNormalization"
   ]
  },
  {
   "cell_type": "code",
   "execution_count": null,
   "metadata": {
    "colab": {
     "autoexec": {
      "startup": false,
      "wait_interval": 0
     }
    },
    "colab_type": "code",
    "id": "50r-bxBbLq6d"
   },
   "outputs": [],
   "source": [
    "def train_3d(model, loss_fn, optimizer,dataloader,num_epochs = 1):\n",
    "    trainAcc = []\n",
    "    valAcc = []\n",
    "    for epoch in range(num_epochs):\n",
    "        print('Starting epoch %d / %d' % (epoch + 1, num_epochs))\n",
    "        model.train()\n",
    "        for t, sample in enumerate(dataloader):\n",
    "            x_var = var(sample['clip'].type(dtype))\n",
    "            y_var = var(sample['Label'].type(dtype).long())\n",
    "\n",
    "            scores = model(x_var)\n",
    "            \n",
    "            loss = loss_fn(scores, y_var)\n",
    "            if (t + 1) % print_every == 0:\n",
    "                print('t = %d, loss = %.4f' % (t + 1, loss.data[0]))\n",
    "        \n",
    "            optimizer.zero_grad()\n",
    "            loss.backward()\n",
    "            optimizer.step()\n",
    "        trainAcc.append(check_accuracy_3d(model, clip_dataloader_train))\n",
    "        valAcc.append(check_accuracy_3d(model, clip_dataloader_val))\n",
    "    return trainAcc, valAcc\n",
    "\n",
    "def check_accuracy_3d(model, loader):\n",
    "    '''\n",
    "    if loader.dataset.train:\n",
    "        print('Checking accuracy on validation set')\n",
    "    else:\n",
    "        print('Checking accuracy on test set')  \n",
    "    '''\n",
    "    num_correct = 0\n",
    "    num_samples = 0\n",
    "    model.eval() # Put the model in test mode (the opposite of model.train(), essentially)\n",
    "    for t, sample in enumerate(loader):\n",
    "        x_var = var(sample['clip'].type(dtype))\n",
    "        y_var = sample['Label'].type(dtype)\n",
    "        y_var=y_var.cpu()\n",
    "        scores = model(x_var)\n",
    "        _, preds = scores.data.cpu().max(1)\n",
    "        #print(preds)\n",
    "        #print(y_var)\n",
    "        num_correct += (preds.numpy() == y_var.numpy()).sum()\n",
    "        num_samples += preds.size(0)\n",
    "    acc = float(num_correct) / num_samples\n",
    "    print('Got %d / %d correct (%.2f)' % (num_correct, num_samples, 100 * acc))"
   ]
  },
  {
   "cell_type": "code",
   "execution_count": null,
   "metadata": {
    "colab": {
     "autoexec": {
      "startup": false,
      "wait_interval": 0
     }
    },
    "colab_type": "code",
    "collapsed": true,
    "id": "nCv3_2NZLq6f",
    "outputId": "e5773876-dd9f-4f1e-f288-c26c85e59e95"
   },
   "outputs": [
    {
     "name": "stdout",
     "output_type": "stream",
     "text": [
      "Starting epoch 1 / 10\n",
      "t = 100, loss = 1.8423\n",
      "t = 200, loss = 1.1793\n",
      "t = 300, loss = 1.0392\n",
      "t = 400, loss = 0.6315\n",
      "Starting epoch 2 / 10\n",
      "t = 100, loss = 0.1108\n",
      "t = 200, loss = 0.0366\n",
      "t = 300, loss = 0.3611\n",
      "t = 400, loss = 0.0313\n",
      "Starting epoch 3 / 10\n",
      "t = 100, loss = 0.0724\n",
      "t = 200, loss = 0.0925\n",
      "t = 300, loss = 0.0870\n",
      "t = 400, loss = 0.0115\n",
      "Starting epoch 4 / 10\n",
      "t = 100, loss = 0.0323\n",
      "t = 200, loss = 0.0209\n",
      "t = 300, loss = 0.0075\n",
      "t = 400, loss = 0.0109\n",
      "Starting epoch 5 / 10\n",
      "t = 100, loss = 0.0442\n",
      "t = 200, loss = 0.0916\n",
      "t = 300, loss = 0.0540\n",
      "t = 400, loss = 0.0299\n",
      "Starting epoch 6 / 10\n",
      "t = 100, loss = 0.0549\n",
      "t = 200, loss = 0.2313\n",
      "t = 300, loss = 0.0024\n",
      "t = 400, loss = 0.0390\n",
      "Starting epoch 7 / 10\n",
      "t = 100, loss = 0.0150\n",
      "t = 200, loss = 0.0475\n",
      "t = 300, loss = 0.0001\n",
      "t = 400, loss = 0.0053\n",
      "Starting epoch 8 / 10\n",
      "t = 100, loss = 0.0006\n",
      "t = 200, loss = 0.0108\n",
      "t = 300, loss = 0.0035\n",
      "t = 400, loss = 0.0122\n",
      "Starting epoch 9 / 10\n",
      "t = 100, loss = 0.0044\n",
      "t = 200, loss = 0.0002\n",
      "t = 300, loss = 0.0001\n",
      "t = 400, loss = 0.0046\n",
      "Starting epoch 10 / 10\n",
      "t = 100, loss = 0.0011\n",
      "t = 200, loss = 0.0006\n",
      "t = 300, loss = 0.0008\n",
      "t = 400, loss = 0.0167\n",
      "Got 1231 / 2230 correct (55.20)\n"
     ]
    }
   ],
   "source": [
    "torch.cuda.random.manual_seed(12345)\n",
    "fixed_model_3d.apply(reset) \n",
    "fixed_model_3d.train() \n",
    "train_3d(fixed_model_3d, loss_fn, optimizer,clip_dataloader_train, num_epochs=10) \n",
    "fixed_model_3d.eval() \n",
    "check_accuracy_3d(fixed_model_3d, clip_dataloader_val)"
   ]
  },
  {
   "cell_type": "code",
   "execution_count": 98,
   "metadata": {
    "colab": {
     "autoexec": {
      "startup": false,
      "wait_interval": 0
     },
     "base_uri": "https://localhost:8080/",
     "height": 1166
    },
    "colab_type": "code",
    "executionInfo": {
     "elapsed": 1111621,
     "status": "ok",
     "timestamp": 1523501385218,
     "user": {
      "displayName": "Bhushan Sonawane",
      "photoUrl": "https://lh3.googleusercontent.com/a/default-user=s128",
      "userId": "110462201665686822019"
     },
     "user_tz": 240
    },
    "id": "gChpTMTBp1Vb",
    "outputId": "a1aa51c4-4088-4fa4-ff34-b2e4eacd6099"
   },
   "outputs": [
    {
     "name": "stdout",
     "output_type": "stream",
     "text": [
      "Starting epoch 1 / 5\n",
      "t = 100, loss = 0.9966\n",
      "t = 200, loss = 0.9597\n",
      "t = 300, loss = 0.8128\n",
      "t = 400, loss = 1.0918\n",
      "Got 6478 / 7770 correct (83.37)\n",
      "Got 1170 / 2230 correct (52.47)\n",
      "Starting epoch 2 / 5\n",
      "t = 100, loss = 0.6380\n",
      "t = 200, loss = 0.9579\n",
      "t = 300, loss = 0.4415\n",
      "t = 400, loss = 0.6365\n",
      "Got 6837 / 7770 correct (87.99)\n",
      "Got 1213 / 2230 correct (54.39)\n",
      "Starting epoch 3 / 5\n",
      "t = 100, loss = 0.4954\n",
      "t = 200, loss = 0.6276\n",
      "t = 300, loss = 1.0205\n",
      "t = 400, loss = 0.8404\n",
      "Got 6683 / 7770 correct (86.01)\n",
      "Got 1100 / 2230 correct (49.33)\n",
      "Starting epoch 4 / 5\n",
      "t = 100, loss = 0.3458\n",
      "t = 200, loss = 0.2708\n",
      "t = 300, loss = 0.2445\n",
      "t = 400, loss = 0.1404\n",
      "Got 7105 / 7770 correct (91.44)\n",
      "Got 1148 / 2230 correct (51.48)\n",
      "Starting epoch 5 / 5\n",
      "t = 100, loss = 0.3762\n",
      "t = 200, loss = 1.0454\n",
      "t = 300, loss = 0.7594\n",
      "t = 400, loss = 0.0797\n",
      "Got 7305 / 7770 correct (94.02)\n",
      "Got 1243 / 2230 correct (55.74)\n"
     ]
    },
    {
     "data": {
      "image/png": "[encoded data removed]",
      "text/plain": [
       "<matplotlib.figure.Figure at 0x7fc8f02d0d50>"
      ]
     },
     "metadata": {
      "tags": []
     },
     "output_type": "display_data"
    },
    {
     "data": {
      "image/png": "[encoded data removed]",
      "text/plain": [
       "<matplotlib.figure.Figure at 0x7fc8f0a207d0>"
      ]
     },
     "metadata": {
      "tags": []
     },
     "output_type": "display_data"
    }
   ],
   "source": [
    "modelv.cuda()\n",
    "loss_fn = nn.CrossEntropyLoss().type(dtype)\n",
    "optimizer = optim.RMSprop(modelv.parameters(), lr=1e-4)\n",
    "trainAcc, valAcc = train_3d(modelv, loss_fn, optimizer,clip_dataloader_train, num_epochs=5) \n",
    "plotGraphAcc(trainAcc, 'Model Video')\n",
    "plotGraphAcc(valAcc, 'Model Video')"
   ]
  },
  {
   "cell_type": "markdown",
   "metadata": {
    "colab_type": "text",
    "id": "rOzfenV0Lq6h"
   },
   "source": [
    "Test your 3d convolution model on the validation set. You don't need to submit the result of this part to kaggle.  "
   ]
  },
  {
   "cell_type": "markdown",
   "metadata": {
    "colab_type": "text",
    "id": "9FNsrqg5Lq6i"
   },
   "source": [
    "Test your model on the test set, predict_on_test_3d() will generate a file named 'results_3d.csv'. Please submit the csv file to kaggle https://www.kaggle.com/c/cse512springhw3video\n",
    "The highest 3 entries get extra 10 points.\n"
   ]
  },
  {
   "cell_type": "code",
   "execution_count": null,
   "metadata": {
    "colab": {
     "autoexec": {
      "startup": false,
      "wait_interval": 0
     }
    },
    "colab_type": "code",
    "collapsed": true,
    "id": "ObgtTFI-Lq6i",
    "outputId": "c3d48d49-2355-41f2-8680-aecec8723dfe"
   },
   "outputs": [
    {
     "name": "stdout",
     "output_type": "stream",
     "text": [
      "3270\n"
     ]
    }
   ],
   "source": [
    "def predict_on_test_3d(model, loader):\n",
    "    '''\n",
    "    if loader.dataset.train:\n",
    "        print('Checking accuracy on validation set')\n",
    "    else:\n",
    "        print('Checking accuracy on test set')  \n",
    "    '''\n",
    "    num_correct = 0\n",
    "    num_samples = 0\n",
    "    model.eval() # Put the model in test mode (the opposite of model.train(), essentially)\n",
    "    results=open('results_3d.csv','w')\n",
    "    count=0\n",
    "    results.write('Id'+','+'Class'+'\\n')\n",
    "    for t, sample in enumerate(loader):\n",
    "        x_var = Variable(sample['clip'].type(dtype))\n",
    "        scores = model(x_var)\n",
    "        _, preds = scores.data.max(1)\n",
    "        for i in range(len(preds)):\n",
    "            results.write(str(count)+','+str(preds[i])+'\\n')\n",
    "            count+=1\n",
    "    results.close()\n",
    "    return count\n",
    "    \n",
    "count=predict_on_test_3d(fixed_model_3d, clip_dataloader_test)\n",
    "print(count)"
   ]
  }
 ],
 "metadata": {
  "accelerator": "GPU",
  "colab": {
   "default_view": {},
   "name": "Action_CNN.ipynb",
   "provenance": [],
   "version": "0.3.2",
   "views": {}
  },
  "kernelspec": {
   "display_name": "Python 3",
   "language": "python",
   "name": "python3"
  },
  "language_info": {
   "codemirror_mode": {
    "name": "ipython",
    "version": 3
   },
   "file_extension": ".py",
   "mimetype": "text/x-python",
   "name": "python",
   "nbconvert_exporter": "python",
   "pygments_lexer": "ipython3",
   "version": "3.6.4"
  }
 },
 "nbformat": 4,
 "nbformat_minor": 2
}
