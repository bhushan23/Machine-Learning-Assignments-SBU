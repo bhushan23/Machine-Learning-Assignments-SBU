{
 "cells": [
  {
   "cell_type": "code",
   "execution_count": 17,
   "metadata": {},
   "outputs": [],
   "source": [
    "import scipy\n",
    "import numpy as np\n",
    "import pandas as pd\n",
    "from scipy.sparse import csr_matrix\n",
    "import pickle\n",
    "import math\n",
    "import random\n",
    "n = 250\n",
    "d = 80\n",
    "k = 10\n",
    "sigma = 10"
   ]
  },
  {
   "cell_type": "code",
   "execution_count": 53,
   "metadata": {},
   "outputs": [],
   "source": [
    "B = 0\n",
    "WS = np.full(k, 10)\n",
    "for i in range(10):\n",
    "    if random.randint(1, 1000) % 2 == 0:\n",
    "        WS[i] = WS[i] * -1\n",
    "\n",
    "X = np.random.normal(0, 1, n)\n",
    "for i in range(d-1):\n",
    "    X = np.vstack([X,np.random.normal(0, 1, n)]) #np.append(X,np.random.normal(0, 1, n))\n",
    "X = csr_matrix(X)\n",
    "        \n",
    "WS = np.append(WS, np.full(d-k, 0), axis=0)\n",
    "# print WS.shape\n",
    "XT = X.transpose().dot(WS) \n",
    "# print XT.shape\n",
    "\n"
   ]
  },
  {
   "cell_type": "code",
   "execution_count": 54,
   "metadata": {},
   "outputs": [],
   "source": [
    "epsilon = np.random.normal(0, sigma, n)\n",
    "# print X.transpose().shape, WS.shape, B, epsilon.shape\n",
    "Y = XT + np.full(n, B) + epsilon"
   ]
  },
  {
   "cell_type": "code",
   "execution_count": 4,
   "metadata": {},
   "outputs": [],
   "source": [
    "B = 0\n",
    "W = np.random.rand(d)"
   ]
  },
  {
   "cell_type": "code",
   "execution_count": 56,
   "metadata": {},
   "outputs": [
    {
     "name": "stdout",
     "output_type": "stream",
     "text": [
      "6695.92737444\n"
     ]
    }
   ],
   "source": [
    "def initLamda(X, Y):\n",
    "    YNorm = Y - float(Y.sum())/((float)(Y.shape[0]))\n",
    "    return 2 * (abs(X * YNorm).max())\n",
    "    \n",
    "print initLamda(X, Y)"
   ]
  },
  {
   "cell_type": "code",
   "execution_count": 20,
   "metadata": {},
   "outputs": [],
   "source": [
    "# change this to convergence condition\n",
    "\n",
    "def rmse(input1, input2):\n",
    "    out = input1 - input2\n",
    "    out **= 2\n",
    "    out /= len(out)\n",
    "    error = out.sum()\n",
    "    return math.sqrt(error)\n",
    "\n",
    "\n",
    "class Lasso:\n",
    "    def __init__(self, X, Y, W, B, Lamda):\n",
    "        self.X = X.copy()\n",
    "        self.Y = Y.copy()\n",
    "        self.W = W #.copy()  # Remove this copy later\n",
    "        self.B = B #.copy()\n",
    "        t = X.copy()\n",
    "        t.data **= 2\n",
    "        self.A = 2*t.sum(axis = 1)\n",
    "        self.Lamda = Lamda\n",
    "        self.delta = 0.001\n",
    "        # Stores Lamda and respective RMSE\n",
    "        self.precision = []\n",
    "        self.recall = []\n",
    "        self.lamdaList = []\n",
    "        self.NonZero = []\n",
    "        \n",
    "    def loss(self):\n",
    "        return ((self.X.transpose() * self.W + self.B - self.Y) ** 2).sum() + self.Lamda * (abs(self.W)).sum()\n",
    "        \n",
    "    def fit(self):\n",
    "        oldLoss = self.loss()+2\n",
    "        newLoss = self.loss()\n",
    "        print 'Lamda: ', self.Lamda\n",
    "        while oldLoss - newLoss > self.delta:\n",
    "            # 4.1.1: Update R\n",
    "            R = self.Y - (self.X.transpose() * self.W) - self.B\n",
    "            \n",
    "            # 4.1.2: Update B using R\n",
    "            BOld = self.B\n",
    "            self.B = np.full(n, (R + self.B).sum() / n) \n",
    "            # 4.1.3: Update R using B\n",
    "            R =  R + BOld - self.B\n",
    "            for ik in range(0, d):\n",
    "                # 4.1.4: Update Ck\n",
    "                t = (self.X[ik].transpose() * self.W[ik]).toarray().reshape(-1)\n",
    "                Ck = 2*( self.X[ik] * (R + t)).sum()\n",
    "                # Update Weight\n",
    "                WkOld = self.W[ik]\n",
    "                if Ck < -self.Lamda:\n",
    "                    self.W[ik] = (Ck + self.Lamda) / self.A[ik]\n",
    "                elif Ck > self.Lamda:\n",
    "                    self.W[ik] = (Ck - self.Lamda) / self.A[ik]\n",
    "                else:\n",
    "                    self.W[ik] = 0\n",
    "                # 4.1.5: Update R\n",
    "                R = R + self.X[ik].toarray().reshape(-1) * (WkOld - self.W[ik])\n",
    "            oldLoss = newLoss\n",
    "            newLoss = model.loss()\n",
    "            print 'LOSS:' , newLoss\n",
    "            # End of feature vector iterator\n",
    "    \n",
    "    def saveModel(self, filename):\n",
    "        pickle.dump(self, open( filename, \"wb\" ))\n",
    "    \n",
    "    def predict(self, X):\n",
    "        return (X.transpose() * self.W + np.full(X.transpose().shape[0], self.B))\n",
    "    \n",
    "    def chooseCorrectLamda(self, delta = -1):\n",
    "        oldLamda = self.Lamda\n",
    "        if delta != -1:\n",
    "            self.delta = delta\n",
    "        i = 0\n",
    "        \n",
    "        newRMSE = rmse(self.predict(self.X), self.Y)\n",
    "        oldRMSE = newRMSE + 1\n",
    "        while self.Lamda > 2:\n",
    "            i += 1\n",
    "            oldLamda = self.Lamda\n",
    "            self.lamdaList.append(self.Lamda)\n",
    "            self.fit()\n",
    "            newRMSE = rmse(self.predict(self.X), self.Y)\n",
    "            self.NonZero.append(np.count_nonzero(self.W))\n",
    "            nZ = (float)(np.count_nonzero(model.W))\n",
    "            if nZ != 0:\n",
    "                prec = np.count_nonzero(model.W[:10])/nZ\n",
    "            else:\n",
    "                prec = 1\n",
    "            rec = np.count_nonzero(model.W[:10])/(float)(k)\n",
    "            self.precision.append(prec)\n",
    "            self.recall.append(rec)\n",
    "            oldRMSE = newRMSE\n",
    "            newRMSE = rmse(self.predict(self.X), self.Y)\n",
    "            print oldRMSE, newRMSE, oldRMSE - newRMSE\n",
    "            print 'Lamda: ', self.Lamda, 'Precision: ', prec, 'Recall:' , rec, 'RMSE: ', newRMSE\n",
    "            self.Lamda /= 2\n",
    "        self.Lamda = oldLamda\n",
    "\n",
    "def loadModel(filename):\n",
    "    return pickle.load(open(filename, \"rb\" ))"
   ]
  },
  {
   "cell_type": "code",
   "execution_count": 8,
   "metadata": {},
   "outputs": [],
   "source": [
    "model = Lasso(X, Y, W, B,initLamda(X.copy(), Y.copy()))"
   ]
  },
  {
   "cell_type": "code",
   "execution_count": 9,
   "metadata": {},
   "outputs": [
    {
     "name": "stdout",
     "output_type": "stream",
     "text": [
      "5905.17619262\n"
     ]
    }
   ],
   "source": [
    "print model.Lamda"
   ]
  },
  {
   "cell_type": "code",
   "execution_count": 10,
   "metadata": {},
   "outputs": [
    {
     "name": "stdout",
     "output_type": "stream",
     "text": [
      "Lamda:  5905.17619262\n",
      "LOSS: 249577.346964\n",
      "LOSS: 249558.469333\n",
      "LOSS: 249558.469333\n",
      "31.5948394098 31.5948394098 0.0\n",
      "Lamda:  5905.17619262 Precision:  1 Recall: 0.0 RMSE:  31.5948394098\n",
      "Lamda:  2952.58809631\n",
      "LOSS: 207160.133235\n",
      "LOSS: 206299.473594\n",
      "LOSS: 206293.427089\n",
      "LOSS: 206293.407945\n",
      "LOSS: 206293.407753\n",
      "18.9628752893 18.9628752893 0.0\n",
      "Lamda:  2952.58809631 Precision:  1.0 Recall: 1.0 RMSE:  18.9628752893\n",
      "Lamda:  1476.29404816\n",
      "LOSS: 126053.329711\n",
      "LOSS: 125687.459347\n",
      "LOSS: 125685.045485\n",
      "LOSS: 125685.038453\n",
      "LOSS: 125685.038405\n",
      "9.52178607153 9.52178607153 0.0\n",
      "Lamda:  1476.29404816 Precision:  1.0 Recall: 1.0 RMSE:  9.52178607153\n",
      "Lamda:  738.147024078\n",
      "LOSS: 68665.0059831\n",
      "LOSS: 68573.5381693\n",
      "LOSS: 68572.934702\n",
      "LOSS: 68572.9329439\n",
      "LOSS: 68572.932932\n",
      "4.8407378853 4.8407378853 0.0\n",
      "Lamda:  738.147024078 Precision:  1.0 Recall: 1.0 RMSE:  4.8407378853\n",
      "Lamda:  369.073512039\n",
      "LOSS: 35837.9182581\n",
      "LOSS: 35815.0513046\n",
      "LOSS: 35814.9004378\n",
      "LOSS: 35814.8999983\n",
      "2.57391404844 2.57391404844 0.0\n",
      "Lamda:  369.073512039 Precision:  1.0 Recall: 1.0 RMSE:  2.57391404844\n",
      "Lamda:  184.536756019\n",
      "LOSS: 18391.143109\n",
      "LOSS: 18385.426305\n",
      "LOSS: 18385.3885876\n",
      "LOSS: 18385.3884777\n",
      "1.55656646433 1.55656646433 0.0\n",
      "Lamda:  184.536756019 Precision:  1.0 Recall: 1.0 RMSE:  1.55656646433\n",
      "Lamda:  92.2683780097\n",
      "LOSS: 9408.64513155\n",
      "LOSS: 9407.30023281\n",
      "LOSS: 9407.28995597\n",
      "LOSS: 9407.28992281\n",
      "1.16606003233 1.16606003233 0.0\n",
      "Lamda:  92.2683780097 Precision:  0.909090909091 Recall: 1.0 RMSE:  1.16606003233\n",
      "Lamda:  46.1341890049\n",
      "LOSS: 4850.92037169\n",
      "LOSS: 4850.50345702\n",
      "LOSS: 4850.49864681\n",
      "LOSS: 4850.49861817\n",
      "1.03495920871 1.03495920871 0.0\n",
      "Lamda:  46.1341890049 Precision:  0.588235294118 Recall: 1.0 RMSE:  1.03495920871\n",
      "Lamda:  23.0670945024\n",
      "LOSS: 2548.10754097\n",
      "LOSS: 2547.43653166\n",
      "LOSS: 2547.36655286\n",
      "LOSS: 2547.35922646\n",
      "LOSS: 2547.35843662\n",
      "0.95396538953 0.95396538953 0.0\n",
      "Lamda:  23.0670945024 Precision:  0.243902439024 Recall: 1.0 RMSE:  0.95396538953\n",
      "Lamda:  11.5335472512\n",
      "LOSS: 1381.00002802\n",
      "LOSS: 1380.21511651\n",
      "LOSS: 1380.10750632\n",
      "LOSS: 1380.08353672\n",
      "LOSS: 1380.07841883\n",
      "LOSS: 1380.07718665\n",
      "LOSS: 1380.07686352\n",
      "0.902908645511 0.902908645511 0.0\n",
      "Lamda:  11.5335472512 Precision:  0.169491525424 Recall: 1.0 RMSE:  0.902908645511\n"
     ]
    }
   ],
   "source": [
    "model.chooseCorrectLamda()"
   ]
  },
  {
   "cell_type": "code",
   "execution_count": 62,
   "metadata": {},
   "outputs": [
    {
     "name": "stdout",
     "output_type": "stream",
     "text": [
      "Precision and Recall after training with sigma 1\n",
      "Precision:  0.135135135135\n",
      "Recall:  1.0\n"
     ]
    }
   ],
   "source": [
    "print 'Precision and Recall after training with sigma 1'\n",
    "oldPrec = np.count_nonzero(model.W[:10])/(float)(np.count_nonzero(model.W))\n",
    "print 'Precision: ', np.count_nonzero(model.W[:10])/(float)(np.count_nonzero(model.W))\n",
    "print 'Recall: ', np.count_nonzero(model.W[:10])/(float)(k) "
   ]
  },
  {
   "cell_type": "code",
   "execution_count": 12,
   "metadata": {
    "scrolled": true
   },
   "outputs": [
    {
     "data": {
      "image/png": "[encoded data removed]",
      "text/plain": [
       "<matplotlib.figure.Figure at 0x7f08bdc6ffd0>"
      ]
     },
     "metadata": {},
     "output_type": "display_data"
    }
   ],
   "source": [
    "import matplotlib.pyplot as plt\n",
    "plt.plot(model.lamdaList, model.precision)\n",
    "plt.plot(model.lamdaList, model.recall)\n",
    "plt.ylabel('Precision and Recall')\n",
    "plt.xlabel('Lamda')\n",
    "ax = plt.gca()\n",
    "ax.invert_xaxis()\n",
    "plt.legend(['Precision', 'Recall'], loc='lower left')\n",
    "plt.show()\n",
    "#plt.savefig('RMSEvsLamda.png')"
   ]
  },
  {
   "cell_type": "code",
   "execution_count": 61,
   "metadata": {},
   "outputs": [
    {
     "data": {
      "image/png": "[encoded data removed]",
      "text/plain": [
       "<matplotlib.figure.Figure at 0x7f08b2195450>"
      ]
     },
     "metadata": {},
     "output_type": "display_data"
    }
   ],
   "source": [
    "plt.plot(model.lamdaList[4:], model.precision[4:])\n",
    "plt.ylabel('Precision')\n",
    "plt.xlabel('Lamda')\n",
    "ax = plt.gca()\n",
    "ax.invert_xaxis()\n",
    "plt.legend(['Precision'], loc='lower left')\n",
    "plt.show()\n",
    "#plt.savefig('RMSEvsLamda.png')"
   ]
  },
  {
   "cell_type": "code",
   "execution_count": 16,
   "metadata": {},
   "outputs": [
    {
     "name": "stdout",
     "output_type": "stream",
     "text": [
      "59 10\n"
     ]
    }
   ],
   "source": [
    "# NON ZERO Count\n",
    "print np.count_nonzero(W), np.count_nonzero(WS)"
   ]
  },
  {
   "cell_type": "code",
   "execution_count": 21,
   "metadata": {},
   "outputs": [
    {
     "name": "stdout",
     "output_type": "stream",
     "text": [
      "11.5335472512\n",
      "Lamda:  11.5335472512\n",
      "LOSS: 390362.832835\n",
      "LOSS: 408400.572284\n",
      "Precision:  0.126582278481\n",
      "Recall:  1.0\n"
     ]
    }
   ],
   "source": [
    "print model.Lamda\n",
    "sModel = Lasso(X, Y, W, B, model.Lamda)"
   ]
  },
  {
   "cell_type": "code",
   "execution_count": 28,
   "metadata": {},
   "outputs": [
    {
     "name": "stdout",
     "output_type": "stream",
     "text": [
      "Lamda:  11.5335472512\n",
      "LOSS: 416584.173443\n",
      "Precision:  0.125\n",
      "Recall:  1.0\n",
      "Lamda:  11.5335472512\n",
      "LOSS: 421286.07371\n",
      "Precision:  0.126582278481\n",
      "Recall:  1.0\n",
      "Lamda:  11.5335472512\n",
      "LOSS: 424020.691402\n",
      "Precision:  0.128205128205\n",
      "Recall:  1.0\n",
      "Lamda:  11.5335472512\n",
      "LOSS: 425534.115428\n",
      "Precision:  0.12987012987\n",
      "Recall:  1.0\n",
      "Lamda:  11.5335472512\n",
      "LOSS: 426290.914621\n",
      "Precision:  0.131578947368\n",
      "Recall:  1.0\n",
      "Lamda:  11.5335472512\n",
      "LOSS: 426699.512485\n",
      "Precision:  0.131578947368\n",
      "Recall:  1.0\n",
      "Lamda:  11.5335472512\n",
      "LOSS: 426896.375257\n",
      "Precision:  0.135135135135\n",
      "Recall:  1.0\n",
      "Lamda:  11.5335472512\n",
      "LOSS: 426963.775912\n",
      "Precision:  0.135135135135\n",
      "Recall:  1.0\n",
      "Lamda:  11.5335472512\n",
      "LOSS: 426996.511829\n",
      "Precision:  0.135135135135\n",
      "Recall:  1.0\n",
      "Lamda:  11.5335472512\n",
      "LOSS: 427012.212356\n",
      "Precision:  0.135135135135\n",
      "Recall:  1.0\n"
     ]
    }
   ],
   "source": [
    "newPList = []\n",
    "for i in range(10):\n",
    "    sModel.fit()\n",
    "    newPrec = np.count_nonzero(sModel.W[:10])/(float)(np.count_nonzero(sModel.W))\n",
    "    newPList.append(newPrec)\n",
    "    print 'Precision: ', np.count_nonzero(sModel.W[:10])/(float)(np.count_nonzero(sModel.W))\n",
    "    print 'Recall: ', np.count_nonzero(sModel.W[:10])/(float)(k) "
   ]
  },
  {
   "cell_type": "code",
   "execution_count": 23,
   "metadata": {},
   "outputs": [
    {
     "name": "stdout",
     "output_type": "stream",
     "text": [
      "8.27963725018\n",
      "Precision:  0.126582278481\n",
      "Recall:  1.0\n"
     ]
    }
   ],
   "source": [
    "print rmse(sModel.predict(X), Y)\n",
    "print 'Precision: ', np.count_nonzero(sModel.W[:10])/(float)(np.count_nonzero(sModel.W))\n",
    "print 'Recall: ', np.count_nonzero(sModel.W[:10])/(float)(k) "
   ]
  },
  {
   "cell_type": "code",
   "execution_count": 26,
   "metadata": {},
   "outputs": [
    {
     "name": "stdout",
     "output_type": "stream",
     "text": [
      "New Precision: 0.0\n"
     ]
    }
   ],
   "source": [
    "# RMSE with new sigma: 8.27\n",
    "print 'New Precision:', float(newPrec) - float(oldPrec)"
   ]
  },
  {
   "cell_type": "code",
   "execution_count": 52,
   "metadata": {},
   "outputs": [
    {
     "data": {
      "image/png": "[encoded data removed]",
      "text/plain": [
       "<matplotlib.figure.Figure at 0x7f08b1dbde10>"
      ]
     },
     "metadata": {},
     "output_type": "display_data"
    },
    {
     "data": {
      "image/png": "[encoded data removed]",
      "text/plain": [
       "<matplotlib.figure.Figure at 0x7f08b207a2d0>"
      ]
     },
     "metadata": {},
     "output_type": "display_data"
    }
   ],
   "source": [
    "import matplotlib.pyplot as plt\n",
    "plt.plot(model.precision)\n",
    "plt.plot(newPList)\n",
    "plt.ylabel('Precision')\n",
    "plt.xlabel('Lamda')\n",
    "plt.legend(['With Sigma 1', 'With Sigma 10'], loc='upper right')\n",
    "plt.show()\n",
    "\n",
    "plt.plot(newPList)\n",
    "plt.ylabel('Precision with Sigma = 10')\n",
    "plt.xlabel('Lamda')\n",
    "plt.legend(['Precision', 'New Precision'], loc='upper left')\n",
    "plt.show()"
   ]
  },
  {
   "cell_type": "code",
   "execution_count": null,
   "metadata": {},
   "outputs": [],
   "source": []
  }
 ],
 "metadata": {
  "kernelspec": {
   "display_name": "Python 2",
   "language": "python",
   "name": "python2"
  },
  "language_info": {
   "codemirror_mode": {
    "name": "ipython",
    "version": 2
   },
   "file_extension": ".py",
   "mimetype": "text/x-python",
   "name": "python",
   "nbconvert_exporter": "python",
   "pygments_lexer": "ipython2",
   "version": "2.7.14"
  }
 },
 "nbformat": 4,
 "nbformat_minor": 2
}
