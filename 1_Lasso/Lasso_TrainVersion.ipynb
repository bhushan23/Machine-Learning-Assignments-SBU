{
 "cells": [
  {
   "cell_type": "code",
   "execution_count": 1,
   "metadata": {},
   "outputs": [],
   "source": [
    "import scipy\n",
    "import numpy as np\n",
    "import pandas as pd\n",
    "from scipy.sparse import csr_matrix\n",
    "import pickle\n",
    "import math"
   ]
  },
  {
   "cell_type": "code",
   "execution_count": 2,
   "metadata": {},
   "outputs": [],
   "source": [
    "fDF = pd.read_csv('Data/featureTypes.txt', names=['featureID'])"
   ]
  },
  {
   "cell_type": "code",
   "execution_count": 3,
   "metadata": {},
   "outputs": [
    {
     "name": "stdout",
     "output_type": "stream",
     "text": [
      "(3000, 1)\n",
      "flavors raspberries cherries\n"
     ]
    }
   ],
   "source": [
    "print fDF.shape\n",
    "print fDF['featureID'][0]\n",
    "n = 10000\n",
    "d = 3000"
   ]
  },
  {
   "cell_type": "code",
   "execution_count": 4,
   "metadata": {},
   "outputs": [
    {
     "name": "stdout",
     "output_type": "stream",
     "text": [
      "247847\n"
     ]
    }
   ],
   "source": [
    "trainDF = pd.read_csv('Data/trainData.txt', names = ['instanceID', 'featureID', 'value'], sep=' ')\n",
    "YDF = pd.read_csv('Data/trainLabels.txt', names = ['label'])\n",
    "print trainDF.shape[0]"
   ]
  },
  {
   "cell_type": "code",
   "execution_count": 5,
   "metadata": {},
   "outputs": [
    {
     "name": "stdout",
     "output_type": "stream",
     "text": [
      "(3000,)\n"
     ]
    }
   ],
   "source": [
    "W = np.random.uniform(low=0.0, high=1.0,size = (d,))\n",
    "B = np.zeros(n)\n",
    "print W.shape\n"
   ]
  },
  {
   "cell_type": "code",
   "execution_count": 6,
   "metadata": {},
   "outputs": [
    {
     "data": {
      "text/html": [
       "<div>\n",
       "<style scoped>\n",
       "    .dataframe tbody tr th:only-of-type {\n",
       "        vertical-align: middle;\n",
       "    }\n",
       "\n",
       "    .dataframe tbody tr th {\n",
       "        vertical-align: top;\n",
       "    }\n",
       "\n",
       "    .dataframe thead th {\n",
       "        text-align: right;\n",
       "    }\n",
       "</style>\n",
       "<table border=\"1\" class=\"dataframe\">\n",
       "  <thead>\n",
       "    <tr style=\"text-align: right;\">\n",
       "      <th></th>\n",
       "      <th>instanceID</th>\n",
       "      <th>featureID</th>\n",
       "      <th>value</th>\n",
       "    </tr>\n",
       "  </thead>\n",
       "  <tbody>\n",
       "    <tr>\n",
       "      <th>0</th>\n",
       "      <td>1</td>\n",
       "      <td>13</td>\n",
       "      <td>0.209</td>\n",
       "    </tr>\n",
       "    <tr>\n",
       "      <th>1</th>\n",
       "      <td>1</td>\n",
       "      <td>83</td>\n",
       "      <td>0.209</td>\n",
       "    </tr>\n",
       "    <tr>\n",
       "      <th>2</th>\n",
       "      <td>1</td>\n",
       "      <td>228</td>\n",
       "      <td>0.209</td>\n",
       "    </tr>\n",
       "    <tr>\n",
       "      <th>3</th>\n",
       "      <td>1</td>\n",
       "      <td>242</td>\n",
       "      <td>0.209</td>\n",
       "    </tr>\n",
       "    <tr>\n",
       "      <th>4</th>\n",
       "      <td>1</td>\n",
       "      <td>371</td>\n",
       "      <td>0.209</td>\n",
       "    </tr>\n",
       "  </tbody>\n",
       "</table>\n",
       "</div>"
      ],
      "text/plain": [
       "   instanceID  featureID  value\n",
       "0           1         13  0.209\n",
       "1           1         83  0.209\n",
       "2           1        228  0.209\n",
       "3           1        242  0.209\n",
       "4           1        371  0.209"
      ]
     },
     "execution_count": 6,
     "metadata": {},
     "output_type": "execute_result"
    }
   ],
   "source": [
    "trainDF[:5]"
   ]
  },
  {
   "cell_type": "code",
   "execution_count": 7,
   "metadata": {},
   "outputs": [],
   "source": [
    "#tDF = csr_matrix(trainDF) \n",
    "#print tDF[:5]"
   ]
  },
  {
   "cell_type": "code",
   "execution_count": 8,
   "metadata": {},
   "outputs": [],
   "source": [
    "#sdf = pd.SparseDataFrame(tDF)\n",
    "#print sdf[:5]"
   ]
  },
  {
   "cell_type": "code",
   "execution_count": 9,
   "metadata": {},
   "outputs": [],
   "source": [
    "# Will lead to negative index if re-running\n",
    "trainDF['instanceID'] -= 1\n",
    "trainDF['featureID'] -= 1\n",
    "sMat = csr_matrix((trainDF['value'], (trainDF['featureID'], trainDF['instanceID'])))"
   ]
  },
  {
   "cell_type": "code",
   "execution_count": 10,
   "metadata": {},
   "outputs": [],
   "source": [
    "#print sMat.shape\n",
    "#print sMat.todense()"
   ]
  },
  {
   "cell_type": "code",
   "execution_count": 11,
   "metadata": {},
   "outputs": [],
   "source": [
    "#print sMat[:2]"
   ]
  },
  {
   "cell_type": "code",
   "execution_count": 12,
   "metadata": {},
   "outputs": [],
   "source": [
    "X = sMat.copy()\n",
    "#print X"
   ]
  },
  {
   "cell_type": "code",
   "execution_count": 13,
   "metadata": {},
   "outputs": [
    {
     "name": "stdout",
     "output_type": "stream",
     "text": [
      "(10000,)\n"
     ]
    }
   ],
   "source": [
    "Y = YDF['label'].as_matrix().transpose()\n",
    "print Y.shape"
   ]
  },
  {
   "cell_type": "code",
   "execution_count": 14,
   "metadata": {},
   "outputs": [
    {
     "name": "stdout",
     "output_type": "stream",
     "text": [
      "896.6381332\n"
     ]
    }
   ],
   "source": [
    "def initLamda(X, Y):\n",
    "    YNorm = Y - float(Y.sum())/((float)(Y.shape[0]))\n",
    "    return 2 * ((X * YNorm).max())\n",
    "    \n",
    "print initLamda(X, Y)"
   ]
  },
  {
   "cell_type": "code",
   "execution_count": 15,
   "metadata": {},
   "outputs": [],
   "source": [
    "#tX = X.copy()\n",
    "#print tX\n",
    "#tX.data **= 2\n",
    "#tA = 2*tX.sum(axis = 1)\n",
    "#print max(tA), min(tA)\n",
    "#print tA"
   ]
  },
  {
   "cell_type": "code",
   "execution_count": 31,
   "metadata": {},
   "outputs": [],
   "source": [
    "# change this to convergence condition\n",
    "\n",
    "def rmse(input1, input2):\n",
    "    out = input1 - input2\n",
    "    #print out\n",
    "    out **= 2\n",
    "    out /= len(out)\n",
    "    error = out.sum()\n",
    "    return math.sqrt(error)\n",
    "\n",
    "\n",
    "class Lasso:\n",
    "    def __init__(self, X, Y, W, B, Lamda):\n",
    "        self.X = X.copy()\n",
    "        self.Y = Y.copy()\n",
    "        self.W = W #.copy()  # Remove this copy later\n",
    "        self.B = B #.copy()\n",
    "        t = X.copy()\n",
    "        t.data **= 2\n",
    "        self.A = 2*t.sum(axis = 1)\n",
    "        self.Lamda = Lamda\n",
    "    \n",
    "    def loss(self):\n",
    "        return ((self.X.transpose() * self.W + self.B - self.Y) ** 2).sum() + self.Lamda * (abs(self.W)).sum()\n",
    "        \n",
    "    \n",
    "    def fit(self):\n",
    "        Lamda = initLamda(self.X, self.Y)\n",
    "        delta = 0.001\n",
    "        #print X.shape, W.shape\n",
    "        #for epoch in range(100):\n",
    "        oldLoss = self.loss()+2\n",
    "        newLoss = self.loss()\n",
    "        while oldLoss - newLoss > delta:\n",
    "            #print sMat.transpose() * W\n",
    "            # 4.1.1\n",
    "            #print t1[:5], t1.shape\n",
    "            #print t1.shape, B.shape, Y.shape\n",
    "            XTW = (self.X.transpose() * self.W)\n",
    "            R = self.Y - (self.X.transpose() * self.W) - self.B\n",
    "             \n",
    "            # 4.1.2\n",
    "            self.B = (R + self.B) / n \n",
    "            #self.B = (self.Y - XTW) / n\n",
    "            #print B.shape\n",
    "            # 4.1.3\n",
    "            R = (n-1) * self.B\n",
    "            #R = self.Y - (XTW + self.B)\n",
    "            #print R.shape\n",
    "            #print R[:5]\n",
    "            # R = R.reshape(-1)\n",
    "            for ik in range(0, d):\n",
    "                # 4.1.4\n",
    "                #ik = 0\n",
    "                t = (self.X[ik].transpose() * self.W[ik]).toarray().reshape(-1)\n",
    "                #print t\n",
    "                #print t.shape\n",
    "                #print R.shape\n",
    "                Ck = (2 * self.X[ik] * (R + t)).sum()\n",
    "                #Ck = (2 * self.X[ik] * (self.Y - self.B - t)).sum()\n",
    "                #print Ck.sum()\n",
    "                # Update Weight\n",
    "                WkOld = self.W[ik]\n",
    "                if Ck < -Lamda:\n",
    "                    self.W[ik] = (Ck + Lamda) / self.A[ik]\n",
    "                elif Ck > Lamda:\n",
    "                    self.W[ik] = (Ck - Lamda) / self.A[ik]\n",
    "                else:\n",
    "                    self.W[ik] = 0\n",
    "                #print W[ik]\n",
    "                # 4.1.5\n",
    "                # print self.W[ik], WkOld\n",
    "                #print X[ik].toarray().reshape(-1).shape, R.shape\n",
    "                R = R + self.X[ik].toarray().reshape(-1) * (WkOld - self.W[ik])\n",
    "                #R = self.Y - (self.X.transpose() * self.W) + self.B\n",
    "            oldLoss = newLoss\n",
    "            newLoss = model.loss()\n",
    "            #print oldLoss, newLoss, oldLoss - newLoss\n",
    "            print 'LOSS:' , newLoss\n",
    "            # End of feature vector iterator\n",
    "    \n",
    "    def saveModel(self, filename):\n",
    "        pickle.dump(self, open( filename, \"wb\" ))\n",
    "    \n",
    "    def predict(self, X):\n",
    "        return (X.transpose() * self.W + self.B)\n",
    "\n",
    "def loadModel(filename):\n",
    "    return pickle.load(open(filename, \"rb\" ))"
   ]
  },
  {
   "cell_type": "code",
   "execution_count": 32,
   "metadata": {},
   "outputs": [
    {
     "name": "stdout",
     "output_type": "stream",
     "text": [
      "LOSS: 7601803.37988\n",
      "LOSS: 7422725.74642\n",
      "LOSS: 7322749.15688\n",
      "LOSS: 7259486.81062\n",
      "LOSS: 7216495.48332\n",
      "LOSS: 7183507.35544\n",
      "LOSS: 7156159.39697\n",
      "LOSS: 7133550.51279\n",
      "LOSS: 7115190.05367\n",
      "LOSS: 7101054.28015\n",
      "LOSS: 7090271.99807\n",
      "LOSS: 7081809.48935\n",
      "LOSS: 7075028.09562\n",
      "LOSS: 7069541.699\n",
      "LOSS: 7065212.51335\n",
      "LOSS: 7061904.11812\n",
      "LOSS: 7059404.70298\n",
      "LOSS: 7057470.68276\n",
      "LOSS: 7055913.70742\n",
      "LOSS: 7054630.83112\n",
      "LOSS: 7053587.11688\n",
      "LOSS: 7052751.30498\n",
      "LOSS: 7052094.94586\n",
      "LOSS: 7051587.24793\n",
      "LOSS: 7051197.94786\n",
      "LOSS: 7050897.21362\n",
      "LOSS: 7050660.85555\n",
      "LOSS: 7050472.11483\n",
      "LOSS: 7050319.31547\n",
      "LOSS: 7050195.2061\n",
      "LOSS: 7050095.4037\n",
      "LOSS: 7050016.66348\n",
      "LOSS: 7049955.93544\n",
      "LOSS: 7049909.56969\n",
      "LOSS: 7049873.9702\n",
      "LOSS: 7049846.19377\n",
      "LOSS: 7049824.03107\n",
      "LOSS: 7049806.04358\n",
      "LOSS: 7049791.41022\n",
      "LOSS: 7049779.65167\n",
      "LOSS: 7049770.36623\n",
      "LOSS: 7049763.21109\n",
      "LOSS: 7049757.73558\n",
      "LOSS: 7049753.51884\n",
      "LOSS: 7049750.21737\n",
      "LOSS: 7049747.58174\n",
      "LOSS: 7049745.45017\n",
      "LOSS: 7049743.72537\n",
      "LOSS: 7049742.34585\n",
      "LOSS: 7049741.2623\n",
      "LOSS: 7049740.42514\n",
      "LOSS: 7049739.78281\n",
      "LOSS: 7049739.28653\n",
      "LOSS: 7049738.89597\n",
      "LOSS: 7049738.58221\n",
      "LOSS: 7049738.32715\n",
      "LOSS: 7049738.12032\n",
      "LOSS: 7049737.95513\n",
      "LOSS: 7049737.82599\n",
      "LOSS: 7049737.72697\n",
      "LOSS: 7049737.65176\n",
      "LOSS: 7049737.59437\n",
      "LOSS: 7049737.54981\n",
      "LOSS: 7049737.51448\n",
      "LOSS: 7049737.48607\n",
      "LOSS: 7049737.46318\n",
      "LOSS: 7049737.44492\n",
      "LOSS: 7049737.43054\n",
      "LOSS: 7049737.41931\n",
      "LOSS: 7049737.41053\n",
      "LOSS: 7049737.40355\n",
      "LOSS: 7049737.39788\n",
      "LOSS: 7049737.39321\n",
      "LOSS: 7049737.38933\n",
      "LOSS: 7049737.38617\n",
      "LOSS: 7049737.38365\n",
      "LOSS: 7049737.38173\n",
      "LOSS: 7049737.3803\n",
      "LOSS: 7049737.37928\n",
      "LOSS: 7049737.37856\n"
     ]
    }
   ],
   "source": [
    "model = Lasso(X, Y, W, B, initLamda(X.copy(), Y.copy()))\n",
    "#model.loss()\n",
    "model.fit()"
   ]
  },
  {
   "cell_type": "code",
   "execution_count": 33,
   "metadata": {},
   "outputs": [],
   "source": [
    "model.saveModel('savedModel')"
   ]
  },
  {
   "cell_type": "code",
   "execution_count": 34,
   "metadata": {},
   "outputs": [
    {
     "name": "stdout",
     "output_type": "stream",
     "text": [
      "RMSE from loaded model:  18.3279955561\n"
     ]
    }
   ],
   "source": [
    "#dump = pickle.dumps(model)\n",
    "model2 = loadModel('savedModel')\n",
    "#model2.fit()\n",
    "print 'RMSE from loaded model: ', rmse(model2.predict(X), Y)\n"
   ]
  },
  {
   "cell_type": "code",
   "execution_count": null,
   "metadata": {},
   "outputs": [],
   "source": []
  },
  {
   "cell_type": "code",
   "execution_count": null,
   "metadata": {},
   "outputs": [],
   "source": []
  }
 ],
 "metadata": {
  "kernelspec": {
   "display_name": "Python 2",
   "language": "python",
   "name": "python2"
  },
  "language_info": {
   "codemirror_mode": {
    "name": "ipython",
    "version": 2
   },
   "file_extension": ".py",
   "mimetype": "text/x-python",
   "name": "python",
   "nbconvert_exporter": "python",
   "pygments_lexer": "ipython2",
   "version": "2.7.14"
  }
 },
 "nbformat": 4,
 "nbformat_minor": 2
}
