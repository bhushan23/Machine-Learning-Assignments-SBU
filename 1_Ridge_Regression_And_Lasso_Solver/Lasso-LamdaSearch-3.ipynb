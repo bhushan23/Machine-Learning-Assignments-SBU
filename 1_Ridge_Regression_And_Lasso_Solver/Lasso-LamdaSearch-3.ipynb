{
 "cells": [
  {
   "cell_type": "code",
   "execution_count": 1,
   "metadata": {},
   "outputs": [],
   "source": [
    "import scipy\n",
    "import numpy as np\n",
    "import pandas as pd\n",
    "from scipy.sparse import csr_matrix\n",
    "import pickle\n",
    "import math"
   ]
  },
  {
   "cell_type": "code",
   "execution_count": 2,
   "metadata": {},
   "outputs": [],
   "source": [
    "fDF = pd.read_csv('Data/featureTypes.txt', names=['featureID'])"
   ]
  },
  {
   "cell_type": "code",
   "execution_count": 3,
   "metadata": {},
   "outputs": [
    {
     "name": "stdout",
     "output_type": "stream",
     "text": [
      "(3000, 1)\n",
      "flavors raspberries cherries\n"
     ]
    }
   ],
   "source": [
    "print fDF.shape\n",
    "print fDF['featureID'][0]\n",
    "n = 10000\n",
    "d = 3000"
   ]
  },
  {
   "cell_type": "code",
   "execution_count": 4,
   "metadata": {},
   "outputs": [
    {
     "name": "stdout",
     "output_type": "stream",
     "text": [
      "247847\n"
     ]
    }
   ],
   "source": [
    "trainDF = pd.read_csv('Data/trainData.txt', names = ['instanceID', 'featureID', 'value'], sep=' ')\n",
    "YDF = pd.read_csv('Data/trainLabels.txt', names = ['label'])\n",
    "valXDF = pd.read_csv('Data/valData.txt', names = ['instanceID', 'featureID', 'value'], sep=' ')\n",
    "valYDF = pd.read_csv('Data/valLabels.txt', names = ['label'])\n",
    "print trainDF.shape[0]"
   ]
  },
  {
   "cell_type": "code",
   "execution_count": 5,
   "metadata": {},
   "outputs": [
    {
     "name": "stdout",
     "output_type": "stream",
     "text": [
      "(3000,)\n",
      "3000\n",
      "3000\n",
      "[ 0.58267494  0.51174942  0.11432714 ...,  0.58769239  0.25534512\n",
      "  0.07041882]\n"
     ]
    }
   ],
   "source": [
    "W = np.random.rand(d)  #random.uniform(low=0.0, high=1.0,size = (d,))\n",
    "B = 0 #np.zeros(n)\n",
    "TempBArray = np.ones(n)\n",
    "print W.shape\n",
    "#print TempBArray\n",
    "print np.count_nonzero(W)\n",
    "print len(W)\n",
    "print W"
   ]
  },
  {
   "cell_type": "code",
   "execution_count": 6,
   "metadata": {},
   "outputs": [
    {
     "data": {
      "text/html": [
       "<div>\n",
       "<style scoped>\n",
       "    .dataframe tbody tr th:only-of-type {\n",
       "        vertical-align: middle;\n",
       "    }\n",
       "\n",
       "    .dataframe tbody tr th {\n",
       "        vertical-align: top;\n",
       "    }\n",
       "\n",
       "    .dataframe thead th {\n",
       "        text-align: right;\n",
       "    }\n",
       "</style>\n",
       "<table border=\"1\" class=\"dataframe\">\n",
       "  <thead>\n",
       "    <tr style=\"text-align: right;\">\n",
       "      <th></th>\n",
       "      <th>instanceID</th>\n",
       "      <th>featureID</th>\n",
       "      <th>value</th>\n",
       "    </tr>\n",
       "  </thead>\n",
       "  <tbody>\n",
       "    <tr>\n",
       "      <th>0</th>\n",
       "      <td>1</td>\n",
       "      <td>13</td>\n",
       "      <td>0.209</td>\n",
       "    </tr>\n",
       "    <tr>\n",
       "      <th>1</th>\n",
       "      <td>1</td>\n",
       "      <td>83</td>\n",
       "      <td>0.209</td>\n",
       "    </tr>\n",
       "    <tr>\n",
       "      <th>2</th>\n",
       "      <td>1</td>\n",
       "      <td>228</td>\n",
       "      <td>0.209</td>\n",
       "    </tr>\n",
       "    <tr>\n",
       "      <th>3</th>\n",
       "      <td>1</td>\n",
       "      <td>242</td>\n",
       "      <td>0.209</td>\n",
       "    </tr>\n",
       "    <tr>\n",
       "      <th>4</th>\n",
       "      <td>1</td>\n",
       "      <td>371</td>\n",
       "      <td>0.209</td>\n",
       "    </tr>\n",
       "  </tbody>\n",
       "</table>\n",
       "</div>"
      ],
      "text/plain": [
       "   instanceID  featureID  value\n",
       "0           1         13  0.209\n",
       "1           1         83  0.209\n",
       "2           1        228  0.209\n",
       "3           1        242  0.209\n",
       "4           1        371  0.209"
      ]
     },
     "execution_count": 6,
     "metadata": {},
     "output_type": "execute_result"
    }
   ],
   "source": [
    "trainDF[:5]"
   ]
  },
  {
   "cell_type": "code",
   "execution_count": 7,
   "metadata": {},
   "outputs": [],
   "source": [
    "#tDF = csr_matrix(trainDF) \n",
    "#print tDF[:5]"
   ]
  },
  {
   "cell_type": "code",
   "execution_count": 8,
   "metadata": {},
   "outputs": [],
   "source": [
    "#sdf = pd.SparseDataFrame(tDF)\n",
    "#print sdf[:5]"
   ]
  },
  {
   "cell_type": "code",
   "execution_count": 9,
   "metadata": {},
   "outputs": [],
   "source": [
    "# Will lead to negative index if re-running\n",
    "trainDF['instanceID'] -= 1\n",
    "trainDF['featureID'] -= 1\n",
    "sMat = csr_matrix((trainDF['value'], (trainDF['featureID'], trainDF['instanceID'])))\n",
    "valXDF['instanceID'] -= 1\n",
    "valXDF['featureID'] -= 1\n",
    "valX = csr_matrix((valXDF['value'], (valXDF['featureID'], valXDF['instanceID'])))\n",
    "Y = YDF['label'].as_matrix().transpose()\n",
    "#print Y.shape\n",
    "valY = valYDF['label'].as_matrix().transpose()"
   ]
  },
  {
   "cell_type": "code",
   "execution_count": 10,
   "metadata": {},
   "outputs": [
    {
     "name": "stdout",
     "output_type": "stream",
     "text": [
      "0.728 0.0\n"
     ]
    }
   ],
   "source": [
    "#print sMat.shape\n",
    "#print sMat.todense()\n",
    "print sMat.max(), sMat.min()"
   ]
  },
  {
   "cell_type": "code",
   "execution_count": 11,
   "metadata": {},
   "outputs": [],
   "source": [
    "#print sMat[:2]"
   ]
  },
  {
   "cell_type": "code",
   "execution_count": 12,
   "metadata": {},
   "outputs": [
    {
     "name": "stdout",
     "output_type": "stream",
     "text": [
      "(3000, 10000)\n"
     ]
    }
   ],
   "source": [
    "X = sMat.copy()\n",
    "print X.shape"
   ]
  },
  {
   "cell_type": "code",
   "execution_count": 13,
   "metadata": {},
   "outputs": [
    {
     "name": "stdout",
     "output_type": "stream",
     "text": [
      "1\n",
      "3000\n"
     ]
    }
   ],
   "source": [
    "print len(W.nonzero())\n",
    "print len(W)"
   ]
  },
  {
   "cell_type": "code",
   "execution_count": 14,
   "metadata": {},
   "outputs": [
    {
     "name": "stdout",
     "output_type": "stream",
     "text": [
      "1271.869651\n"
     ]
    }
   ],
   "source": [
    "def initLamda(X, Y):\n",
    "    YNorm = Y - float(Y.sum())/((float)(Y.shape[0]))\n",
    "    return 2 * (abs(X * YNorm).max())\n",
    "    \n",
    "print initLamda(X, Y)"
   ]
  },
  {
   "cell_type": "code",
   "execution_count": 15,
   "metadata": {},
   "outputs": [
    {
     "name": "stdout",
     "output_type": "stream",
     "text": [
      "[[ 0.731852]\n",
      " [ 2.660682]\n",
      " [ 1.581472]\n",
      " ..., \n",
      " [ 1.564942]\n",
      " [ 2.31796 ]\n",
      " [ 1.5809  ]]\n"
     ]
    }
   ],
   "source": [
    "t = X.copy()\n",
    "t.data **= 2\n",
    "At = 2*t.sum(axis = 1)\n",
    "print At"
   ]
  },
  {
   "cell_type": "code",
   "execution_count": 16,
   "metadata": {},
   "outputs": [],
   "source": [
    "redFact = 0.1"
   ]
  },
  {
   "cell_type": "code",
   "execution_count": 17,
   "metadata": {},
   "outputs": [],
   "source": [
    "# change this to convergence condition\n",
    "\n",
    "def rmse(input1, input2):\n",
    "    out = input1 - input2\n",
    "    #print out\n",
    "    out **= 2\n",
    "    out /= len(out)\n",
    "    error = out.sum()\n",
    "    return math.sqrt(error)\n",
    "\n",
    "\n",
    "class Lasso:\n",
    "    def __init__(self, X, Y, W, B, Lamda):\n",
    "        self.X = X.copy()\n",
    "        self.Y = Y.copy()\n",
    "        self.W = W #.copy()  # Remove this copy later\n",
    "        self.B = B #.copy()\n",
    "        t = X.copy()\n",
    "        t.data **= 2\n",
    "        self.A = 2*t.sum(axis = 1)\n",
    "        self.Lamda = Lamda\n",
    "        self.delta = 0.001\n",
    "        # Stores Lamda and respective RMSE\n",
    "        self.trainrmse = []\n",
    "        self.trainlamda = []\n",
    "        self.valrmse = []\n",
    "        self.vallamda = []\n",
    "        self.NonZero = []\n",
    "        \n",
    "    def loss(self):\n",
    "        return ((self.X.transpose() * self.W + self.B - self.Y) ** 2).sum() + self.Lamda * (abs(self.W)).sum()\n",
    "        \n",
    "    def fit(self):\n",
    "        # Lamda = initLamda(self.X, self.Y)\n",
    "        \n",
    "        #print X.shape, W.shape\n",
    "        #for epoch in range(100):\n",
    "        oldLoss = self.loss()+2\n",
    "        newLoss = self.loss()\n",
    "        print 'Lamda: ', self.Lamda\n",
    "        while oldLoss - newLoss > self.delta:\n",
    "        #for i in range(1000):\n",
    "            #print sMat.transpose() * W\n",
    "            # 4.1.1\n",
    "            #print t1[:5], t1.shape\n",
    "            #print t1.shape, B.shape, Y.shape\n",
    "            XTW = (self.X.transpose() * self.W)\n",
    "            R = self.Y - (self.X.transpose() * self.W) - self.B\n",
    "            \n",
    "            # 4.1.2\n",
    "            BOld = self.B\n",
    "            self.B = np.full(n, (R + self.B).sum() / n) \n",
    "            #print self.B\n",
    "            #print self.B.shape\n",
    "            #self.B = (self.Y - XTW).sum() / n\n",
    "            #print B.shape\n",
    "            # 4.1.3\n",
    "            R =  R + BOld - self.B\n",
    "            #print 'RSHAPE', R.shape\n",
    "            #print 'R', R\n",
    "            #R = self.Y - (XTW + self.B)\n",
    "            #print R.shape\n",
    "            #print R[:5]\n",
    "            # R = R.reshape(-1)\n",
    "            for ik in range(0, d):\n",
    "                # 4.1.4\n",
    "                #ik = 0\n",
    "                t = (self.X[ik].transpose() * self.W[ik]).toarray().reshape(-1)\n",
    "                #print t\n",
    "                #print t.shape\n",
    "                #print R.shape\n",
    "                Ck = 2*( self.X[ik] * (R + t)).sum()\n",
    "                #print 'CK:', Ck\n",
    "                # Update Weight\n",
    "                WkOld = self.W[ik]\n",
    "                #print 'OW: ', WkOld\n",
    "                if Ck < -self.Lamda:\n",
    "                    self.W[ik] = (Ck + self.Lamda) / self.A[ik]\n",
    "                elif Ck > self.Lamda:\n",
    "                    self.W[ik] = (Ck - self.Lamda) / self.A[ik]\n",
    "                else:\n",
    "                    self.W[ik] = 0\n",
    "                #print 'W: ', WkOld, self.W[ik]\n",
    "                #print W[ik]\n",
    "                # 4.1.5\n",
    "                # print self.W[ik], WkOld\n",
    "                #print X[ik].toarray().reshape(-1).shape, R.shape\n",
    "                R = R + self.X[ik].toarray().reshape(-1) * (WkOld - self.W[ik])\n",
    "                #R = self.Y - (self.X.transpose() * self.W) + self.B\n",
    "            oldLoss = newLoss\n",
    "            newLoss = model.loss()\n",
    "            #print oldLoss, newLoss, oldLoss - newLoss\n",
    "            print 'LOSS:' , newLoss\n",
    "            # End of feature vector iterator\n",
    "    \n",
    "    def saveModel(self, filename):\n",
    "        pickle.dump(self, open( filename, \"wb\" ))\n",
    "    \n",
    "    def predict(self, X):\n",
    "        return (X.transpose() * self.W + np.full(X.transpose().shape[0], self.B))\n",
    "    \n",
    "    def chooseCorrectLamda(self, delta = -1):\n",
    "        oldLamda = self.Lamda\n",
    "        if delta != -1:\n",
    "            self.delta = delta\n",
    "        self.fit()\n",
    "        \n",
    "        newRMSE = rmse(self.predict(self.X), self.Y)\n",
    "        #self.TrainInfo.append([self.Lamda, newRMSE])\n",
    "        self.trainrmse.append(newRMSE)\n",
    "        self.trainlamda.append(self.Lamda)\n",
    "        valRMSE = rmse(self.predict(valX), valY)\n",
    "        self.valrmse.append(valRMSE)\n",
    "        self.vallamda.append(self.Lamda)\n",
    "        oldRMSE = valRMSE\n",
    "        #print W\n",
    "        #self.ValInfo.append([self.Lamda, valRMSE])\n",
    "        self.NonZero.append((self.W != 0.0).sum())\n",
    "        print 'Lamda: ', self.Lamda, 'RMSE: ', newRMSE, 'Val RMSE:' , valRMSE\n",
    "        \n",
    "        while valRMSE >= 1.94673083676 and self.Lamda > 2.8:\n",
    "            oldLamda = self.Lamda\n",
    "            self.Lamda -= redFact\n",
    "            self.fit()\n",
    "            oldRMSE = valRMSE\n",
    "            #self.TrainInfo.append([self.Lamda, newRMSE])\n",
    "            newRMSE = rmse(self.predict(self.X), self.Y)\n",
    "            self.trainrmse.append(newRMSE)\n",
    "            self.trainlamda.append(self.Lamda)\n",
    "            valRMSE = rmse(self.predict(valX), valY)\n",
    "            #self.ValInfo.append([self.Lamda, valRMSE])\n",
    "            self.valrmse.append(valRMSE)\n",
    "            self.vallamda.append(self.Lamda)\n",
    "            self.NonZero.append(np.count_nonzero(self.W))\n",
    "            #self.NonZero.append(self.W.toarray().count_nonzero())\n",
    "            print 'Lamda: ', self.Lamda, 'RMSE: ', newRMSE, 'Val RMSE:' , valRMSE\n",
    "            self.saveModel('optimal_saved_Model')\n",
    "            \n",
    "    \n",
    "def loadModel(filename):\n",
    "    return pickle.load(open(filename, \"rb\" ))"
   ]
  },
  {
   "cell_type": "code",
   "execution_count": 18,
   "metadata": {},
   "outputs": [],
   "source": [
    "model = Lasso(X, Y, W, B, 3) #initLamda(X.copy(), Y.copy()))\n",
    "#model.loss()\n",
    "#model.fit()"
   ]
  },
  {
   "cell_type": "code",
   "execution_count": 19,
   "metadata": {},
   "outputs": [
    {
     "name": "stdout",
     "output_type": "stream",
     "text": [
      "3\n"
     ]
    }
   ],
   "source": [
    "print model.Lamda"
   ]
  },
  {
   "cell_type": "code",
   "execution_count": 20,
   "metadata": {},
   "outputs": [
    {
     "name": "stdout",
     "output_type": "stream",
     "text": [
      "Lamda:  3\n",
      "LOSS: 53269.1962343\n",
      "LOSS: 38871.8566748\n",
      "LOSS: 36554.7541936\n",
      "LOSS: 35907.6340522\n",
      "LOSS: 35669.4808321\n",
      "LOSS: 35565.4195014\n",
      "LOSS: 35511.9434556\n",
      "LOSS: 35478.5745662\n",
      "LOSS: 35452.4018023\n",
      "LOSS: 35428.9806017\n",
      "LOSS: 35407.5009913\n",
      "LOSS: 35387.1110179\n",
      "LOSS: 35367.2926526\n",
      "LOSS: 35347.7184139\n",
      "LOSS: 35328.1718088\n",
      "LOSS: 35308.497937\n",
      "LOSS: 35288.5132767\n",
      "LOSS: 35268.0793061\n",
      "LOSS: 35247.0985055\n",
      "LOSS: 35225.6180971\n",
      "LOSS: 35203.6407452\n",
      "LOSS: 35181.2904933\n",
      "LOSS: 35158.7594197\n",
      "LOSS: 35136.2874694\n",
      "LOSS: 35114.1068367\n",
      "LOSS: 35092.4274881\n",
      "LOSS: 35071.6095228\n",
      "LOSS: 35051.9029924\n",
      "LOSS: 35033.3950647\n",
      "LOSS: 35016.1071029\n",
      "LOSS: 34999.9972368\n",
      "LOSS: 34985.0213194\n",
      "LOSS: 34971.1108447\n",
      "LOSS: 34958.2047029\n",
      "LOSS: 34946.2292251\n",
      "LOSS: 34935.1377416\n",
      "LOSS: 34924.855624\n",
      "LOSS: 34915.2896124\n",
      "LOSS: 34906.3723599\n",
      "LOSS: 34898.0379287\n",
      "LOSS: 34890.2232364\n",
      "LOSS: 34882.8726675\n",
      "LOSS: 34875.9500297\n",
      "LOSS: 34869.4467601\n",
      "LOSS: 34863.331331\n",
      "LOSS: 34857.5688261\n",
      "LOSS: 34852.13237\n",
      "LOSS: 34846.9996275\n",
      "LOSS: 34842.1524709\n",
      "LOSS: 34837.584354\n",
      "LOSS: 34833.2686248\n",
      "LOSS: 34829.1899826\n",
      "LOSS: 34825.3342768\n",
      "LOSS: 34821.6902809\n",
      "LOSS: 34818.2460685\n",
      "LOSS: 34814.9892346\n",
      "LOSS: 34811.9022868\n",
      "LOSS: 34808.975735\n",
      "LOSS: 34806.1947025\n",
      "LOSS: 34803.5613463\n",
      "LOSS: 34801.0688866\n",
      "LOSS: 34798.7096919\n",
      "LOSS: 34796.4788852\n",
      "LOSS: 34794.3670639\n",
      "LOSS: 34792.3678804\n",
      "LOSS: 34790.4806047\n",
      "LOSS: 34788.694493\n",
      "LOSS: 34787.0056752\n",
      "LOSS: 34785.4093228\n",
      "LOSS: 34783.9009633\n",
      "LOSS: 34782.4770128\n",
      "LOSS: 34781.1339713\n",
      "LOSS: 34779.8683472\n",
      "LOSS: 34778.6761595\n",
      "LOSS: 34777.5532227\n",
      "LOSS: 34776.4953325\n",
      "LOSS: 34775.4980102\n",
      "LOSS: 34774.5560755\n",
      "LOSS: 34773.6658592\n",
      "LOSS: 34772.8234972\n",
      "LOSS: 34772.0257337\n",
      "LOSS: 34771.2693691\n",
      "LOSS: 34770.5514901\n",
      "LOSS: 34769.8694875\n",
      "LOSS: 34769.2210392\n",
      "LOSS: 34768.6040771\n",
      "LOSS: 34768.0168724\n",
      "LOSS: 34767.4578983\n",
      "LOSS: 34766.9258003\n",
      "LOSS: 34766.4193992\n",
      "LOSS: 34765.937607\n",
      "LOSS: 34765.4792905\n",
      "LOSS: 34765.0435311\n",
      "LOSS: 34764.6294213\n",
      "LOSS: 34764.2360782\n",
      "LOSS: 34763.8627181\n",
      "LOSS: 34763.5084306\n",
      "LOSS: 34763.1723654\n",
      "LOSS: 34762.8536987\n",
      "LOSS: 34762.5516437\n",
      "LOSS: 34762.2654541\n",
      "LOSS: 34761.9943688\n",
      "LOSS: 34761.7376388\n",
      "LOSS: 34761.4945299\n",
      "LOSS: 34761.2643281\n",
      "LOSS: 34761.0464125\n",
      "LOSS: 34760.8401296\n",
      "LOSS: 34760.6449377\n",
      "LOSS: 34760.4601964\n",
      "LOSS: 34760.2852968\n",
      "LOSS: 34760.1196503\n",
      "LOSS: 34759.9627035\n",
      "LOSS: 34759.8139456\n",
      "LOSS: 34759.6729055\n",
      "LOSS: 34759.5391474\n",
      "LOSS: 34759.4122662\n",
      "LOSS: 34759.2918796\n",
      "LOSS: 34759.1776277\n",
      "LOSS: 34759.0691803\n",
      "LOSS: 34758.966221\n",
      "LOSS: 34758.8684495\n",
      "LOSS: 34758.7755815\n",
      "LOSS: 34758.687349\n",
      "LOSS: 34758.6034997\n",
      "LOSS: 34758.5237969\n",
      "LOSS: 34758.4480188\n",
      "LOSS: 34758.375958\n",
      "LOSS: 34758.3074208\n",
      "LOSS: 34758.2422259\n",
      "LOSS: 34758.1802043\n",
      "LOSS: 34758.1211974\n",
      "LOSS: 34758.0650567\n",
      "LOSS: 34758.0116424\n",
      "LOSS: 34757.9608229\n",
      "LOSS: 34757.9124733\n",
      "LOSS: 34757.866476\n",
      "LOSS: 34757.8227191\n",
      "LOSS: 34757.7810975\n",
      "LOSS: 34757.7415012\n",
      "LOSS: 34757.7038016\n",
      "LOSS: 34757.6679147\n",
      "LOSS: 34757.6337583\n",
      "LOSS: 34757.6012533\n",
      "LOSS: 34757.5703255\n",
      "LOSS: 34757.5409029\n",
      "LOSS: 34757.5129159\n",
      "LOSS: 34757.486297\n",
      "LOSS: 34757.4609817\n",
      "LOSS: 34757.4369075\n",
      "LOSS: 34757.4140142\n",
      "LOSS: 34757.3922442\n",
      "LOSS: 34757.3715424\n",
      "LOSS: 34757.3518563\n",
      "LOSS: 34757.3331359\n",
      "LOSS: 34757.3153337\n",
      "LOSS: 34757.2984043\n",
      "LOSS: 34757.2823047\n",
      "LOSS: 34757.2669941\n",
      "LOSS: 34757.2524336\n",
      "LOSS: 34757.2385862\n",
      "LOSS: 34757.2254169\n",
      "LOSS: 34757.2128924\n",
      "LOSS: 34757.200981\n",
      "LOSS: 34757.1896525\n",
      "LOSS: 34757.1788785\n",
      "LOSS: 34757.1686317\n",
      "LOSS: 34757.1588863\n",
      "LOSS: 34757.1496179\n",
      "LOSS: 34757.1408029\n",
      "LOSS: 34757.1324193\n",
      "LOSS: 34757.1244459\n",
      "LOSS: 34757.1168627\n",
      "LOSS: 34757.1096506\n",
      "LOSS: 34757.1027915\n",
      "LOSS: 34757.0962681\n",
      "LOSS: 34757.0900633\n",
      "LOSS: 34757.0841616\n",
      "LOSS: 34757.078548\n",
      "LOSS: 34757.0732089\n",
      "LOSS: 34757.0681308\n",
      "LOSS: 34757.0633013\n",
      "LOSS: 34757.0587085\n",
      "LOSS: 34757.0543412\n",
      "LOSS: 34757.0501883\n",
      "LOSS: 34757.0462397\n",
      "LOSS: 34757.0424854\n",
      "LOSS: 34757.0389161\n",
      "LOSS: 34757.0355231\n",
      "LOSS: 34757.0322976\n",
      "LOSS: 34757.0292316\n",
      "LOSS: 34757.0263172\n",
      "LOSS: 34757.0235471\n",
      "LOSS: 34757.0209141\n",
      "LOSS: 34757.0184114\n",
      "LOSS: 34757.0160328\n",
      "LOSS: 34757.0137719\n",
      "LOSS: 34757.0116231\n",
      "LOSS: 34757.0095807\n",
      "LOSS: 34757.0076394\n",
      "LOSS: 34757.0057943\n",
      "LOSS: 34757.0040405\n",
      "LOSS: 34757.0023736\n",
      "LOSS: 34757.0007893\n",
      "LOSS: 34756.9992833\n",
      "LOSS: 34756.9978519\n",
      "LOSS: 34756.9964914\n",
      "LOSS: 34756.9951982\n",
      "LOSS: 34756.993969\n",
      "LOSS: 34756.9928007\n",
      "LOSS: 34756.9916901\n",
      "LOSS: 34756.9906346\n",
      "LOSS: 34756.9896313\n",
      "LOSS: 34756.9886776\n",
      "Lamda:  3 RMSE:  1.60941651573 Val RMSE: 1.94699541505\n",
      "Lamda:  2.9\n",
      "LOSS: 34459.5523594\n",
      "LOSS: 34459.2069736\n",
      "LOSS: 34459.1301256\n",
      "LOSS: 34459.1005986\n",
      "LOSS: 34459.0835147\n",
      "LOSS: 34459.0702373\n",
      "LOSS: 34459.0580554\n",
      "LOSS: 34459.0459801\n",
      "LOSS: 34459.0336409\n",
      "LOSS: 34459.0209396\n",
      "LOSS: 34459.0079201\n",
      "LOSS: 34458.99469\n",
      "LOSS: 34458.9813836\n",
      "LOSS: 34458.9681409\n",
      "LOSS: 34458.9550936\n",
      "LOSS: 34458.9423541\n",
      "LOSS: 34458.9300121\n",
      "LOSS: 34458.9181321\n",
      "LOSS: 34458.9067511\n",
      "LOSS: 34458.8958904\n",
      "LOSS: 34458.8855536\n",
      "LOSS: 34458.875733\n",
      "LOSS: 34458.8664131\n",
      "LOSS: 34458.8575741\n",
      "LOSS: 34458.8491961\n",
      "LOSS: 34458.8412567\n",
      "LOSS: 34458.833733\n",
      "LOSS: 34458.8266029\n",
      "LOSS: 34458.8198452\n",
      "LOSS: 34458.81344\n",
      "LOSS: 34458.8073681\n",
      "LOSS: 34458.8016114\n",
      "LOSS: 34458.7961523\n",
      "LOSS: 34458.7909742\n",
      "LOSS: 34458.7860611\n",
      "LOSS: 34458.7813982\n",
      "LOSS: 34458.7769714\n",
      "LOSS: 34458.7727674\n",
      "LOSS: 34458.7687737\n",
      "LOSS: 34458.7649786\n",
      "LOSS: 34458.7613714\n",
      "LOSS: 34458.7579416\n",
      "LOSS: 34458.7546798\n",
      "LOSS: 34458.7515771\n",
      "LOSS: 34458.7486251\n",
      "LOSS: 34458.7458168\n",
      "LOSS: 34458.7431446\n",
      "LOSS: 34458.7406017\n",
      "LOSS: 34458.7381817\n",
      "LOSS: 34458.7358787\n",
      "LOSS: 34458.7336872\n",
      "LOSS: 34458.7316018\n",
      "LOSS: 34458.7296175\n",
      "LOSS: 34458.7277295\n",
      "LOSS: 34458.7259332\n",
      "LOSS: 34458.7242244\n",
      "LOSS: 34458.7225989\n",
      "LOSS: 34458.7210526\n",
      "LOSS: 34458.7195819\n",
      "LOSS: 34458.7181831\n",
      "LOSS: 34458.7168527\n",
      "LOSS: 34458.7155875\n",
      "LOSS: 34458.7143843\n",
      "LOSS: 34458.7132401\n",
      "LOSS: 34458.7121521\n",
      "LOSS: 34458.7111174\n",
      "LOSS: 34458.7101335\n",
      "Lamda:  2.9 RMSE:  1.60388501683 Val RMSE: 1.94672165377\n"
     ]
    }
   ],
   "source": [
    "#model.Lamda = 2.48\n",
    "model.chooseCorrectLamda()"
   ]
  },
  {
   "cell_type": "code",
   "execution_count": 21,
   "metadata": {},
   "outputs": [],
   "source": [
    "#model.Lamda = 2.2\n",
    "#model.chooseCorrectLamda()"
   ]
  },
  {
   "cell_type": "code",
   "execution_count": 22,
   "metadata": {},
   "outputs": [
    {
     "data": {
      "image/png": "[encoded data removed]",
      "text/plain": [
       "<matplotlib.figure.Figure at 0x7f54710fcd10>"
      ]
     },
     "metadata": {},
     "output_type": "display_data"
    }
   ],
   "source": [
    "import matplotlib.pyplot as plt\n",
    "plt.plot(model.trainlamda, model.trainrmse)\n",
    "plt.plot(model.vallamda, model.valrmse)\n",
    "plt.ylabel('RMSE')\n",
    "plt.xlabel('Lamda')\n",
    "ax = plt.gca()\n",
    "ax.invert_xaxis()\n",
    "plt.legend(['Train', 'Validation'], loc='upper right')\n",
    "plt.show()\n",
    "#plt.savefig('RMSEvsLamda.png')"
   ]
  },
  {
   "cell_type": "code",
   "execution_count": 24,
   "metadata": {},
   "outputs": [
    {
     "data": {
      "image/png": "[encoded data removed]",
      "text/plain": [
       "<matplotlib.figure.Figure at 0x7f8f070704d0>"
      ]
     },
     "metadata": {},
     "output_type": "display_data"
    },
    {
     "name": "stdout",
     "output_type": "stream",
     "text": [
      "[0, 6, 17, 46, 113, 229, 414, 724, 1194, 1795, 2251]\n",
      "2251\n"
     ]
    }
   ],
   "source": [
    "import matplotlib.pyplot as plt\n",
    "plt.plot(model.NonZero)\n",
    "plt.ylabel('Non Zero')\n",
    "plt.xlabel('Iterations')\n",
    "#plt.legend(['Train', 'Validation'], loc='upper right')\n",
    "plt.show()\n",
    "print model.NonZero\n",
    "print np.count_nonzero(model.W)\n",
    "#plt.savefig('NonZeroElements.png')"
   ]
  },
  {
   "cell_type": "code",
   "execution_count": 21,
   "metadata": {},
   "outputs": [],
   "source": [
    "model.saveModel('savedModeltill3')"
   ]
  },
  {
   "cell_type": "code",
   "execution_count": 23,
   "metadata": {},
   "outputs": [
    {
     "name": "stdout",
     "output_type": "stream",
     "text": [
      "1.94672165377\n",
      "83.1728870133\n",
      "[ 91.39059689  92.86065898  87.60289719 ...,  91.57614772  88.28201764\n",
      "  91.24482434]\n",
      "[92 90 86 ..., 92 89 88]\n"
     ]
    }
   ],
   "source": [
    "#print model.lamda\n",
    "print rmse(model.predict(valX), valY)\n",
    "print rmse(X.transpose() * model.W, valY)\n",
    "print model.predict(valX)\n",
    "print valY"
   ]
  },
  {
   "cell_type": "code",
   "execution_count": 28,
   "metadata": {},
   "outputs": [
    {
     "name": "stdout",
     "output_type": "stream",
     "text": [
      "[ 105.71206656   85.54415933   87.60385796 ...,   87.82942353   87.01643808\n",
      "   85.78716094]\n"
     ]
    }
   ],
   "source": [
    "testXDF = pd.read_csv('Data/testData.txt', names = ['instanceID', 'featureID', 'value'], sep=' ')\n",
    "testX = csr_matrix((valXDF['value'], (valXDF['featureID'], valXDF['instanceID'])))\n",
    "testPredicted = model.predict(testX)\n",
    "print testPredicted\n",
    "np.savetxt(\"out3.csv\", testPredicted, delimiter=\",\")\n",
    "#testPredicted.to_csv('out.csv')"
   ]
  },
  {
   "cell_type": "code",
   "execution_count": null,
   "metadata": {},
   "outputs": [],
   "source": [
    "# Mixture\n",
    "bigData = (X + valX) / 2\n"
   ]
  },
  {
   "cell_type": "code",
   "execution_count": 56,
   "metadata": {},
   "outputs": [
    {
     "data": {
      "image/png": "[encoded data removed]",
      "text/plain": [
       "<matplotlib.figure.Figure at 0x7f8f12803110>"
      ]
     },
     "metadata": {},
     "output_type": "display_data"
    }
   ],
   "source": [
    "#loadedModel = loadModel('./finalData/savedModel')\n",
    "#plt.plot(loadedModel.NonZero)\n",
    "#plt.ylabel('Non Zero')\n",
    "#plt.xlabel('Iterations')\n",
    "#plt.show()"
   ]
  },
  {
   "cell_type": "code",
   "execution_count": 71,
   "metadata": {},
   "outputs": [
    {
     "name": "stdout",
     "output_type": "stream",
     "text": [
      "[ 0.          3.70430265  5.27646819 ..., -0.17621468  0.91925534\n",
      "  1.82692104]\n",
      "8.76831112942\n",
      "11.2180665852\n"
     ]
    }
   ],
   "source": [
    "#print loadedModel.W\n",
    "#WLoaded = list(loadedModel.W)\n",
    "#sorted(range(len(WLoaded)), key=lambda i: WLoaded[i])[-10:]\n",
    "#print WLoaded[2468]\n",
    "#print max(WLoaded)"
   ]
  },
  {
   "cell_type": "code",
   "execution_count": null,
   "metadata": {},
   "outputs": [],
   "source": []
  },
  {
   "cell_type": "code",
   "execution_count": 1,
   "metadata": {},
   "outputs": [],
   "source": [
    "#print loadedModel.trainlamda[1:]\n",
    "#print loadedModel.trainrmse.shape\n",
    "#plt.plot(loadedModel.trainlamda[1:], loadedModel.trainrmse)\n",
    "#plt.plot(loadedModel.vallamda[1:], loadedModel.valrmse)\n",
    "#lt.ylabel('RMSE')\n",
    "#plt.xlabel('Lamda')\n",
    "#ax = plt.gca()\n",
    "##ax.invert_xaxis()\n",
    "##plt.legend(['Train', 'Validation'], loc='upper right')\n",
    "#plt.show()"
   ]
  },
  {
   "cell_type": "code",
   "execution_count": 25,
   "metadata": {},
   "outputs": [
    {
     "data": {
      "text/plain": [
       "2.9"
      ]
     },
     "execution_count": 25,
     "metadata": {},
     "output_type": "execute_result"
    }
   ],
   "source": [
    "model.Lamda"
   ]
  },
  {
   "cell_type": "code",
   "execution_count": 24,
   "metadata": {},
   "outputs": [],
   "source": [
    "valModel = Lasso(valX, valY, W, B, model.Lamda)\n"
   ]
  },
  {
   "cell_type": "code",
   "execution_count": 26,
   "metadata": {},
   "outputs": [
    {
     "name": "stdout",
     "output_type": "stream",
     "text": [
      "Lamda:  2.9\n",
      "LOSS: 45146.9132038\n",
      "LOSS: 46021.4850961\n"
     ]
    }
   ],
   "source": [
    "#valModel.Lamda = 2.4466\n",
    "\n",
    "valModel.fit()"
   ]
  },
  {
   "cell_type": "code",
   "execution_count": 3,
   "metadata": {},
   "outputs": [],
   "source": [
    "#print model.lamda\n",
    "#print rmse(model.predict(valX), valY)\n",
    "#print rmse(X.transpose() * model.W, valY)\n",
    "#print model.predict(valX)\n",
    "#print valY\n",
    "#print rmse(valY, (valModel.X.transpose() * valModel.W) + np.full(valModel.X.transpose().shape[0], valModel.B[0]))\n",
    "#print rmse(Y, (X.transpose() * valModel.W) + np.full(X.transpose().shape[0], valModel.B[0]))\n"
   ]
  },
  {
   "cell_type": "code",
   "execution_count": 27,
   "metadata": {},
   "outputs": [
    {
     "name": "stdout",
     "output_type": "stream",
     "text": [
      "1.60860363394\n",
      "1.92251457265\n"
     ]
    }
   ],
   "source": [
    "#print model.lamda\n",
    "#print rmse(model.predict(valX), valY)\n",
    "#print rmse(X.transpose() * model.W, valY)\n",
    "##print model.predict(valX)\n",
    "#print valY\n",
    "print rmse(valY, (valModel.X.transpose() * valModel.W) + np.full(valModel.X.transpose().shape[0], valModel.B[0]))\n",
    "print rmse(Y, (X.transpose() * valModel.W) + np.full(X.transpose().shape[0], valModel.B[0]))\n"
   ]
  },
  {
   "cell_type": "code",
   "execution_count": null,
   "metadata": {},
   "outputs": [],
   "source": []
  },
  {
   "cell_type": "code",
   "execution_count": 43,
   "metadata": {},
   "outputs": [
    {
     "name": "stdout",
     "output_type": "stream",
     "text": [
      "3000\n",
      "[ 83.02883713  90.73658781  82.728051   ...,  88.27508323  87.98656016\n",
      "  87.20594529]\n"
     ]
    }
   ],
   "source": [
    "testXDF = pd.read_csv('Data/testData.txt', names = ['instanceID', 'featureID', 'value'], sep=' ')\n",
    "#testXDF['instanceID'] -= 1\n",
    "testXDF['featureID'] -= 1\n",
    "testX = csr_matrix((testXDF['value'], (testXDF['featureID'], testXDF['instanceID'])))\n",
    "print testX.shape[0]\n",
    "testPredicted = (testX.transpose() * valModel.W) + np.full(testX.transpose().shape[0], valModel.B[0])\n",
    "#np.full(X.transpose().shape[0], self.B)\n",
    "#testPredicted = valModel.predict(testX)\n",
    "print testPredicted\n",
    "np.savetxt(\"out4.csv\", testPredicted, delimiter=\",\")"
   ]
  },
  {
   "cell_type": "code",
   "execution_count": 78,
   "metadata": {},
   "outputs": [
    {
     "data": {
      "text/plain": [
       "Lasso(alpha=0.1, copy_X=True, fit_intercept=True, max_iter=1000,\n",
       "   normalize=False, positive=False, precompute=False, random_state=None,\n",
       "   selection='cyclic', tol=0.0001, warm_start=False)"
      ]
     },
     "execution_count": 78,
     "metadata": {},
     "output_type": "execute_result"
    }
   ],
   "source": [
    "#from sklearn import linear_model\n",
    "#clf = linear_model.Lasso(alpha=0.1)\n",
    "#clf.fit(valX.transpose(), valY)"
   ]
  },
  {
   "cell_type": "code",
   "execution_count": 80,
   "metadata": {},
   "outputs": [
    {
     "name": "stdout",
     "output_type": "stream",
     "text": [
      "(10000,)\n",
      "3.38956530546\n"
     ]
    }
   ],
   "source": [
    "#print clf.predict(valX.transpose()).shape\n",
    "#print rmse(valY, clf.predict(valX.transpose()))"
   ]
  },
  {
   "cell_type": "code",
   "execution_count": 39,
   "metadata": {},
   "outputs": [],
   "source": [
    "t1 = pd.read_csv('./out1.csv', sep=',')\n",
    "t2 = pd.read_csv('./out2.csv', sep=',')\n",
    "t3 = pd.read_csv('./out3.csv', sep=',')\n",
    "t4 = pd.read_csv('./out4.csv', sep=',')\n",
    "\n",
    "#print t1"
   ]
  },
  {
   "cell_type": "code",
   "execution_count": 42,
   "metadata": {},
   "outputs": [
    {
     "name": "stdout",
     "output_type": "stream",
     "text": [
      "0.609417268055\n",
      "4.1856067531\n",
      "3.99020762352\n",
      "4.04321606822\n"
     ]
    }
   ],
   "source": [
    "print rmse(t1['Points'], t2['Points'])\n",
    "print rmse(t2['Points'], t4['Points'])\n",
    "print rmse(t3['Points'], t4['Points'])\n",
    "print rmse(t1['Points'], t4['Points'])"
   ]
  },
  {
   "cell_type": "code",
   "execution_count": null,
   "metadata": {},
   "outputs": [],
   "source": []
  }
 ],
 "metadata": {
  "kernelspec": {
   "display_name": "Python 2",
   "language": "python",
   "name": "python2"
  },
  "language_info": {
   "codemirror_mode": {
    "name": "ipython",
    "version": 2
   },
   "file_extension": ".py",
   "mimetype": "text/x-python",
   "name": "python",
   "nbconvert_exporter": "python",
   "pygments_lexer": "ipython2",
   "version": "2.7.14"
  }
 },
 "nbformat": 4,
 "nbformat_minor": 2
}
